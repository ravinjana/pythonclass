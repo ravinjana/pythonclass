{
 "cells": [
  {
   "cell_type": "code",
   "execution_count": 1,
   "id": "5846c83b",
   "metadata": {},
   "outputs": [],
   "source": [
    "# try:\n",
    "    # pass\n",
    "#excep:\n",
    "    # pass"
   ]
  },
  {
   "cell_type": "code",
   "execution_count": 4,
   "id": "4e3141aa",
   "metadata": {},
   "outputs": [
    {
     "name": "stdout",
     "output_type": "stream",
     "text": [
      "Enter age =ten\n",
      "should be in number\n"
     ]
    }
   ],
   "source": [
    "try:\n",
    "    age = int(input('Enter age ='))\n",
    "except:\n",
    "    \n",
    "    print('should be in number')"
   ]
  },
  {
   "cell_type": "code",
   "execution_count": null,
   "id": "9b39af35",
   "metadata": {},
   "outputs": [],
   "source": []
  },
  {
   "cell_type": "code",
   "execution_count": 6,
   "id": "1b2891c2",
   "metadata": {},
   "outputs": [
    {
     "name": "stdout",
     "output_type": "stream",
     "text": [
      "Enter a =10\n",
      "Enter b =10\n",
      "1.0\n"
     ]
    }
   ],
   "source": [
    "try:\n",
    "    a = int(input('Enter a ='))\n",
    "    b= int(input('Enter b ='))\n",
    "    c = a/b\n",
    "    print(c)\n",
    "    \n",
    "except:\n",
    "    print('There might be error')\n",
    "    "
   ]
  },
  {
   "cell_type": "code",
   "execution_count": null,
   "id": "25c03959",
   "metadata": {},
   "outputs": [
    {
     "name": "stdout",
     "output_type": "stream",
     "text": [
      "Enter a =fsfsf\n",
      "There might be error\n"
     ]
    }
   ],
   "source": [
    "# Multple trying ko lagi\n",
    "\n",
    "def cal():\n",
    "    try:\n",
    "        a = int(input('Enter a =')) # if aru kunai mistake vayo vane...except ko message print hunxa..if user le number type garyo vane fer arko number magxa r...message print garxa\n",
    "        b= int(input('Enter b ='))\n",
    "        c = a/b\n",
    "        print(c)\n",
    "    \n",
    "    except:\n",
    "        print('There might be error')\n",
    "        cal()\n",
    "cal()"
   ]
  },
  {
   "cell_type": "code",
   "execution_count": 1,
   "id": "d17e070f",
   "metadata": {},
   "outputs": [
    {
     "name": "stdout",
     "output_type": "stream",
     "text": [
      "Enter a =10\n",
      "Enter b =2\n",
      "5.0\n"
     ]
    }
   ],
   "source": [
    "c = 0\n",
    "def cal():\n",
    "    global c\n",
    "    try:\n",
    "        a = int(input('Enter a =')) \n",
    "        b = int(input('Enter b ='))\n",
    "        d = a/b\n",
    "        print(d)\n",
    "    \n",
    "    except:\n",
    "        print('There might be error')\n",
    "        c =c+1\n",
    "        if c<3:\n",
    "            cal()\n",
    "        else:\n",
    "            print(\"3 attempts has lost\")\n",
    "cal()"
   ]
  },
  {
   "cell_type": "code",
   "execution_count": 5,
   "id": "8dd9b5d1",
   "metadata": {},
   "outputs": [
    {
     "name": "stdout",
     "output_type": "stream",
     "text": [
      "Enter a =fss\n",
      "There might be error\n"
     ]
    },
    {
     "ename": "UnboundLocalError",
     "evalue": "local variable 'c' referenced before assignment",
     "output_type": "error",
     "traceback": [
      "\u001b[1;31m---------------------------------------------------------------------------\u001b[0m",
      "\u001b[1;31mValueError\u001b[0m                                Traceback (most recent call last)",
      "\u001b[1;32mC:\\Users\\RDAHAL~1.SCI\\AppData\\Local\\Temp/ipykernel_13612/871091249.py\u001b[0m in \u001b[0;36mcal\u001b[1;34m()\u001b[0m\n\u001b[0;32m      5\u001b[0m     \u001b[1;32mtry\u001b[0m\u001b[1;33m:\u001b[0m\u001b[1;33m\u001b[0m\u001b[1;33m\u001b[0m\u001b[0m\n\u001b[1;32m----> 6\u001b[1;33m         \u001b[0ma\u001b[0m \u001b[1;33m=\u001b[0m \u001b[0mint\u001b[0m\u001b[1;33m(\u001b[0m\u001b[0minput\u001b[0m\u001b[1;33m(\u001b[0m\u001b[1;34m'Enter a ='\u001b[0m\u001b[1;33m)\u001b[0m\u001b[1;33m)\u001b[0m\u001b[1;33m\u001b[0m\u001b[1;33m\u001b[0m\u001b[0m\n\u001b[0m\u001b[0;32m      7\u001b[0m         \u001b[0mb\u001b[0m \u001b[1;33m=\u001b[0m \u001b[0mint\u001b[0m\u001b[1;33m(\u001b[0m\u001b[0minput\u001b[0m\u001b[1;33m(\u001b[0m\u001b[1;34m'Enter b ='\u001b[0m\u001b[1;33m)\u001b[0m\u001b[1;33m)\u001b[0m\u001b[1;33m\u001b[0m\u001b[1;33m\u001b[0m\u001b[0m\n",
      "\u001b[1;31mValueError\u001b[0m: invalid literal for int() with base 10: 'fss'",
      "\nDuring handling of the above exception, another exception occurred:\n",
      "\u001b[1;31mUnboundLocalError\u001b[0m                         Traceback (most recent call last)",
      "\u001b[1;32mC:\\Users\\RDAHAL~1.SCI\\AppData\\Local\\Temp/ipykernel_13612/871091249.py\u001b[0m in \u001b[0;36m<module>\u001b[1;34m\u001b[0m\n\u001b[0;32m     16\u001b[0m         \u001b[1;32melse\u001b[0m\u001b[1;33m:\u001b[0m\u001b[1;33m\u001b[0m\u001b[1;33m\u001b[0m\u001b[0m\n\u001b[0;32m     17\u001b[0m             \u001b[0mprint\u001b[0m\u001b[1;33m(\u001b[0m\u001b[1;34m\"3 attempts has lost\"\u001b[0m\u001b[1;33m)\u001b[0m\u001b[1;33m\u001b[0m\u001b[1;33m\u001b[0m\u001b[0m\n\u001b[1;32m---> 18\u001b[1;33m \u001b[0mcal\u001b[0m\u001b[1;33m(\u001b[0m\u001b[1;33m)\u001b[0m\u001b[1;33m\u001b[0m\u001b[1;33m\u001b[0m\u001b[0m\n\u001b[0m",
      "\u001b[1;32mC:\\Users\\RDAHAL~1.SCI\\AppData\\Local\\Temp/ipykernel_13612/871091249.py\u001b[0m in \u001b[0;36mcal\u001b[1;34m()\u001b[0m\n\u001b[0;32m     11\u001b[0m     \u001b[1;32mexcept\u001b[0m\u001b[1;33m:\u001b[0m\u001b[1;33m\u001b[0m\u001b[1;33m\u001b[0m\u001b[0m\n\u001b[0;32m     12\u001b[0m         \u001b[0mprint\u001b[0m\u001b[1;33m(\u001b[0m\u001b[1;34m'There might be error'\u001b[0m\u001b[1;33m)\u001b[0m\u001b[1;33m\u001b[0m\u001b[1;33m\u001b[0m\u001b[0m\n\u001b[1;32m---> 13\u001b[1;33m         \u001b[0mc\u001b[0m \u001b[1;33m=\u001b[0m\u001b[0mc\u001b[0m\u001b[1;33m+\u001b[0m\u001b[1;36m1\u001b[0m\u001b[1;33m\u001b[0m\u001b[1;33m\u001b[0m\u001b[0m\n\u001b[0m\u001b[0;32m     14\u001b[0m         \u001b[1;32mif\u001b[0m \u001b[0mc\u001b[0m\u001b[1;33m<\u001b[0m\u001b[1;36m3\u001b[0m\u001b[1;33m:\u001b[0m\u001b[1;33m\u001b[0m\u001b[1;33m\u001b[0m\u001b[0m\n\u001b[0;32m     15\u001b[0m             \u001b[0mcal\u001b[0m\u001b[1;33m(\u001b[0m\u001b[1;33m)\u001b[0m\u001b[1;33m\u001b[0m\u001b[1;33m\u001b[0m\u001b[0m\n",
      "\u001b[1;31mUnboundLocalError\u001b[0m: local variable 'c' referenced before assignment"
     ]
    }
   ],
   "source": [
    "c = 0\n",
    "global c\n",
    "def cal():\n",
    "   \n",
    "    try:\n",
    "        a = int(input('Enter a =')) \n",
    "        b = int(input('Enter b ='))\n",
    "        d = a/b\n",
    "        print(d)\n",
    "    \n",
    "    except:\n",
    "        print('There might be error')\n",
    "        c =c+1\n",
    "        if c<3:\n",
    "            cal()\n",
    "        else:\n",
    "            print(\"3 attempts has lost\")\n",
    "cal()"
   ]
  },
  {
   "cell_type": "code",
   "execution_count": null,
   "id": "5af88765",
   "metadata": {},
   "outputs": [],
   "source": []
  }
 ],
 "metadata": {
  "kernelspec": {
   "display_name": "Python 3 (ipykernel)",
   "language": "python",
   "name": "python3"
  },
  "language_info": {
   "codemirror_mode": {
    "name": "ipython",
    "version": 3
   },
   "file_extension": ".py",
   "mimetype": "text/x-python",
   "name": "python",
   "nbconvert_exporter": "python",
   "pygments_lexer": "ipython3",
   "version": "3.9.7"
  }
 },
 "nbformat": 4,
 "nbformat_minor": 5
}
