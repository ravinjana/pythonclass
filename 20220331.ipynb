{
 "cells": [
  {
   "cell_type": "markdown",
   "id": "c8ff83c4",
   "metadata": {},
   "source": [
    "# Conditional Statement"
   ]
  },
  {
   "cell_type": "code",
   "execution_count": 1,
   "id": "43a2b462",
   "metadata": {},
   "outputs": [
    {
     "name": "stdout",
     "output_type": "stream",
     "text": [
      "True\n"
     ]
    }
   ],
   "source": [
    "a=10\n",
    "b=12\n",
    "print(a<b)"
   ]
  },
  {
   "cell_type": "code",
   "execution_count": 3,
   "id": "cc7f6602",
   "metadata": {},
   "outputs": [
    {
     "name": "stdout",
     "output_type": "stream",
     "text": [
      "False\n"
     ]
    }
   ],
   "source": [
    "a=10\n",
    "b=12\n",
    "print(a>b)"
   ]
  },
  {
   "cell_type": "code",
   "execution_count": 7,
   "id": "42bf1b12",
   "metadata": {},
   "outputs": [
    {
     "name": "stdout",
     "output_type": "stream",
     "text": [
      "The value is even\n"
     ]
    }
   ],
   "source": [
    "a = 10\n",
    "if a%2 == 0:\n",
    "    print(\"The value is even\")\n",
    "else:\n",
    "    print(\"The value is odd\")\n",
    "    "
   ]
  },
  {
   "cell_type": "code",
   "execution_count": 8,
   "id": "7014ee8e",
   "metadata": {},
   "outputs": [
    {
     "name": "stdout",
     "output_type": "stream",
     "text": [
      "Please enter your value =5\n",
      "The value is odd\n"
     ]
    }
   ],
   "source": [
    "a = int(input(\"Please enter your value =\"))\n",
    "if a%2 == 0:\n",
    "    print(\"The value is even\")\n",
    "else:\n",
    "    print(\"The value is odd\")\n",
    "    "
   ]
  },
  {
   "cell_type": "code",
   "execution_count": 14,
   "id": "f9c6c81a",
   "metadata": {},
   "outputs": [
    {
     "name": "stdout",
     "output_type": "stream",
     "text": [
      "Please enter your value =10\n",
      "Please enter your value =10\n",
      "Both value are equal\n"
     ]
    }
   ],
   "source": [
    "a = int(input(\"Please enter your value =\"))\n",
    "b = int(input(\"Please enter your value =\"))\n",
    "if a>b:\n",
    "    print(\"First value is greater than second value\")\n",
    "elif b>a:\n",
    "    print(\"Second value is greater thatn firt value\")\n",
    "else:\n",
    "    print(\"Both value are equal\")"
   ]
  },
  {
   "cell_type": "code",
   "execution_count": 22,
   "id": "1ae398bb",
   "metadata": {},
   "outputs": [
    {
     "name": "stdout",
     "output_type": "stream",
     "text": [
      "Enter the value =10.3\n",
      "Enter the value =10.3\n",
      "Enter + - * / =+\n",
      "20.6\n"
     ]
    }
   ],
   "source": [
    "a = float(input(\"Enter the value =\"))\n",
    "b = float(input(\"Enter the value =\"))\n",
    "o=input(\"Enter + - * / =\")\n",
    "if o == \"+\":\n",
    "    print(a+b)\n",
    "elif o == \"-\":\n",
    "    print(a-b)\n",
    "elif o == \"*\":\n",
    "    print(a*b)\n",
    "elif o == \"/\":\n",
    "    print(a/b)\n",
    "else:\n",
    "    print(\"invalid operator\")\n"
   ]
  },
  {
   "cell_type": "code",
   "execution_count": 24,
   "id": "dd0d211a",
   "metadata": {},
   "outputs": [
    {
     "name": "stdout",
     "output_type": "stream",
     "text": [
      "Enter the value =15\n",
      "Enter the value =0\n",
      "Enter + - * / =/\n",
      "The value of b can not be zero\n"
     ]
    }
   ],
   "source": [
    "a = float(input(\"Enter the value =\"))\n",
    "b = float(input(\"Enter the value =\"))\n",
    "o=input(\"Enter + - * / =\")\n",
    "if o == \"+\":\n",
    "    print(a+b)\n",
    "elif o == \"-\":\n",
    "    print(a-b)\n",
    "elif o == \"*\":\n",
    "    print(a*b)\n",
    "elif o == \"/\"and b != 0:\n",
    "    print(a/b)\n",
    "elif o == \"/\"and b == 0:\n",
    "    print(\"The value of b can not be zero\")\n",
    "else:\n",
    "    print(\"invalid operator\")"
   ]
  },
  {
   "cell_type": "markdown",
   "id": "80ced75b",
   "metadata": {},
   "source": [
    "# For or"
   ]
  },
  {
   "cell_type": "code",
   "execution_count": 29,
   "id": "02ea05a2",
   "metadata": {},
   "outputs": [
    {
     "name": "stdout",
     "output_type": "stream",
     "text": [
      "Enter per =60\n",
      "1st division\n"
     ]
    }
   ],
   "source": [
    "per = float(input(\"Enter per =\"))\n",
    "if (per > 60) | (per == 60):\n",
    "    print(\"1st division\")"
   ]
  },
  {
   "cell_type": "markdown",
   "id": "2cc13146",
   "metadata": {},
   "source": [
    "# Nested if"
   ]
  },
  {
   "cell_type": "code",
   "execution_count": null,
   "id": "f9e25bfa",
   "metadata": {},
   "outputs": [],
   "source": [
    "# if <condition>\n",
    "#   if<condition>\n",
    "#     <operation>\n",
    "\n",
    "#     else:\n",
    "#         <operation>"
   ]
  },
  {
   "cell_type": "code",
   "execution_count": 37,
   "id": "7d5722a1",
   "metadata": {},
   "outputs": [
    {
     "name": "stdout",
     "output_type": "stream",
     "text": [
      "Enter n =17\n",
      "17 is +ve odd no.\n"
     ]
    }
   ],
   "source": [
    "n =  int(input(\"Enter n =\"))\n",
    "if n>=0:\n",
    "    if n%2 ==0:\n",
    "        print(n,\"is +ve even no.\")\n",
    "    else:\n",
    "        print(n,\"is +ve odd no.\")\n",
    "else:\n",
    "    print(n,\"is -ve no.\")\n"
   ]
  },
  {
   "cell_type": "code",
   "execution_count": 40,
   "id": "275cc66f",
   "metadata": {},
   "outputs": [
    {
     "name": "stdout",
     "output_type": "stream",
     "text": [
      "Enter the value =10\n",
      "Enter the value =1\n",
      "Enter + - * / =/\n",
      "10.0\n"
     ]
    }
   ],
   "source": [
    "a = float(input(\"Enter the value =\"))\n",
    "b = float(input(\"Enter the value =\"))\n",
    "o=input(\"Enter + - * / =\")\n",
    "if o == \"+\":\n",
    "    print(a+b)\n",
    "elif o == \"-\":\n",
    "    print(a-b)\n",
    "elif o == \"*\":\n",
    "    print(a*b)\n",
    "elif o == \"/\":\n",
    "    if b!=0:\n",
    "        print(a/b)\n",
    "    else:S\n",
    "        print(\"The value of b can not be zero\")\n",
    "else:\n",
    "    print(\"invalid operator\")"
   ]
  },
  {
   "cell_type": "code",
   "execution_count": null,
   "id": "ee610e2d",
   "metadata": {},
   "outputs": [],
   "source": []
  }
 ],
 "metadata": {
  "kernelspec": {
   "display_name": "Python 3 (ipykernel)",
   "language": "python",
   "name": "python3"
  },
  "language_info": {
   "codemirror_mode": {
    "name": "ipython",
    "version": 3
   },
   "file_extension": ".py",
   "mimetype": "text/x-python",
   "name": "python",
   "nbconvert_exporter": "python",
   "pygments_lexer": "ipython3",
   "version": "3.9.7"
  }
 },
 "nbformat": 4,
 "nbformat_minor": 5
}
