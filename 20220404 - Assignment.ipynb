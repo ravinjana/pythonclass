{
 "cells": [
  {
   "cell_type": "code",
   "execution_count": 13,
   "id": "e6bbddd0",
   "metadata": {},
   "outputs": [
    {
     "ename": "IndentationError",
     "evalue": "expected an indented block (Temp/ipykernel_18284/472946474.py, line 17)",
     "output_type": "error",
     "traceback": [
      "\u001b[1;36m  File \u001b[1;32m\"C:\\Users\\RDAHAL~1.SCI\\AppData\\Local\\Temp/ipykernel_18284/472946474.py\"\u001b[1;36m, line \u001b[1;32m17\u001b[0m\n\u001b[1;33m    dis2=total*10/100\u001b[0m\n\u001b[1;37m    ^\u001b[0m\n\u001b[1;31mIndentationError\u001b[0m\u001b[1;31m:\u001b[0m expected an indented block\n"
     ]
    }
   ],
   "source": [
    "dis1st=10\n",
    "dis2=20\n",
    "dis3=30\n",
    "cstname=str(input(\"Customer Name = \"))\n",
    "cstadd=str(input(\"Customer Address = \"))\n",
    "cstph=str(input(\"Customer Phone = \"))\n",
    "items1=str(input(\"Items Name = \"))\n",
    "item1qty=float(input(\"Quanty = \"))\n",
    "item1rate=float(input(\"Rate = \"))\n",
    "total = (item1qty*item1rate)\n",
    "if(total<=1000):\n",
    "    dis1=total*0/100\n",
    "    print(\"Discount = \",dis1)\n",
    "    ntotal=total-dis1\n",
    "    print(\"Net Total =\",ntotal)\n",
    "elif(total>1001) or (total<=5000):\n",
    "    dis2=total*10/100\n",
    "    print(\"Discount =\",dis2)\n",
    "    ntotal1=total-dis2\n",
    "    print(\"Net Total =\",ntotal1)\n",
    "elif(total>5001) or (total<=10000):\n",
    "    dis3=total*20/100\n",
    "    print(\"Discount =\",dis3)\n",
    "    ntotal1=total-dis3\n",
    "    print(\"Net Total =\",ntotal1)\n",
    "elif(total>10001):\n",
    "    dis4=total*30/100\n",
    "    print(\"Discount =\",dis4)\n",
    "    ntotal3=total-dis4\n",
    "    print(\"Net Total =\",ntotal3)"
   ]
  },
  {
   "cell_type": "code",
   "execution_count": 1,
   "id": "810d5d12",
   "metadata": {},
   "outputs": [
    {
     "name": "stdout",
     "output_type": "stream",
     "text": [
      "Customer's Name:dfsd\n",
      "Address:fsdfs\n",
      "Enter the number of itmes:4\n",
      "Item Name: dfs\n",
      "Rate:100\n",
      "Quantity:10\n",
      "Item Name: ferw\n",
      "Rate:150\n",
      "Quantity:5\n",
      "Item Name: fdsfs\n",
      "Rate:120\n",
      "Quantity:10\n",
      "Item Name: dfsf\n",
      "Rate:160\n",
      "Quantity:20\n",
      "Dear dfsd ( fsdfs ), the details of your transaction is as follows:\n",
      "dfs 100.0 10.0 1000.0\n",
      "ferw 150.0 5.0 750.0\n",
      "fdsfs 120.0 10.0 1200.0\n",
      "dfsf 160.0 20.0 3200.0\n",
      "\n",
      "Total: 6150.0\n",
      "Your total bill amount in rupees is: 6150.0 . \n",
      "Thank You for shopping with us!\n"
     ]
    }
   ],
   "source": [
    "name = str(input(\"Customer's Name:\"))\n",
    "add = str(input(\"Address:\"))\n",
    "s = str()\n",
    "total = 0\n",
    "n = int(input(\"Enter the number of itmes:\"))\n",
    "for i in range(n):\n",
    "    item = str(input(\"Item Name: \"))\n",
    "    rate = float(input(\"Rate:\"))\n",
    "    quant = float(input(\"Quantity:\"))\n",
    "    price = rate * quant\n",
    "    s = s + item + \" \" + str(rate)+\" \" + str(quant) +\" \"+ str(price)+\"\\n\"\n",
    "    total = total + price\n",
    "print(\"Dear\",name,\"(\", add,\")\" \",\"+\" \"+ \"the details of your transaction is as follows:\")\n",
    "print(s)\n",
    "print(\"Total:\",total)\n",
    "print(\"Your total bill amount in rupees is:\",total,\".\" +\" \"+\"\\n\" \"Thank You for shopping with us!\")"
   ]
  },
  {
   "cell_type": "code",
   "execution_count": 2,
   "id": "ab7bc8ef",
   "metadata": {},
   "outputs": [
    {
     "name": "stdout",
     "output_type": "stream",
     "text": [
      "Customer Name = fsdf\n",
      "Customer Address = fdsfs\n",
      "Customer Phone = fsd\n",
      "Number of products: 3\n",
      "Good Name = fs\n",
      "Quanty = 10\n",
      "Rate = 100\n",
      "\n",
      "\n",
      "Total:  1000.0\n",
      "Good Name = fdsfs\n",
      "Quanty = 10\n",
      "Rate = 120\n",
      "\n",
      "\n",
      "Total:  1200.0\n",
      "Good Name = dsfsd\n",
      "Quanty = 100\n",
      "Rate = 101\n",
      "\n",
      "\n",
      "Total:  10100.0\n",
      "Grand Total 12300.0\n",
      "Discount = 4920.0\n",
      "Net Total = 7380.0\n"
     ]
    }
   ],
   "source": [
    "dis1st=float()\n",
    "dis2=float()\n",
    "dis3=float()\n",
    "dis4=float()\n",
    "s= float()\n",
    "\n",
    "cstname=str(input(\"Customer Name = \"))\n",
    "cstadd=str(input(\"Customer Address = \"))\n",
    "cstph=str(input(\"Customer Phone = \"))\n",
    "\n",
    "n = int(input(\"Number of products: \"))\n",
    "for i in range(n):\n",
    "    items1=str(input(\"Good Name = \"))\n",
    "    item1qty=float(input(\"Quanty = \"))\n",
    "    item1rate=float(input(\"Rate = \"))\n",
    "    total = (item1qty*item1rate)\n",
    "    print(\"\\n\")\n",
    "    print(\"Total: \", total)\n",
    "    s= s+total\n",
    "print(\"Grand Total\",s)\n",
    "if(s<=1000):\n",
    "    dis1=s*10/100\n",
    "    print(\"Discount = \",dis1)\n",
    "    ntotal=s-dis1\n",
    "    print(\"Net Total =\",ntotal)\n",
    "elif(s>1001)and(total<=5000):\n",
    "    dis2=s*20/100\n",
    "    print(\"Discount =\",dis2)\n",
    "    ntotal1=s-dis2\n",
    "    print(\"Net Total =\",ntotal1)\n",
    "elif(s>5001)and(s<=10000):\n",
    "    dis3=s*30/100\n",
    "    print(\"Discount =\",dis3)\n",
    "    ntotal2=s-dis3\n",
    "    print(\"Net Total =\",ntotal2)\n",
    "elif(s>10001):\n",
    "    dis4=s*40/100\n",
    "    print(\"Discount =\",dis4)\n",
    "    ntotal3=s-dis4\n",
    "    print(\"Net Total =\",ntotal3)"
   ]
  }
 ],
 "metadata": {
  "kernelspec": {
   "display_name": "Python 3 (ipykernel)",
   "language": "python",
   "name": "python3"
  },
  "language_info": {
   "codemirror_mode": {
    "name": "ipython",
    "version": 3
   },
   "file_extension": ".py",
   "mimetype": "text/x-python",
   "name": "python",
   "nbconvert_exporter": "python",
   "pygments_lexer": "ipython3",
   "version": "3.9.7"
  }
 },
 "nbformat": 4,
 "nbformat_minor": 5
}
