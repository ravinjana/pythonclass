{
 "cells": [
  {
   "cell_type": "code",
   "execution_count": null,
   "id": "ede3ea9d",
   "metadata": {},
   "outputs": [],
   "source": [
    "#python-collection\n",
    "    #list\n",
    "    #tuple\n",
    "    #disctionary\n",
    "    #set"
   ]
  },
  {
   "cell_type": "code",
   "execution_count": null,
   "id": "9d748f51",
   "metadata": {},
   "outputs": [],
   "source": [
    "#list _ just like array\n",
    "    #Indexed\n",
    "    #ordered\n",
    "    #Multiple data\n",
    "    #Mutable"
   ]
  },
  {
   "cell_type": "code",
   "execution_count": null,
   "id": "ec22d87d",
   "metadata": {},
   "outputs": [],
   "source": [
    "#Exam \n",
    "a=[1,2,3,4,5]\n",
    "b=[\"apple\",\"Ball\",\"cat\",\"dog\"]\n",
    "print(a)\n",
    "print(b)\n",
    "print(type(a),type(b))"
   ]
  },
  {
   "cell_type": "code",
   "execution_count": null,
   "id": "74e54058",
   "metadata": {},
   "outputs": [],
   "source": [
    "#Indexed le defined variable ko i.e. b ko kun value print garne kam garxa.\n",
    "print(b[0])\n",
    "print(b[0:3])\n",
    "print(b[0:4:2])"
   ]
  },
  {
   "cell_type": "code",
   "execution_count": null,
   "id": "ede61f9a",
   "metadata": {},
   "outputs": [],
   "source": [
    "#Indexed\n",
    "print(a[0])\n",
    "print(a[0:3])\n",
    "print(a[0:4:2])"
   ]
  },
  {
   "cell_type": "code",
   "execution_count": null,
   "id": "115b86d8",
   "metadata": {},
   "outputs": [],
   "source": [
    "b=[\"apple\",\"Ball\",\"cat\",\"dog\"]\n",
    "print b[0]\n",
    "print b[0][0]"
   ]
  },
  {
   "cell_type": "code",
   "execution_count": null,
   "id": "7e4c7838",
   "metadata": {},
   "outputs": [],
   "source": [
    "#ordered\n",
    "a=[1,2,3,4,5,6,7,8,9,10]\n",
    "b=[11,12,13,14,15,16,17,18,19,20]\n",
    "c=a[0::2]+b[0::2]\n",
    "print(c)"
   ]
  },
  {
   "cell_type": "code",
   "execution_count": null,
   "id": "162b4cb3",
   "metadata": {},
   "outputs": [],
   "source": [
    "a=[1,2,3,4,5,6,7,8,9,10]\n",
    "b=[11,12,13,14,15,16,17,18,19,20]\n",
    "c=a[0::2]+b[0::2]\n",
    "print(c)\n"
   ]
  },
  {
   "cell_type": "code",
   "execution_count": null,
   "id": "f50d6744",
   "metadata": {},
   "outputs": [],
   "source": [
    "#Mutable \n",
    "#exam 1\n",
    "b=[\"apple\",\"Ball\",\"cat\",\"dog\"] \n",
    "b [0] =\"ant\" #change the 1st value of b in to ant\n",
    "b"
   ]
  },
  {
   "cell_type": "code",
   "execution_count": null,
   "id": "f60db3b4",
   "metadata": {},
   "outputs": [],
   "source": [
    "#exam 2\n",
    "b=[\"apple\",\"Ball\",\"cat\",\"dog\"] \n",
    "b [3] =\"ant\" #change the 4th value of b in to ant\n",
    "b"
   ]
  },
  {
   "cell_type": "code",
   "execution_count": null,
   "id": "89a71998",
   "metadata": {},
   "outputs": [],
   "source": [
    "b=[\"apple\",\"Ball\",\"cat\",\"dog\"]\n",
    "for i in b:\n",
    "    print(i) #loop use garer print garda.."
   ]
  },
  {
   "cell_type": "code",
   "execution_count": null,
   "id": "b29da7b8",
   "metadata": {},
   "outputs": [],
   "source": [
    "#list ko function haru\n",
    "    #append() #insert() #exten() etc"
   ]
  },
  {
   "cell_type": "code",
   "execution_count": null,
   "id": "f601a02d",
   "metadata": {},
   "outputs": [],
   "source": [
    "#append ()\n",
    "a=[] # or list() lekher user bat data list a[] vitra add garn milxa.\n",
    "a.append(\"Apple\")\n",
    "a.append(\"Ball\")"
   ]
  },
  {
   "cell_type": "code",
   "execution_count": null,
   "id": "5e48e22c",
   "metadata": {},
   "outputs": [],
   "source": [
    "#Insert = list vitra rahe ko value ma arko kunai value add garen help garxa..\n",
    "b=[\"apple\",\"Ball\",\"cat\",\"dog\"] # indexed 0,1,2,3\n",
    "b.insert(1,\"Bat\") # b variable vitra \"Bat\" add garne kam gariyo\n",
    "print(b)"
   ]
  },
  {
   "cell_type": "code",
   "execution_count": null,
   "id": "45b17b42",
   "metadata": {},
   "outputs": [],
   "source": [
    "#Extend()\n",
    "a =['apple', 'Bat', 'Ball', 'cat', 'dog']\n",
    "b=[1,2,3,4,5,6,]\n",
    "a.extend(b)\n",
    "print(a)"
   ]
  },
  {
   "cell_type": "code",
   "execution_count": 3,
   "id": "0e224eda",
   "metadata": {},
   "outputs": [
    {
     "name": "stdout",
     "output_type": "stream",
     "text": [
      "Ebter n =2\n",
      "enter x =3\n",
      "[3]\n",
      "enter x =4\n",
      "[3, 4]\n"
     ]
    }
   ],
   "source": [
    "#append()\n",
    "l=[] #list defined gareko\n",
    "n=int(input(\"Ebter n =\")) # user bat kati joti input line \n",
    "for i in range(n):\n",
    "    x=int(input('enter x =')) #user bat value liya ko\n",
    "    l.append(x)\n",
    "          \n",
    "    print(l)"
   ]
  },
  {
   "cell_type": "code",
   "execution_count": 4,
   "id": "1f43d547",
   "metadata": {},
   "outputs": [
    {
     "name": "stdout",
     "output_type": "stream",
     "text": [
      "7\n",
      "4\n",
      "3\n"
     ]
    }
   ],
   "source": [
    "print(sum(l))\n",
    "print(max(l))\n",
    "print(min(l))"
   ]
  },
  {
   "cell_type": "code",
   "execution_count": null,
   "id": "5cfcd92c",
   "metadata": {},
   "outputs": [],
   "source": [
    "#sort()\n",
    "l.sort()\n",
    "print(l)\n"
   ]
  },
  {
   "cell_type": "code",
   "execution_count": null,
   "id": "414be75d",
   "metadata": {},
   "outputs": [],
   "source": [
    "l.reverse()\n",
    "print(l)"
   ]
  },
  {
   "cell_type": "code",
   "execution_count": 11,
   "id": "5771b1ad",
   "metadata": {},
   "outputs": [
    {
     "name": "stdout",
     "output_type": "stream",
     "text": [
      "['Ball', 'Bat', 'apple', 'cat', 'dog']\n",
      "<class 'list'>\n"
     ]
    }
   ],
   "source": [
    "#sort\n",
    "a =['apple', 'Bat', 'Ball', 'cat', 'dog']\n",
    "a.sort()\n",
    "print(a)\n",
    "print(type(a))"
   ]
  },
  {
   "cell_type": "code",
   "execution_count": null,
   "id": "2e976079",
   "metadata": {},
   "outputs": [],
   "source": [
    "#reverse\n",
    "a=['apple', 'Bat', 'Ball', 'cat', 'dog']\n",
    "a.reverse()\n",
    "a\n"
   ]
  },
  {
   "cell_type": "code",
   "execution_count": null,
   "id": "48da8640",
   "metadata": {},
   "outputs": [],
   "source": [
    "#sort\n",
    "l=[]\n",
    "n=int(input(\"Ebter n =\")) # user bat kati joti input line \n",
    "for i in range (n):\n",
    "    x=int(input('enter x =')) #user bat value liya ko\n",
    "    if i[0].lower()==\"c\":\n",
    "       l.append(i)\n",
    "\n",
    "print(l)"
   ]
  },
  {
   "cell_type": "code",
   "execution_count": null,
   "id": "853d04f3",
   "metadata": {},
   "outputs": [],
   "source": [
    "# list \n",
    "    # del # Remove() #Pop()"
   ]
  },
  {
   "cell_type": "code",
   "execution_count": null,
   "id": "0d04bc49",
   "metadata": {},
   "outputs": [],
   "source": [
    "#del = list ko kunai pani value delete garn ko lagi del ko use garne\n",
    "a =['apple', 'Bat', 'Ball', 'cat', 'dog']\n",
    "del a[0]\n",
    "a"
   ]
  },
  {
   "cell_type": "code",
   "execution_count": null,
   "id": "99017f49",
   "metadata": {},
   "outputs": [],
   "source": [
    "a =['apple', 'Bat', 'Ball', 'cat', 'dog']\n",
    "del a[3]\n",
    "a"
   ]
  },
  {
   "cell_type": "code",
   "execution_count": null,
   "id": "41c3a793",
   "metadata": {},
   "outputs": [],
   "source": [
    "a =['apple', 'Bat', 'Ball', 'cat', 'dog']\n",
    "del a[0:3] #key word\n",
    "a"
   ]
  },
  {
   "cell_type": "code",
   "execution_count": null,
   "id": "f9cc1310",
   "metadata": {},
   "outputs": [],
   "source": [
    "#Remove()\n",
    "a =['apple', 'Bat', 'Ball', 'cat', 'dog']\n",
    "u=str(input(\"Enter =\"))\n",
    "a.remove(u)\n",
    "a\n"
   ]
  },
  {
   "cell_type": "code",
   "execution_count": null,
   "id": "8a73c8a5",
   "metadata": {},
   "outputs": [],
   "source": [
    "a =['apple', 'Bat', 'Ball', 'cat', 'dog']\n",
    "for i in a:\n",
    "    if i ==\"Ball\":\n",
    "        a.remove(\"Ball\")\n",
    "print(a)"
   ]
  },
  {
   "cell_type": "code",
   "execution_count": 1,
   "id": "72ec53b4",
   "metadata": {},
   "outputs": [
    {
     "name": "stdout",
     "output_type": "stream",
     "text": [
      "enter =apple\n",
      "['Bat', 'Ball', 'cat', 'dog']\n"
     ]
    }
   ],
   "source": [
    "a =['apple', 'Bat', 'Ball', 'cat', 'dog']\n",
    "u=str(input(\"enter =\"))\n",
    "for i in a:\n",
    "    if i == u:\n",
    "        a.remove(u)\n",
    "print(a)"
   ]
  },
  {
   "cell_type": "code",
   "execution_count": 4,
   "id": "8fca2750",
   "metadata": {},
   "outputs": [
    {
     "name": "stdout",
     "output_type": "stream",
     "text": [
      "2\n",
      "5\n"
     ]
    }
   ],
   "source": [
    "a =['apple', 'Bat', 'Ball', 'cat', 'dog','Ball']\n",
    "for i in range(len(a)):\n",
    "    if a[i] == \"Ball\":\n",
    "        print(i)"
   ]
  },
  {
   "cell_type": "code",
   "execution_count": 5,
   "id": "04bb15d5",
   "metadata": {},
   "outputs": [],
   "source": [
    "#pop "
   ]
  },
  {
   "cell_type": "code",
   "execution_count": 6,
   "id": "61758ffd",
   "metadata": {},
   "outputs": [
    {
     "data": {
      "text/plain": [
       "['apple', 'Bat', 'cat', 'dog', 'Ball']"
      ]
     },
     "execution_count": 6,
     "metadata": {},
     "output_type": "execute_result"
    }
   ],
   "source": [
    "a =['apple', 'Bat', 'Ball', 'cat', 'dog','Ball']\n",
    "a.pop(2)\n",
    "a"
   ]
  },
  {
   "cell_type": "code",
   "execution_count": 8,
   "id": "da27285d",
   "metadata": {},
   "outputs": [
    {
     "name": "stdout",
     "output_type": "stream",
     "text": [
      "['Ball', 'Ball']\n",
      "['apple', 'Bat', 'cat', 'dog']\n"
     ]
    }
   ],
   "source": [
    "l = []\n",
    "a = ['apple', 'Bat', 'Ball', 'cat', 'dog','Ball']\n",
    "for i in a:\n",
    "    if i == \"Ball\":\n",
    "        l.append(\"Ball\")\n",
    "        a.remove(\"Ball\")\n",
    "print(l)\n",
    "print(a)\n",
    "\n",
    "    "
   ]
  },
  {
   "cell_type": "code",
   "execution_count": 12,
   "id": "6b350c8b",
   "metadata": {},
   "outputs": [
    {
     "name": "stdout",
     "output_type": "stream",
     "text": [
      "Enter =apple\n",
      "['apple']\n",
      "['Bat', 'Ball', 'cat', 'dog', 'Ball']\n"
     ]
    }
   ],
   "source": [
    "l = []\n",
    "a = ['apple', 'Bat', 'Ball', 'cat', 'dog','Ball']\n",
    "u=str(input(\"Enter =\"))\n",
    "for i in a:\n",
    "    if i == u:\n",
    "        l.append(u)\n",
    "        a.remove(u)\n",
    "print(l)\n",
    "print(a)"
   ]
  },
  {
   "cell_type": "code",
   "execution_count": 14,
   "id": "ad01f7de",
   "metadata": {},
   "outputs": [
    {
     "name": "stdout",
     "output_type": "stream",
     "text": [
      "[['Ram', 32, 'KTM'], ['Shyam', 33, 'KTM']]\n"
     ]
    }
   ],
   "source": [
    "#list inside list\n",
    "info = [[\"Ram\",32,\"KTM\"],['Shyam',33,'KTM']]\n",
    "print(info)"
   ]
  },
  {
   "cell_type": "code",
   "execution_count": 13,
   "id": "8e44fb2f",
   "metadata": {},
   "outputs": [
    {
     "name": "stdout",
     "output_type": "stream",
     "text": [
      "[['Ram', 32, 'KTM'], ['Shyam', 33, 'KTM']]\n"
     ]
    }
   ],
   "source": [
    "info = [[\"Ram\",32,\"KTM\"],['Shyam',33,'KTM']]\n",
    "search=input(\"\")\n",
    "print(info)"
   ]
  },
  {
   "cell_type": "code",
   "execution_count": null,
   "id": "8167693e",
   "metadata": {},
   "outputs": [],
   "source": []
  }
 ],
 "metadata": {
  "kernelspec": {
   "display_name": "Python 3 (ipykernel)",
   "language": "python",
   "name": "python3"
  },
  "language_info": {
   "codemirror_mode": {
    "name": "ipython",
    "version": 3
   },
   "file_extension": ".py",
   "mimetype": "text/x-python",
   "name": "python",
   "nbconvert_exporter": "python",
   "pygments_lexer": "ipython3",
   "version": "3.9.7"
  }
 },
 "nbformat": 4,
 "nbformat_minor": 5
}
