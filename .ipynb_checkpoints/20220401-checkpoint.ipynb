{
 "cells": [
  {
   "cell_type": "markdown",
   "id": "9560d8c7",
   "metadata": {},
   "source": [
    "# Loop"
   ]
  },
  {
   "cell_type": "code",
   "execution_count": null,
   "id": "a0db6e5c",
   "metadata": {},
   "outputs": [],
   "source": [
    "#for loop\n",
    "#while loop"
   ]
  },
  {
   "cell_type": "code",
   "execution_count": 2,
   "id": "c4d9f2ca",
   "metadata": {},
   "outputs": [],
   "source": [
    "# Sytenx\n",
    "# for i (variable) in range():\n",
    "#     Print\n",
    "\n",
    "\n",
    "# Exampale"
   ]
  },
  {
   "cell_type": "code",
   "execution_count": 8,
   "id": "2a6c5fbf",
   "metadata": {},
   "outputs": [
    {
     "name": "stdout",
     "output_type": "stream",
     "text": [
      "Typewordhi\n",
      "hi\n",
      "Typewordhi\n",
      "hi\n",
      "Typewordhi\n",
      "hi\n",
      "Typewordhi\n",
      "hi\n",
      "Typewordhi\n",
      "hi\n"
     ]
    }
   ],
   "source": [
    "for i in range(5):\n",
    "    i = input(\"Typeword\") **for loop vanda tal user le value diya ko xa van..\n",
    "    print(i)"
   ]
  },
  {
   "cell_type": "code",
   "execution_count": 10,
   "id": "0bf1fe03",
   "metadata": {},
   "outputs": [
    {
     "name": "stdout",
     "output_type": "stream",
     "text": [
      "Typewordfdf\n",
      "fdf\n",
      "fdf\n",
      "fdf\n",
      "fdf\n",
      "fdf\n"
     ]
    }
   ],
   "source": [
    "x = input(\"Typeword\")\n",
    "for i in range(5):\n",
    "    print(x)"
   ]
  },
  {
   "cell_type": "code",
   "execution_count": 4,
   "id": "d2e97cb3",
   "metadata": {},
   "outputs": [
    {
     "name": "stdout",
     "output_type": "stream",
     "text": [
      "0 Ravi Dahal\n",
      "1 Ravi Dahal\n",
      "2 Ravi Dahal\n",
      "3 Ravi Dahal\n",
      "4 Ravi Dahal\n"
     ]
    }
   ],
   "source": [
    "for i in range(5):\n",
    "    print(i,\"Ravi Dahal\" )"
   ]
  },
  {
   "cell_type": "code",
   "execution_count": 6,
   "id": "794a2abf",
   "metadata": {},
   "outputs": [
    {
     "name": "stdout",
     "output_type": "stream",
     "text": [
      "1 Ravi Dahal\n",
      "2 Ravi Dahal\n",
      "3 Ravi Dahal\n",
      "4 Ravi Dahal\n"
     ]
    }
   ],
   "source": [
    "for i in range(1,5):\n",
    "    print(i,\"Ravi Dahal\" )"
   ]
  },
  {
   "cell_type": "code",
   "execution_count": 7,
   "id": "fc66b71a",
   "metadata": {},
   "outputs": [
    {
     "name": "stdout",
     "output_type": "stream",
     "text": [
      "0 Ravi Dahal\n",
      "2 Ravi Dahal\n",
      "4 Ravi Dahal\n",
      "6 Ravi Dahal\n",
      "8 Ravi Dahal\n"
     ]
    }
   ],
   "source": [
    "for i in range(0,10,2):\n",
    "    print(i,\"Ravi Dahal\" )"
   ]
  },
  {
   "cell_type": "code",
   "execution_count": 11,
   "id": "1b47998b",
   "metadata": {},
   "outputs": [
    {
     "name": "stdout",
     "output_type": "stream",
     "text": [
      "enter n= 4\n",
      "4\n",
      "8\n",
      "12\n",
      "16\n",
      "20\n",
      "24\n",
      "28\n",
      "32\n",
      "36\n",
      "40\n"
     ]
    }
   ],
   "source": [
    "n = int(input(\"enter n= \"))\n",
    "for i in range(1,11):\n",
    "    print(i*n)"
   ]
  },
  {
   "cell_type": "code",
   "execution_count": 14,
   "id": "e01c3d5e",
   "metadata": {},
   "outputs": [
    {
     "name": "stdout",
     "output_type": "stream",
     "text": [
      "Enter number for getting table = 6\n",
      "1 * 1 = 6\n",
      "2 * 2 = 12\n",
      "3 * 3 = 18\n",
      "4 * 4 = 24\n",
      "5 * 5 = 30\n",
      "6 * 6 = 36\n",
      "7 * 7 = 42\n",
      "8 * 8 = 48\n",
      "9 * 9 = 54\n",
      "10 * 10 = 60\n"
     ]
    }
   ],
   "source": [
    "n = int(input(\"Enter number for getting table = \"))\n",
    "for i in range(1,11):\n",
    "    print(i,\"*\",i,\"=\",i*n)"
   ]
  },
  {
   "cell_type": "code",
   "execution_count": 15,
   "id": "5b7f543b",
   "metadata": {},
   "outputs": [
    {
     "name": "stdout",
     "output_type": "stream",
     "text": [
      "Enter x =1\n",
      "Enter x =2\n"
     ]
    }
   ],
   "source": [
    "for i in range(2):\n",
    "    x = input(\"Enter x =\")"
   ]
  },
  {
   "cell_type": "code",
   "execution_count": 25,
   "id": "3799054b",
   "metadata": {},
   "outputs": [
    {
     "name": "stdout",
     "output_type": "stream",
     "text": [
      "Enter n = 3\n",
      "Enter x =3\n",
      "Enter x =3\n",
      "Enter x =3\n",
      "9\n"
     ]
    }
   ],
   "source": [
    "s = 0\n",
    "n = int(input(\"Enter n = \"))\n",
    "for i in range(n):\n",
    "    x = int(input(\"Enter x =\"))\n",
    "    s = s+x\n",
    "print(s)"
   ]
  },
  {
   "cell_type": "code",
   "execution_count": 32,
   "id": "394997a0",
   "metadata": {},
   "outputs": [
    {
     "name": "stdout",
     "output_type": "stream",
     "text": [
      "eter n =3\n",
      "Enter the name =Ravi\n",
      "Enter phone no. =98\n",
      "Enter the name =ram\n",
      "Enter phone no. =98\n",
      "Enter the name =ravi\n",
      "Enter phone no. =09\n",
      "Ravi 98\n",
      "ram 98\n",
      "ravi 09\n",
      "\n"
     ]
    }
   ],
   "source": [
    "s = str()\n",
    "n = int(input(\"eter n =\"))\n",
    "for i in range(n):\n",
    "    name = input(\"Enter the name =\")\n",
    "    phone = input(\"Enter phone no. =\") \n",
    "    s = s+name+\" \"+ str(phone)+\"\\n\"\n",
    "print(s)\n"
   ]
  },
  {
   "cell_type": "code",
   "execution_count": 35,
   "id": "5589c25e",
   "metadata": {},
   "outputs": [
    {
     "name": "stdout",
     "output_type": "stream",
     "text": [
      "eter n =3\n",
      "Enter the name =ravi\n",
      "Enter phone no. =09\n",
      "\n",
      "Enter the name =ram\n",
      "Enter phone no. =98\n",
      "ravi 09\n",
      "\n",
      "Enter the name =hari\n",
      "Enter phone no. =87\n",
      "ravi 09\n",
      "ram 98\n",
      "\n"
     ]
    }
   ],
   "source": [
    "s = str()\n",
    "n = int(input(\"eter n =\"))\n",
    "for i in range(n):\n",
    "    name = input(\"Enter the name =\")\n",
    "    phone = input(\"Enter phone no. =\") \n",
    "    print(s)\n",
    "    s = s+name+\" \"+ str(phone)+\"\\n\"\n",
    "\n"
   ]
  },
  {
   "cell_type": "code",
   "execution_count": 38,
   "id": "8cdc5aae",
   "metadata": {},
   "outputs": [
    {
     "name": "stdout",
     "output_type": "stream",
     "text": [
      "enter n= 5\n",
      "25\n",
      "20\n",
      "15\n",
      "10\n"
     ]
    }
   ],
   "source": [
    "n = int(input(\"enter n= \"))\n",
    "for i in range(n,1,-1):\n",
    "    s=i*n\n",
    "    print(s)\n",
    "    "
   ]
  },
  {
   "cell_type": "code",
   "execution_count": 49,
   "id": "7d302bb7",
   "metadata": {},
   "outputs": [
    {
     "name": "stdout",
     "output_type": "stream",
     "text": [
      "enter n= 3\n",
      "10\n"
     ]
    }
   ],
   "source": [
    "# 5=1*2*3*4*5\n",
    "s = n\n",
    "n = int(input(\"enter n= \"))\n",
    "for i in range(n-1,1,-1):\n",
    "    s=s*i\n",
    "    print(s)"
   ]
  },
  {
   "cell_type": "code",
   "execution_count": null,
   "id": "3cae4f57",
   "metadata": {},
   "outputs": [],
   "source": [
    "#for tomorrow\n",
    "# Contral statments\n",
    "# While loop"
   ]
  },
  {
   "cell_type": "code",
   "execution_count": null,
   "id": "55d6dc6b",
   "metadata": {},
   "outputs": [],
   "source": []
  }
 ],
 "metadata": {
  "kernelspec": {
   "display_name": "Python 3 (ipykernel)",
   "language": "python",
   "name": "python3"
  },
  "language_info": {
   "codemirror_mode": {
    "name": "ipython",
    "version": 3
   },
   "file_extension": ".py",
   "mimetype": "text/x-python",
   "name": "python",
   "nbconvert_exporter": "python",
   "pygments_lexer": "ipython3",
   "version": "3.9.7"
  }
 },
 "nbformat": 4,
 "nbformat_minor": 5
}
