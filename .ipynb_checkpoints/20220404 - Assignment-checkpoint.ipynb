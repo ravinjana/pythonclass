{
 "cells": [
  {
   "cell_type": "code",
   "execution_count": 13,
   "id": "e6bbddd0",
   "metadata": {},
   "outputs": [
    {
     "ename": "IndentationError",
     "evalue": "expected an indented block (Temp/ipykernel_18284/472946474.py, line 17)",
     "output_type": "error",
     "traceback": [
      "\u001b[1;36m  File \u001b[1;32m\"C:\\Users\\RDAHAL~1.SCI\\AppData\\Local\\Temp/ipykernel_18284/472946474.py\"\u001b[1;36m, line \u001b[1;32m17\u001b[0m\n\u001b[1;33m    dis2=total*10/100\u001b[0m\n\u001b[1;37m    ^\u001b[0m\n\u001b[1;31mIndentationError\u001b[0m\u001b[1;31m:\u001b[0m expected an indented block\n"
     ]
    }
   ],
   "source": [
    "dis1st=10\n",
    "dis2=20\n",
    "dis3=30\n",
    "cstname=str(input(\"Customer Name = \"))\n",
    "cstadd=str(input(\"Customer Address = \"))\n",
    "cstph=str(input(\"Customer Phone = \"))\n",
    "items1=str(input(\"Items Name = \"))\n",
    "item1qty=float(input(\"Quanty = \"))\n",
    "item1rate=float(input(\"Rate = \"))\n",
    "total = (item1qty*item1rate)\n",
    "if(total<=1000):\n",
    "    dis1=total*0/100\n",
    "    print(\"Discount = \",dis1)\n",
    "    ntotal=total-dis1\n",
    "    print(\"Net Total =\",ntotal)\n",
    "elif(total>1001) or (total<=5000):\n",
    "    dis2=total*10/100\n",
    "    print(\"Discount =\",dis2)\n",
    "    ntotal1=total-dis2\n",
    "    print(\"Net Total =\",ntotal1)\n",
    "elif(total>5001) or (total<=10000):\n",
    "    dis3=total*20/100\n",
    "    print(\"Discount =\",dis3)\n",
    "    ntotal1=total-dis3\n",
    "    print(\"Net Total =\",ntotal1)\n",
    "elif(total>10001):\n",
    "    dis4=total*30/100\n",
    "    print(\"Discount =\",dis4)\n",
    "    ntotal3=total-dis4\n",
    "    print(\"Net Total =\",ntotal3)"
   ]
  },
  {
   "cell_type": "code",
   "execution_count": null,
   "id": "4edef748",
   "metadata": {},
   "outputs": [],
   "source": []
  }
 ],
 "metadata": {
  "kernelspec": {
   "display_name": "Python 3 (ipykernel)",
   "language": "python",
   "name": "python3"
  },
  "language_info": {
   "codemirror_mode": {
    "name": "ipython",
    "version": 3
   },
   "file_extension": ".py",
   "mimetype": "text/x-python",
   "name": "python",
   "nbconvert_exporter": "python",
   "pygments_lexer": "ipython3",
   "version": "3.9.7"
  }
 },
 "nbformat": 4,
 "nbformat_minor": 5
}
