{
 "cells": [
  {
   "cell_type": "code",
   "execution_count": null,
   "id": "fb0fffd3",
   "metadata": {},
   "outputs": [],
   "source": [
    "# class <class_name>: # Class is keyword & the first letter of class_name should be capital\n",
    "#     <operation/method>\n",
    "\n",
    "    \n",
    "\n",
    "    \n",
    "# obj # give name = <class_name # defined in abvoe>() #This is object"
   ]
  },
  {
   "cell_type": "code",
   "execution_count": null,
   "id": "6def1a1b",
   "metadata": {},
   "outputs": [],
   "source": [
    "class Hello:\n",
    "    print(\"hello world\")\n",
    "\n",
    "obj = hello() # class lai object banaunu parxa.\n"
   ]
  },
  {
   "cell_type": "code",
   "execution_count": null,
   "id": "19b35658",
   "metadata": {},
   "outputs": [],
   "source": [
    "class Hello:\n",
    "    def hello(): #function\n",
    "        print(\"hello world\")\n",
    "        \n",
    "obj = Hello() #class lai object ma change gareko\n",
    "obj.hello() #give object name any give function name\n",
    "    "
   ]
  },
  {
   "cell_type": "code",
   "execution_count": null,
   "id": "ad284a41",
   "metadata": {},
   "outputs": [],
   "source": [
    "class Hello:\n",
    "    def hello(self): #function # self add gare paxi...class vitra ko function lai self use garnu parx\n",
    "        print(\"hello world\")\n",
    "        \n",
    "obj = Hello() #class lai object ma change gareko\n",
    "obj.hello() #give object name any give function name\n",
    "    "
   ]
  },
  {
   "cell_type": "code",
   "execution_count": null,
   "id": "f8797dd6",
   "metadata": {},
   "outputs": [],
   "source": [
    "class Hello:\n",
    "    @staticmethod\n",
    "    def hello(): #function\n",
    "        print(\"hello world\")\n",
    "        \n",
    "obj = Hello() #class lai object ma change gareko\n",
    "obj.hello() #give object name any give function name\n",
    "    "
   ]
  },
  {
   "cell_type": "code",
   "execution_count": null,
   "id": "3f533b84",
   "metadata": {},
   "outputs": [],
   "source": [
    "class Hello:\n",
    "    def hello(self):\n",
    "        print(\"hello world\")\n",
    "        \n",
    "obj = Hello()\n",
    "obj.hello() "
   ]
  },
  {
   "cell_type": "code",
   "execution_count": null,
   "id": "f0677de3",
   "metadata": {},
   "outputs": [],
   "source": [
    "class Area:\n",
    "    def area(self,l,b):\n",
    "        a = l*b\n",
    "        print (a)\n",
    "        \n",
    "obj = Area()\n",
    "obj.area(10,5)"
   ]
  },
  {
   "cell_type": "code",
   "execution_count": null,
   "id": "6d213753",
   "metadata": {},
   "outputs": [],
   "source": [
    "class Area:\n",
    "    @staticmethod\n",
    "    def area(l,b): \n",
    "        a = l*b\n",
    "        print (a)\n",
    "        \n",
    "obj = Area()\n",
    "l = int(input('Enter L ='))\n",
    "b = int(input('Enter B ='))\n",
    "obj.area(l,b)"
   ]
  },
  {
   "cell_type": "code",
   "execution_count": null,
   "id": "ac19ca1e",
   "metadata": {},
   "outputs": [],
   "source": [
    "#20220421 - Init Mathod - def __init__(self,l,b):\n",
    "class Area:\n",
    "    def __init__(self,l,b):\n",
    "        self.l = l #variable\n",
    "        self.b = b #variable\n",
    "\n",
    "    def area(this): #jun parameter (this) use gariya ko xa thi parameter\n",
    "        a=this.l*this.b # yaha use garne ho...yo parameter r mathi ko self sng kunai relation xain\n",
    "        print(a)\n",
    "        \n",
    "\n",
    "\n",
    "l = int(input('Enter L ='))\n",
    "b = int(input('Enter B ='))\n",
    "obj = Area(l,b)\n",
    "obj.area()"
   ]
  },
  {
   "cell_type": "code",
   "execution_count": null,
   "id": "e5072dd1",
   "metadata": {},
   "outputs": [],
   "source": [
    "class Cal:\n",
    "    def __init__(self,l,b,h):\n",
    "        self.l = l #variable\n",
    "        self.b = b #variable\n",
    "        self.h = h #Variable\n",
    "\n",
    "    def area(this):\n",
    "        a=this.l*this.b\n",
    "        print(a)\n",
    "    \n",
    "    def volume(that):\n",
    "        v=that.l*that.b*that.h\n",
    "        print(v)\n",
    "               \n",
    "\n",
    "\n",
    "l = int(input('Enter L ='))\n",
    "b = int(input('Enter B ='))\n",
    "h = int(input('Enet H ='))\n",
    "obj = Cal(l,b,h)\n",
    "obj.volume()\n",
    "obj.area()"
   ]
  },
  {
   "cell_type": "code",
   "execution_count": null,
   "id": "8233ef1e",
   "metadata": {},
   "outputs": [],
   "source": [
    "#euta unique code lai base liyar kam garn ko lagi below syntex use garn sakinxa\n",
    "\n",
    "class info:\n",
    "    def __init__(self,name,age,add):\n",
    "        self.name=name\n",
    "        self.age=age\n",
    "        self.add=add\n",
    "    \n",
    "    def __str__(abc):\n",
    "        return f\"{abc.name} {abc.add}\" #unique code lai select gareko\n",
    "    \n",
    "\n",
    "obj = info(\"Ram\",34,\"KTM\") # data base ko data haru call garn sakinxa \n",
    "print(obj) #\n",
    "print(obj.__str__()) #string value chahiya ko xa vane..yo syntex use garne\n",
    "print(str(obj)) #string value chahiyo ko xa vane...yo syntex use garne"
   ]
  },
  {
   "cell_type": "code",
   "execution_count": 3,
   "id": "1e66b926",
   "metadata": {},
   "outputs": [
    {
     "name": "stdout",
     "output_type": "stream",
     "text": [
      "450000\n",
      "450000\n"
     ]
    }
   ],
   "source": [
    "class Male:\n",
    "    def married(self):\n",
    "        print(450000)\n",
    "    def single(self):\n",
    "        print(400000)\n",
    "class Female:\n",
    "    def married(self):\n",
    "        print(450000)\n",
    "    def single(self):\n",
    "        print(400000)\n",
    "def gender_test(fstslab):\n",
    "    fstslab.married()\n",
    "    \n",
    "m = Male()\n",
    "f = Female()\n",
    "gender_test(m)\n",
    "gender_test(f)"
   ]
  },
  {
   "cell_type": "code",
   "execution_count": null,
   "id": "12eddfa9",
   "metadata": {},
   "outputs": [],
   "source": []
  }
 ],
 "metadata": {
  "kernelspec": {
   "display_name": "Python 3 (ipykernel)",
   "language": "python",
   "name": "python3"
  },
  "language_info": {
   "codemirror_mode": {
    "name": "ipython",
    "version": 3
   },
   "file_extension": ".py",
   "mimetype": "text/x-python",
   "name": "python",
   "nbconvert_exporter": "python",
   "pygments_lexer": "ipython3",
   "version": "3.9.7"
  }
 },
 "nbformat": 4,
 "nbformat_minor": 5
}
