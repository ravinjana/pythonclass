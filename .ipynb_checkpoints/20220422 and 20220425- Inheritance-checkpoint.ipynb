{
 "cells": [
  {
   "cell_type": "code",
   "execution_count": null,
   "id": "14ebeb7c",
   "metadata": {},
   "outputs": [],
   "source": [
    "# inheritance is the capability of one class to derive or inherit the properties from some another class.\n",
    "# type of Inheritance\n",
    "    # Multi-level inheritance \n",
    "    # Multiple inheritance"
   ]
  },
  {
   "cell_type": "code",
   "execution_count": null,
   "id": "0b036bbb",
   "metadata": {},
   "outputs": [],
   "source": [
    "#Syntex\n",
    "\n",
    "# class A:\n",
    "#     pass \n",
    "\n",
    "# class B:\n",
    "#     pass\n",
    "\n",
    "# obj = B()\n"
   ]
  },
  {
   "cell_type": "code",
   "execution_count": null,
   "id": "b3e56c38",
   "metadata": {},
   "outputs": [],
   "source": [
    "class Info:\n",
    "    def __init__(self):\n",
    "        self.name = input('Enter name =')\n",
    "        self.age = int(input('Enter age ='))\n",
    "        self.add = input('Enter address =')\n",
    "    \n",
    "class Data(Info): #\n",
    "    def data (self):\n",
    "        print(f'Hello world I am {self.name}. I am from {self.add}. I am {self.age}')\n",
    "        \n",
    "obj = Data() # class Data lai obj bana ko\n",
    "obj.data()"
   ]
  },
  {
   "cell_type": "code",
   "execution_count": null,
   "id": "22911ef4",
   "metadata": {},
   "outputs": [],
   "source": [
    "class Info:\n",
    "    def __init__(self,name,age,add): # Jun class ma init hunxa tiyo class parent class ho.\n",
    "        self.name = name\n",
    "        self.age = age\n",
    "        self.add = add       \n",
    "    \n",
    "class Data(Info):\n",
    "    def data (self):\n",
    "        print(f'Hello world I am {self.name}. I am from {self.add}. I am {self.age}')\n",
    "        \n",
    "name = input('Enter name =')\n",
    "age = int(input('Enter age ='))\n",
    "add = input('Enter address =')\n",
    "\n",
    "obj = Data(name,age,add) #\n",
    "obj.data()"
   ]
  },
  {
   "cell_type": "code",
   "execution_count": null,
   "id": "231cdab6",
   "metadata": {},
   "outputs": [],
   "source": [
    "class Info:\n",
    "    def __init__(self,name,age,add):\n",
    "        self.add = add       \n",
    "    def add (self): # tala ko info.__init__(add) syntax use garepaxi yo def add (self) and print ('massage display') garne ho\n",
    "        print(f'I am from {self.add}')\n",
    "    \n",
    "class Data(Info):\n",
    "    def __init__(self,name,age,add):\n",
    "        self.name = name\n",
    "        self.age = age\n",
    "        #self.add = add sabai value lai child class batai lin eho vane..kin parent chahiyo...tesai le \n",
    "        Info.__init__(add) # parent class bat kunai aru kunai extra data line ho vane yo syntax use garne\n",
    "    def data (self):\n",
    "        print(f'Hello world I am {self.name}. I am from {self.add}. I am {self.age}')\n",
    "        \n",
    "name = input('Enter name =')\n",
    "age = int(input('Enter age ='))\n",
    "add = input('Enter address =')\n",
    "\n",
    "obj = Data(name,age,add)\n",
    "obj.data()"
   ]
  },
  {
   "cell_type": "code",
   "execution_count": null,
   "id": "ae4a2d5a",
   "metadata": {},
   "outputs": [],
   "source": [
    "class Info:\n",
    "    def __init__(self,add):\n",
    "        self.add = add       \n",
    "    def ad (self): # tala ko info.__init__(add) syntax use garepaxi yo def add (self) and print ('massage display') garne ho\n",
    "        print(f'I am from {self.add}')\n",
    "    \n",
    "class Data(Info):\n",
    "    def __init__(self,name,age,add):\n",
    "        self.name = name\n",
    "        self.age = age\n",
    "        #self.add = add sabai value lai child class batai lin eho vane..kin parent chahiyo...tesai le \n",
    "        Info.__init__(self,add) # parent class bat kunai aru kunai extra data line ho vane yo syntax use garne\n",
    "    def data (self):\n",
    "        print(f'Hello world I am {self.name}. I am from {self.add}. I am {self.age}')\n",
    "        \n",
    "name = input('Enter name =')\n",
    "age = int(input('Enter age ='))\n",
    "add = input('Enter address =')\n",
    "\n",
    "obj = Data(name,age,add)\n",
    "obj.data()\n",
    "obj.ad()"
   ]
  },
  {
   "cell_type": "code",
   "execution_count": null,
   "id": "cfbabb5d",
   "metadata": {},
   "outputs": [],
   "source": [
    "class Info:\n",
    "    def __init__(self,add):\n",
    "        self.add = add       \n",
    "    def ad (self): # tala ko info.__init__(add) syntax use garepaxi yo def add (self) and print ('massage display') garne ho\n",
    "        print(f'I am from {self.add}. My name is {self.nam})\n",
    "    \n",
    "class Data(Info):\n",
    "    def __init__(self,name,age,add):\n",
    "        self.name = name\n",
    "        self.age = age\n",
    "        #self.add = add sabai value lai child class batai lin eho vane..kin parent chahiyo...tesai le \n",
    "        Info.__init__(self,add) # parent class bat kunai aru kunai extra data line ho vane yo syntax use garne\n",
    "    def data (self):\n",
    "        print(f'Hello world I am {self.name}. I am from {self.add}. I am {self.age}')\n",
    "        \n",
    "name = input('Enter name =')\n",
    "age = int(input('Enter age ='))\n",
    "add = input('Enter address =')\n",
    "\n",
    "obj = Data(name,age,add)\n",
    "obj.data()\n",
    "obj.ad()"
   ]
  },
  {
   "cell_type": "code",
   "execution_count": null,
   "id": "512ad155",
   "metadata": {},
   "outputs": [],
   "source": [
    "#Multi-level inheritance\n"
   ]
  },
  {
   "cell_type": "code",
   "execution_count": null,
   "id": "03d7293f",
   "metadata": {},
   "outputs": [],
   "source": [
    "# Syntax of Multi-Level\n",
    "\n",
    "# class A:\n",
    "#     pass\n",
    "\n",
    "# class B (A):\n",
    "#     pass\n",
    "\n",
    "# calss C (B):\n",
    "#     pass\n",
    "\n",
    "# obj = c()"
   ]
  },
  {
   "cell_type": "code",
   "execution_count": null,
   "id": "207c23fa",
   "metadata": {},
   "outputs": [],
   "source": [
    "# Syntax of Multiple\n",
    "\n",
    "# class A:\n",
    "#     pass\n",
    "\n",
    "# class B (A):\n",
    "#     pass\n",
    "\n",
    "# calss C (B):\n",
    "#     pass\n",
    "\n",
    "# obj = c()"
   ]
  },
  {
   "cell_type": "code",
   "execution_count": null,
   "id": "41af0519",
   "metadata": {},
   "outputs": [],
   "source": [
    "#example of multi-level\n",
    "class Info:\n",
    "    def __init__(self,add):\n",
    "        self.add = add     \n",
    "    def ad(self):\n",
    "        print(f'hello I am from {self.add}. My Name is {self.name}')\n",
    "\n",
    "class Org(Info):\n",
    "    def __init__(self,age,add):\n",
    "        self.age = age\n",
    "        Info. __init__(self,add)\n",
    "    \n",
    "class Data(Info):\n",
    "    def __init__(self,name,age,add):\n",
    "        self.name = name\n",
    "        Org.__init__(self,age,add) \n",
    "        \n",
    "    def data (self):\n",
    "        print(f'Hello world I am {self.name}. I am from {self.add}. I am {self.age}')\n",
    "        \n",
    "\n",
    "obj = Data(\"Ram\",32,\"KTM\")\n",
    "obj.data()\n",
    "obj.ad()"
   ]
  },
  {
   "cell_type": "code",
   "execution_count": null,
   "id": "69cc3b11",
   "metadata": {},
   "outputs": [],
   "source": [
    "#example of multiple\n",
    "class Info:\n",
    "    def __init__(self,add):\n",
    "        self.add = add     \n",
    "    def ad(self):\n",
    "        print(f'hello I am from {self.add}. My Name is {self.name}')\n",
    "\n",
    "class Org(Info):\n",
    "    def __init__(self,age):\n",
    "        self.age = age\n",
    "       \n",
    "    \n",
    "class Data(Info):\n",
    "    def __init__(self,name,age,add):\n",
    "        self.name = name\n",
    "        Org.__init__(self,age)\n",
    "        Info.__init__(self,add)\n",
    "        \n",
    "    def data (self):\n",
    "        print(f'Hello world I am {self.name}. I am from {self.add}. I am {self.age}')\n",
    "        \n",
    "\n",
    "obj = Data(\"Ram\",32,\"KTM\")\n",
    "obj.data()\n",
    "obj.ad()"
   ]
  },
  {
   "cell_type": "code",
   "execution_count": null,
   "id": "bddb22d8",
   "metadata": {},
   "outputs": [],
   "source": [
    "class Info:\n",
    "    def __init__(self):\n",
    "        self.add = input(\"Enter address =\")     \n",
    "        \n",
    "    def ad(self):\n",
    "        print(f'hello I am from {self.add}.')\n",
    "\n",
    "class Org:\n",
    "    def __init__(self):\n",
    "        self.age = int(input(\"Enter age =\"))\n",
    "        \n",
    "    def org(self):\n",
    "        print(f'Hello I am {self.age}')\n",
    "       \n",
    "    \n",
    "class Data(Info,Org):\n",
    "    def __init__(self):\n",
    "        self.name = input('enter Name =')\n",
    "        Org.__init__(self)\n",
    "        Info.__init__(self)\n",
    "        \n",
    "    def data (self):\n",
    "        print(f'Hello world I am {self.name}. I am from {self.add}. I am {self.age}')\n",
    "        \n",
    "\n",
    "obj = Data()\n",
    "obj.data()\n"
   ]
  },
  {
   "cell_type": "code",
   "execution_count": 1,
   "id": "e7bdc70d",
   "metadata": {},
   "outputs": [
    {
     "name": "stdout",
     "output_type": "stream",
     "text": [
      "enter Name =Ram\n",
      "Enter age =32\n",
      "Enter address =KTM\n",
      "Hello world I am Ram. I am from KTM. I am 32\n"
     ]
    }
   ],
   "source": [
    "class Info:\n",
    "    def __init__(self):\n",
    "        self.add = input(\"Enter address =\")     \n",
    "        \n",
    "    def ad(self):\n",
    "        print(f'hello I am from {self.add}.')    \n",
    "\n",
    "class Org:\n",
    "    def __init__(self):\n",
    "        self.age = int(input(\"Enter age =\"))\n",
    "        \n",
    "    def org(self):\n",
    "        print(f'Hello I am {self.age}')\n",
    "                \n",
    "    \n",
    "class Data(Info,Org):\n",
    "    def __init__(self):\n",
    "        self.name = input('enter Name =')\n",
    "        Org.__init__(self)\n",
    "        Info.__init__(self)\n",
    "        \n",
    "    def data (self):\n",
    "        print(f'Hello world I am {self.name}. I am from {self.add}. I am {self.age}')\n",
    "\n",
    "\n",
    "obj = Data()\n",
    "obj.data()"
   ]
  },
  {
   "cell_type": "code",
   "execution_count": 2,
   "id": "b464e0aa",
   "metadata": {},
   "outputs": [],
   "source": [
    "# Python - public, private and protected Access\n",
    "\n"
   ]
  },
  {
   "cell_type": "code",
   "execution_count": 7,
   "id": "989a0d98",
   "metadata": {},
   "outputs": [
    {
     "name": "stdout",
     "output_type": "stream",
     "text": [
      "Ram\n"
     ]
    }
   ],
   "source": [
    "#Public members\n",
    "class Info:\n",
    "    def __init__(self,name,age,add):\n",
    "        self.name = name\n",
    "        self.age = age\n",
    "        self.add = add\n",
    "        \n",
    "obj = Info(\"Ram\",32,\"KTM\")\n",
    "print(obj.name)"
   ]
  },
  {
   "cell_type": "code",
   "execution_count": 11,
   "id": "ca090fec",
   "metadata": {},
   "outputs": [
    {
     "name": "stdout",
     "output_type": "stream",
     "text": [
      "Ram\n"
     ]
    }
   ],
   "source": [
    "#Protect members\n",
    "class Info:\n",
    "    def __init__(self,name,age,add):\n",
    "        self.name = name\n",
    "        self._age = age\n",
    "        self._add = add\n",
    "        \n",
    "obj = Info(\"Ram\",32,\"KTM\")\n",
    "print(obj.name)"
   ]
  },
  {
   "cell_type": "code",
   "execution_count": 12,
   "id": "55acab50",
   "metadata": {},
   "outputs": [
    {
     "ename": "AttributeError",
     "evalue": "'Info' object has no attribute 'age'",
     "output_type": "error",
     "traceback": [
      "\u001b[1;31m---------------------------------------------------------------------------\u001b[0m",
      "\u001b[1;31mAttributeError\u001b[0m                            Traceback (most recent call last)",
      "\u001b[1;32mC:\\Users\\RDAHAL~1.SCI\\AppData\\Local\\Temp/ipykernel_1784/1699791576.py\u001b[0m in \u001b[0;36m<module>\u001b[1;34m\u001b[0m\n\u001b[0;32m      7\u001b[0m \u001b[1;33m\u001b[0m\u001b[0m\n\u001b[0;32m      8\u001b[0m \u001b[0mobj\u001b[0m \u001b[1;33m=\u001b[0m \u001b[0mInfo\u001b[0m\u001b[1;33m(\u001b[0m\u001b[1;34m\"Ram\"\u001b[0m\u001b[1;33m,\u001b[0m\u001b[1;36m32\u001b[0m\u001b[1;33m,\u001b[0m\u001b[1;34m\"KTM\"\u001b[0m\u001b[1;33m)\u001b[0m\u001b[1;33m\u001b[0m\u001b[1;33m\u001b[0m\u001b[0m\n\u001b[1;32m----> 9\u001b[1;33m \u001b[0mprint\u001b[0m\u001b[1;33m(\u001b[0m\u001b[0mobj\u001b[0m\u001b[1;33m.\u001b[0m\u001b[0mage\u001b[0m\u001b[1;33m)\u001b[0m\u001b[1;33m\u001b[0m\u001b[1;33m\u001b[0m\u001b[0m\n\u001b[0m",
      "\u001b[1;31mAttributeError\u001b[0m: 'Info' object has no attribute 'age'"
     ]
    }
   ],
   "source": [
    "#Protect members\n",
    "class Info:\n",
    "    def __init__(self,name,age,add):\n",
    "        self.name = name\n",
    "        self._age = age #protect data\n",
    "        self._add = add #protect data\n",
    "        \n",
    "obj = Info(\"Ram\",32,\"KTM\")\n",
    "print(obj.age)"
   ]
  },
  {
   "cell_type": "code",
   "execution_count": 13,
   "id": "942b455d",
   "metadata": {},
   "outputs": [
    {
     "ename": "AttributeError",
     "evalue": "'Info' object has no attribute 'add'",
     "output_type": "error",
     "traceback": [
      "\u001b[1;31m---------------------------------------------------------------------------\u001b[0m",
      "\u001b[1;31mAttributeError\u001b[0m                            Traceback (most recent call last)",
      "\u001b[1;32mC:\\Users\\RDAHAL~1.SCI\\AppData\\Local\\Temp/ipykernel_1784/1713070256.py\u001b[0m in \u001b[0;36m<module>\u001b[1;34m\u001b[0m\n\u001b[0;32m      7\u001b[0m \u001b[1;33m\u001b[0m\u001b[0m\n\u001b[0;32m      8\u001b[0m \u001b[0mobj\u001b[0m \u001b[1;33m=\u001b[0m \u001b[0mInfo\u001b[0m\u001b[1;33m(\u001b[0m\u001b[1;34m\"Ram\"\u001b[0m\u001b[1;33m,\u001b[0m\u001b[1;36m32\u001b[0m\u001b[1;33m,\u001b[0m\u001b[1;34m\"KTM\"\u001b[0m\u001b[1;33m)\u001b[0m\u001b[1;33m\u001b[0m\u001b[1;33m\u001b[0m\u001b[0m\n\u001b[1;32m----> 9\u001b[1;33m \u001b[0mprint\u001b[0m\u001b[1;33m(\u001b[0m\u001b[0mobj\u001b[0m\u001b[1;33m.\u001b[0m\u001b[0madd\u001b[0m\u001b[1;33m)\u001b[0m\u001b[1;33m\u001b[0m\u001b[1;33m\u001b[0m\u001b[0m\n\u001b[0m",
      "\u001b[1;31mAttributeError\u001b[0m: 'Info' object has no attribute 'add'"
     ]
    }
   ],
   "source": [
    "#Protect members\n",
    "class Info:\n",
    "    def __init__(self,name,age,add):\n",
    "        self.name = name\n",
    "        self._age = age #protect data\n",
    "        self._add = add #protect data\n",
    "        \n",
    "obj = Info(\"Ram\",32,\"KTM\")\n",
    "print(obj.add)"
   ]
  },
  {
   "cell_type": "code",
   "execution_count": null,
   "id": "0ea7f34d",
   "metadata": {},
   "outputs": [],
   "source": []
  }
 ],
 "metadata": {
  "kernelspec": {
   "display_name": "Python 3 (ipykernel)",
   "language": "python",
   "name": "python3"
  },
  "language_info": {
   "codemirror_mode": {
    "name": "ipython",
    "version": 3
   },
   "file_extension": ".py",
   "mimetype": "text/x-python",
   "name": "python",
   "nbconvert_exporter": "python",
   "pygments_lexer": "ipython3",
   "version": "3.9.7"
  }
 },
 "nbformat": 4,
 "nbformat_minor": 5
}
