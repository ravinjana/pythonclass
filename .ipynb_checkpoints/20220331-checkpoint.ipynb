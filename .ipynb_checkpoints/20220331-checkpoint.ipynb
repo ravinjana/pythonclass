{
 "cells": [
  {
   "cell_type": "markdown",
   "id": "9bdffd88",
   "metadata": {},
   "source": [
    "# Conditional Statement"
   ]
  },
  {
   "cell_type": "code",
   "execution_count": 1,
   "id": "0a70605b",
   "metadata": {},
   "outputs": [
    {
     "name": "stdout",
     "output_type": "stream",
     "text": [
      "True\n"
     ]
    }
   ],
   "source": [
    "a=10\n",
    "b=12\n",
    "print(a<b)"
   ]
  },
  {
   "cell_type": "code",
   "execution_count": 3,
   "id": "2a926068",
   "metadata": {},
   "outputs": [
    {
     "name": "stdout",
     "output_type": "stream",
     "text": [
      "False\n"
     ]
    }
   ],
   "source": [
    "a=10\n",
    "b=12\n",
    "print(a>b)"
   ]
  },
  {
   "cell_type": "code",
   "execution_count": 7,
   "id": "e1e7e18e",
   "metadata": {},
   "outputs": [
    {
     "name": "stdout",
     "output_type": "stream",
     "text": [
      "The value is even\n"
     ]
    }
   ],
   "source": [
    "a = 10\n",
    "if a%2 == 0:\n",
    "    print(\"The value is even\")\n",
    "else:\n",
    "    print(\"The value is odd\")\n",
    "    "
   ]
  },
  {
   "cell_type": "code",
   "execution_count": 8,
   "id": "abc940e6",
   "metadata": {},
   "outputs": [
    {
     "name": "stdout",
     "output_type": "stream",
     "text": [
      "Please enter your value =5\n",
      "The value is odd\n"
     ]
    }
   ],
   "source": [
    "a = int(input(\"Please enter your value =\"))\n",
    "if a%2 == 0:\n",
    "    print(\"The value is even\")\n",
    "else:\n",
    "    print(\"The value is odd\")\n",
    "    "
   ]
  },
  {
   "cell_type": "code",
   "execution_count": 14,
   "id": "a08f7a56",
   "metadata": {},
   "outputs": [
    {
     "name": "stdout",
     "output_type": "stream",
     "text": [
      "Please enter your value =10\n",
      "Please enter your value =10\n",
      "Both value are equal\n"
     ]
    }
   ],
   "source": [
    "a = int(input(\"Please enter your value =\"))\n",
    "b = int(input(\"Please enter your value =\"))\n",
    "if a>b:\n",
    "    print(\"First value is greater than second value\")\n",
    "elif b>a:\n",
    "    print(\"Second value is greater thatn firt value\")\n",
    "else:\n",
    "    print(\"Both value are equal\")"
   ]
  },
  {
   "cell_type": "code",
   "execution_count": 22,
   "id": "933c2ff2",
   "metadata": {},
   "outputs": [
    {
     "name": "stdout",
     "output_type": "stream",
     "text": [
      "Enter the value =10.3\n",
      "Enter the value =10.3\n",
      "Enter + - * / =+\n",
      "20.6\n"
     ]
    }
   ],
   "source": [
    "a = float(input(\"Enter the value =\"))\n",
    "b = float(input(\"Enter the value =\"))\n",
    "o=input(\"Enter + - * / =\")\n",
    "if o == \"+\":\n",
    "    print(a+b)\n",
    "elif o == \"-\":\n",
    "    print(a-b)\n",
    "elif o == \"*\":\n",
    "    print(a*b)\n",
    "elif o == \"/\":\n",
    "    print(a/b)\n",
    "else:\n",
    "    print(\"invalid operator\")\n"
   ]
  },
  {
   "cell_type": "code",
   "execution_count": 24,
   "id": "2ba9990d",
   "metadata": {},
   "outputs": [
    {
     "name": "stdout",
     "output_type": "stream",
     "text": [
      "Enter the value =15\n",
      "Enter the value =0\n",
      "Enter + - * / =/\n",
      "The value of b can not be zero\n"
     ]
    }
   ],
   "source": [
    "a = float(input(\"Enter the value =\"))\n",
    "b = float(input(\"Enter the value =\"))\n",
    "o=input(\"Enter + - * / =\")\n",
    "if o == \"+\":\n",
    "    print(a+b)\n",
    "elif o == \"-\":\n",
    "    print(a-b)\n",
    "elif o == \"*\":\n",
    "    print(a*b)\n",
    "elif o == \"/\"and b != 0:\n",
    "    print(a/b)\n",
    "elif o == \"/\"and b == 0:\n",
    "    print(\"The value of b can not be zero\")\n",
    "else:\n",
    "    print(\"invalid operator\")"
   ]
  },
  {
   "cell_type": "markdown",
   "id": "ad671525",
   "metadata": {},
   "source": [
    "# For or"
   ]
  },
  {
   "cell_type": "code",
   "execution_count": 29,
   "id": "42ff89f3",
   "metadata": {},
   "outputs": [
    {
     "name": "stdout",
     "output_type": "stream",
     "text": [
      "Enter per =60\n",
      "1st division\n"
     ]
    }
   ],
   "source": [
    "per = float(input(\"Enter per =\"))\n",
    "if (per > 60) | (per == 60):\n",
    "    print(\"1st division\")"
   ]
  },
  {
   "cell_type": "markdown",
   "id": "1e0ac95a",
   "metadata": {},
   "source": [
    "# "
   ]
  }
 ],
 "metadata": {
  "kernelspec": {
   "display_name": "Python 3 (ipykernel)",
   "language": "python",
   "name": "python3"
  },
  "language_info": {
   "codemirror_mode": {
    "name": "ipython",
    "version": 3
   },
   "file_extension": ".py",
   "mimetype": "text/x-python",
   "name": "python",
   "nbconvert_exporter": "python",
   "pygments_lexer": "ipython3",
   "version": "3.9.7"
  }
 },
 "nbformat": 4,
 "nbformat_minor": 5
}
