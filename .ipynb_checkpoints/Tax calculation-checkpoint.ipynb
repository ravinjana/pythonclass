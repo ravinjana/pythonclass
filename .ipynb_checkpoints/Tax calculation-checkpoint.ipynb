{
 "cells": [
  {
   "cell_type": "code",
   "execution_count": null,
   "id": "13304167",
   "metadata": {},
   "outputs": [],
   "source": [
    "name=str(input(\"Staff Name =\"))\n",
    "marstatus=str(input(\"Marital Status =\"))\n",
    "gender=str(input(\"Enter gender\"))\n",
    "income=int(input(\"Enter Total Income =\"))\n",
    "cit_rf=int(income*0.33)\n",
    "if (cit_rf>500000):\n",
    "    print(\"Eligible for CIT/RF deposit =\",500000)\n",
    "elif(cit_rf<500000):\n",
    "    print(\"Eligible for CIT/RF deposit =\",cit_rf)\n",
    "cit=int(input(\"Enter actual CIT deposit =\"))\n",
    "if (cit<cit_rf):\n",
    "    print(\"Actual CIT taken for salary calculation =\",cit)\n",
    "if (Cit>cit_rf):\n",
    "    print(\"Acutal Cit taken for salary caluclation =\",cit_rf)\n",
    "remoteAll=int(input(\"Enter Remote Allowance =\"))\n",
    "isu=int(input(\"Enter Perimum Paid =\"))\n",
    "actprem=25000\n",
    "if (isu>actprem):\n",
    "    print(\"Actual perimum for salary calculation =\",actprem)\n",
    "taxableIncome= income-cit-remoteAll-isu\n",
    "print(\"Total Taxable Income\",taxableIncome)\n",
    "if marstatus== \"Married\" and gender == \"Male\":\n",
    "    print(\"1stslab = 450000\")\n",
    "if marstatus==\"Single\" and gender == \"Male\":\n",
    "    print(\"1st Slab = 400000\")"
   ]
  },
  {
   "cell_type": "code",
   "execution_count": null,
   "id": "3af996af",
   "metadata": {},
   "outputs": [],
   "source": [
    "name=str(input(\"Staff Name =\"))\n",
    "marstatus=str(input(\"Marital Status =\"))\n",
    "gender=str(input(\"Enter gender =\"))\n",
    "income=int(input(\"Enter Total Income =\"))\n",
    "cit=int(input(\"Enter actual CIT deposit =\"))\n",
    "limitcit=500000\n",
    "if (limitcit>cit,cit):\n",
    "    print(\"Cit for deduction =\",cit)\n",
    "elif(limitcit<cit,limitcit):\n",
    "    print(\"Cit for deduction =\",limitcit)\n",
    "remoteAll=int(input(\"Enter Remote Allowance =\"))\n",
    "isu=int(input(\"Enter Perimum Paid =\"))\n",
    "actprem=25000\n",
    "if (isu>actprem):\n",
    "    print(\"Actual perimum for salary calculation =\",actprem)\n",
    "taxableIncome= int(income-remoteAll-isu-cit)\n",
    "if (limitcit<cit,limitcit):\n",
    "    print(income-remoteAll-isu-limitcit)\n",
    "else: \n",
    "    print(\"Total Taxable Amount =\",taxableIcome)\n",
    "if marstatus== \"Married\" and gender == \"Male\":\n",
    "    print(\"1stslab = 450000\")\n",
    "if marstatus==\"Single\" and gender == \"Male\":\n",
    "    print(\"1st Slab = 400000\")"
   ]
  },
  {
   "cell_type": "code",
   "execution_count": 21,
   "id": "2b6d2256",
   "metadata": {},
   "outputs": [
    {
     "name": "stdout",
     "output_type": "stream",
     "text": [
      "Staff Name =\n",
      "Marital Status =\n",
      "Enter gender =\n",
      "Enter Total Income =6015865\n",
      "Enter actual CIT deposit =835869\n",
      "Cit for deduction = 500000\n",
      "Enter Remote Allowance =0\n",
      "Enter Perimum Paid =0\n",
      "Actual perimum for salary calculation = 0\n",
      "Total Taxable Amount = 5490865\n"
     ]
    }
   ],
   "source": [
    "limitisu=25000\n",
    "limitcit=500000\n",
    "name=str(input(\"Staff Name =\"))\n",
    "marstatus=str(input(\"Marital Status =\"))\n",
    "gender=str(input(\"Enter gender =\"))\n",
    "income=int(input(\"Enter Total Income =\"))\n",
    "cit=int(input(\"Enter actual CIT deposit =\"))\n",
    "if (limitcit>cit):\n",
    "    print(\"Cit for deduction =\",cit)\n",
    "else:\n",
    "    print(\"Cit for deduction =\",limitcit)\n",
    "remoteAll=int(input(\"Enter Remote Allowance =\"))\n",
    "isu=int(input(\"Enter Perimum Paid =\"))\n",
    "if (limitisu>isu):\n",
    "    print(\"Actual perimum for salary calculation =\",isu)\n",
    "else:\n",
    "    print(\"Insurance perimum =\",limitisu)\n",
    "if (limitcit>cit) and (limitisu>isu):\n",
    "    print(\"Total Taxable Amount =\",income-remoteAll-cit-isu)\n",
    "else:\n",
    "    print(\"Total Taxable Amount =\",income-remoteAll-limitisu-limitcit)\n",
    "if marstatus== \"Married\" and gender == \"Male\":\n",
    "    print(\"1stslab = 450000\")\n",
    "if marstatus==\"Single\" and gender == \"Male\":\n",
    "    print(\"1st Slab = 400000\")"
   ]
  },
  {
   "cell_type": "code",
   "execution_count": null,
   "id": "5b0e2e81",
   "metadata": {},
   "outputs": [],
   "source": []
  }
 ],
 "metadata": {
  "kernelspec": {
   "display_name": "Python 3 (ipykernel)",
   "language": "python",
   "name": "python3"
  },
  "language_info": {
   "codemirror_mode": {
    "name": "ipython",
    "version": 3
   },
   "file_extension": ".py",
   "mimetype": "text/x-python",
   "name": "python",
   "nbconvert_exporter": "python",
   "pygments_lexer": "ipython3",
   "version": "3.9.7"
  }
 },
 "nbformat": 4,
 "nbformat_minor": 5
}
