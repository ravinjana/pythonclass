{
 "cells": [
  {
   "cell_type": "markdown",
   "id": "5dffc074",
   "metadata": {},
   "source": [
    "# Control Statements"
   ]
  },
  {
   "cell_type": "code",
   "execution_count": 1,
   "id": "ca6fbe1e",
   "metadata": {},
   "outputs": [],
   "source": [
    "# break\n",
    "# Continue\n",
    "# pass"
   ]
  },
  {
   "cell_type": "code",
   "execution_count": 3,
   "id": "2be4f4c1",
   "metadata": {},
   "outputs": [],
   "source": [
    "# Ex : - Break"
   ]
  },
  {
   "cell_type": "code",
   "execution_count": 7,
   "id": "635cbffc",
   "metadata": {},
   "outputs": [
    {
     "name": "stdout",
     "output_type": "stream",
     "text": [
      "0\n",
      "1\n",
      "2\n",
      "3\n",
      "4\n"
     ]
    }
   ],
   "source": [
    "# output lai bichai ma break garn ko lagi use garnu. loop lai terminate garn ko lagi...\n",
    "for i in range(10):\n",
    "    if i == 5:\n",
    "        break\n",
    "    else:\n",
    "        print(i)"
   ]
  },
  {
   "cell_type": "code",
   "execution_count": null,
   "id": "1c7de198",
   "metadata": {},
   "outputs": [],
   "source": []
  },
  {
   "cell_type": "code",
   "execution_count": 8,
   "id": "1bbe24da",
   "metadata": {},
   "outputs": [],
   "source": [
    "# EX : - Continue"
   ]
  },
  {
   "cell_type": "code",
   "execution_count": 9,
   "id": "329e0ff5",
   "metadata": {},
   "outputs": [],
   "source": [
    "# continue loop use garda jati number diya ko xa vane...tiyo number escape garer auru number display garxa."
   ]
  },
  {
   "cell_type": "code",
   "execution_count": 12,
   "id": "e435c19a",
   "metadata": {},
   "outputs": [
    {
     "name": "stdout",
     "output_type": "stream",
     "text": [
      "0\n",
      "1\n",
      "2\n",
      "3\n",
      "4\n",
      "6\n",
      "7\n",
      "8\n",
      "9\n"
     ]
    }
   ],
   "source": [
    "for i in range(10):\n",
    "    if i ==5:\n",
    "        continue\n",
    "    else:\n",
    "        print(i)"
   ]
  },
  {
   "cell_type": "code",
   "execution_count": 13,
   "id": "d95b54fd",
   "metadata": {},
   "outputs": [
    {
     "name": "stdout",
     "output_type": "stream",
     "text": [
      "H\n",
      "e\n",
      "l\n",
      "l\n",
      "o\n",
      "W\n",
      "o\n",
      "r\n",
      "l\n",
      "d\n"
     ]
    }
   ],
   "source": [
    "a = \"Hello World\"\n",
    "for i in a:\n",
    "    if i ==\" \":\n",
    "        continue\n",
    "    else:\n",
    "        print(i)"
   ]
  },
  {
   "cell_type": "code",
   "execution_count": 17,
   "id": "7dd34420",
   "metadata": {},
   "outputs": [
    {
     "name": "stdout",
     "output_type": "stream",
     "text": [
      "Hello World Hello World Hello World Hello World Hello World Hello World Hello World Hello World Hello World Hello World "
     ]
    }
   ],
   "source": [
    "a = \"Hello World\"\n",
    "for i in a:\n",
    "    if i ==\" \":\n",
    "        continue\n",
    "    else:\n",
    "        print(a, end=\" \")"
   ]
  },
  {
   "cell_type": "code",
   "execution_count": 14,
   "id": "377c6461",
   "metadata": {},
   "outputs": [
    {
     "name": "stdout",
     "output_type": "stream",
     "text": [
      "H e l l o W o r l d "
     ]
    }
   ],
   "source": [
    "# end=\"\" - horizently print garn ko lagi yo use garne\n",
    "a = \"Hello World\"\n",
    "for i in a:\n",
    "    if i ==\" \":\n",
    "        continue\n",
    "    else:\n",
    "        print(i, end=\" \")"
   ]
  },
  {
   "cell_type": "code",
   "execution_count": 19,
   "id": "f9ac0ae7",
   "metadata": {},
   "outputs": [
    {
     "name": "stdout",
     "output_type": "stream",
     "text": [
      "python"
     ]
    }
   ],
   "source": [
    "a=\"python\"\n",
    "l=len(a)\n",
    "for i in range(l):\n",
    "    print(a[i], end=\"\")"
   ]
  },
  {
   "cell_type": "code",
   "execution_count": 22,
   "id": "78fd4f18",
   "metadata": {},
   "outputs": [
    {
     "data": {
      "text/plain": [
       "'t'"
      ]
     },
     "execution_count": 22,
     "metadata": {},
     "output_type": "execute_result"
    }
   ],
   "source": [
    "#[] ko use user le diyao string ko number lai print garne ho\n",
    "a =\"python\" \n",
    "a[2]"
   ]
  },
  {
   "cell_type": "markdown",
   "id": "42430225",
   "metadata": {},
   "source": [
    "# Pass \n",
    "(null operation)"
   ]
  },
  {
   "cell_type": "code",
   "execution_count": null,
   "id": "971643fc",
   "metadata": {},
   "outputs": [],
   "source": [
    "#Ex"
   ]
  },
  {
   "cell_type": "code",
   "execution_count": 23,
   "id": "1bf8c936",
   "metadata": {},
   "outputs": [],
   "source": [
    "a=10\n",
    "b=2\n",
    "if a>b:\n",
    "    pass\n",
    "elif b>a:\n",
    "    pass"
   ]
  }
 ],
 "metadata": {
  "kernelspec": {
   "display_name": "Python 3 (ipykernel)",
   "language": "python",
   "name": "python3"
  },
  "language_info": {
   "codemirror_mode": {
    "name": "ipython",
    "version": 3
   },
   "file_extension": ".py",
   "mimetype": "text/x-python",
   "name": "python",
   "nbconvert_exporter": "python",
   "pygments_lexer": "ipython3",
   "version": "3.9.7"
  }
 },
 "nbformat": 4,
 "nbformat_minor": 5
}
