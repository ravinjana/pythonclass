{
 "cells": [
  {
   "cell_type": "code",
   "execution_count": null,
   "id": "26f92080",
   "metadata": {},
   "outputs": [],
   "source": [
    "#Dictionary\n",
    "    #Indexed\n",
    "    #Ordered\n",
    "    #Multiple data\n",
    "    #Mutable\n",
    "    "
   ]
  },
  {
   "cell_type": "code",
   "execution_count": null,
   "id": "cb1b20d7",
   "metadata": {},
   "outputs": [],
   "source": [
    "#example of Indexed :- \n",
    "#Syntex\n",
    "# d = dict()\n",
    "# d = {<key>:<value>,<key>:<value>}\n",
    "\n",
    "d = {'a':\"Apple\",'b':\"Ball\",'c':'cat'}\n",
    "print(d)\n",
    "print(d['a'])"
   ]
  },
  {
   "cell_type": "code",
   "execution_count": null,
   "id": "a38bf2b7",
   "metadata": {},
   "outputs": [],
   "source": [
    "d = {'a':\"Apple\",'b':\"Ball\",'c':'cat'}\n",
    "print(d)\n",
    "print(d['a'])\n",
    "print(d[\"b\"])"
   ]
  },
  {
   "cell_type": "code",
   "execution_count": null,
   "id": "f6f00c8e",
   "metadata": {},
   "outputs": [],
   "source": [
    "#example of ordered :- \n",
    "d = {'a':\"Apple\",'b':\"Ball\",'c':'cat'}\n",
    "print(d)\n",
    "print(d['a'])"
   ]
  },
  {
   "cell_type": "code",
   "execution_count": null,
   "id": "48d95c74",
   "metadata": {},
   "outputs": [],
   "source": [
    "d = {'a':\"Apple\",'b':\"Ball\",'c':'cat'}\n",
    "print(d)\n",
    "\n",
    "print(len(d))"
   ]
  },
  {
   "cell_type": "code",
   "execution_count": null,
   "id": "7f34a461",
   "metadata": {},
   "outputs": [],
   "source": [
    "#Mutable\n",
    "d = {'a':\"Apple\",'b':\"Ball\",'c':'cat'}\n",
    "d['a'] = \"Mango\"\n",
    "print(d)\n"
   ]
  },
  {
   "cell_type": "code",
   "execution_count": null,
   "id": "18673026",
   "metadata": {},
   "outputs": [],
   "source": [
    "d={}\n",
    "d[\"a\"] = 'Apple'\n",
    "d['b'] = 'Ball'\n",
    "d['c'] = 'cat'\n",
    "d['e'] = 'Egg'\n",
    "print(d)"
   ]
  },
  {
   "cell_type": "code",
   "execution_count": null,
   "id": "58d0b674",
   "metadata": {},
   "outputs": [],
   "source": [
    "d={}\n",
    "n = int(input(\"Enter n =\"))\n",
    "for i in range (n):\n",
    "    name = input (\"Enter Name =\")\n",
    "    phone = input ('Enter phone =')\n",
    "    d[name] = phone\n",
    "print(d)"
   ]
  },
  {
   "cell_type": "code",
   "execution_count": null,
   "id": "c1a200d1",
   "metadata": {},
   "outputs": [],
   "source": [
    "# key lai mtra print garn ko lagi\n",
    "a = {'Ravi Dahal': '434332423423', 'Ram': '342324234', 'shyam ': '342432432'}\n",
    "for i in a:\n",
    "    print (i)\n",
    "    "
   ]
  },
  {
   "cell_type": "code",
   "execution_count": null,
   "id": "196d16ae",
   "metadata": {},
   "outputs": [],
   "source": [
    "# value lai mtra print garn ko lagi\n",
    "a = {'Ravi Dahal': '434332423423', 'Ram': '342324234', 'shyam ': '342432432'}\n",
    "for i in a.values():\n",
    "    print (i)"
   ]
  },
  {
   "cell_type": "code",
   "execution_count": null,
   "id": "38526659",
   "metadata": {},
   "outputs": [],
   "source": [
    "# key and value lai separatel print garn ko lagi\n",
    "a = {'Ravi Dahal': '434332423423', 'Ram': '342324234', 'shyam ': '342432432'}\n",
    "for i in a.items():\n",
    "    print (i)"
   ]
  },
  {
   "cell_type": "code",
   "execution_count": null,
   "id": "7e1e80a5",
   "metadata": {},
   "outputs": [],
   "source": [
    "a = {'Ravi Dahal': '434332423423', 'Ram': '342324234', 'shyam ': '342432432'}\n",
    "for i in a.items():\n",
    "    print (i)"
   ]
  },
  {
   "cell_type": "code",
   "execution_count": null,
   "id": "efd6464e",
   "metadata": {},
   "outputs": [],
   "source": [
    "a = {'Ravi Dahal': '434332423423', 'Ram': '342324234', 'shyam ': '342432432'}\n",
    "for i in a.items():\n",
    "    print (i[0])"
   ]
  },
  {
   "cell_type": "code",
   "execution_count": null,
   "id": "5887e362",
   "metadata": {},
   "outputs": [],
   "source": [
    "# DEL\n",
    "# POP"
   ]
  },
  {
   "cell_type": "code",
   "execution_count": null,
   "id": "6631df9f",
   "metadata": {},
   "outputs": [],
   "source": [
    "a = {'Ravi Dahal': '434332423423', 'Ram': '342324234', 'shyam ': '342432432'}\n",
    "a[\"Ram\"]"
   ]
  },
  {
   "cell_type": "code",
   "execution_count": null,
   "id": "37d5cb82",
   "metadata": {},
   "outputs": [],
   "source": [
    "a = {'Ravi Dahal': '434332423423', 'Ram': '342324234', 'shyam ': '342432432'}\n",
    "del a['Ram']\n",
    "print(a)\n",
    "a[\"Ravi Dahal\"] =\"9843433952\"\n",
    "print (a)"
   ]
  },
  {
   "cell_type": "code",
   "execution_count": null,
   "id": "305d7d0a",
   "metadata": {},
   "outputs": [],
   "source": [
    "#pop = b syntax le ravi ko value lai cut garer print gareko\n",
    "a = {'Ravi Dahal': '434332423423', 'Ram': '342324234', 'shyam ': '342432432'}\n",
    "b=a.pop(\"Ravi Dahal\")\n",
    "print(a)\n",
    "print(b)"
   ]
  },
  {
   "cell_type": "code",
   "execution_count": null,
   "id": "9ca8a3cf",
   "metadata": {},
   "outputs": [],
   "source": [
    "#pop\n",
    "a = {'Ravi Dahal': '434332423423', 'Ram': '342324234', 'shyam': '342432432'}\n",
    "print (a)\n",
    "b=a.pop(\"Ravi Dahal\")\n",
    "print(a)\n",
    "print(b)"
   ]
  },
  {
   "cell_type": "code",
   "execution_count": null,
   "id": "f17cd29a",
   "metadata": {},
   "outputs": [],
   "source": [
    "#list inside dictionary\n",
    "a = {'Ravi Dahal': [434332423423,34324032432], 'Ram': [342324234,3432434324],'shyam': [342432432,332433432]}\n",
    "print(a[\"Ram\"])\n",
    "print(a['shyam'])"
   ]
  },
  {
   "cell_type": "code",
   "execution_count": null,
   "id": "69ac2e42",
   "metadata": {},
   "outputs": [],
   "source": [
    "a = {'Ravi Dahal': [434332423423,34324032432], 'Ram': [342324234,3432434324],'shyam': [342432432,332433432]}\n",
    "a ['Ram']=[3434343244,4324324423]\n",
    "a"
   ]
  },
  {
   "cell_type": "code",
   "execution_count": null,
   "id": "4e22ad50",
   "metadata": {},
   "outputs": [],
   "source": [
    "a = {'Ravi Dahal': [434332423423,34324032432], 'Ram': [342324234,3432434324], 'shyam': [342432432,332433432]}\n",
    "a = ['Ram'][0] = 9084324234\n",
    "a"
   ]
  },
  {
   "cell_type": "code",
   "execution_count": 2,
   "id": "f7a50d30",
   "metadata": {},
   "outputs": [
    {
     "data": {
      "text/plain": [
       "{'Ravi Dahal': [434332423423, 34324032432],\n",
       " 'Ram': [342324234, 3432434324, 980234242],\n",
       " 'shyam': [342432432, 332433432, 980434432]}"
      ]
     },
     "execution_count": 2,
     "metadata": {},
     "output_type": "execute_result"
    }
   ],
   "source": [
    "a = {'Ravi Dahal': [434332423423,34324032432], 'Ram': [342324234,3432434324], 'shyam': [342432432,332433432]}\n",
    "a['Ram'].append(980234242)\n",
    "a['shyam'].append(980434432)\n",
    "a\n"
   ]
  },
  {
   "cell_type": "code",
   "execution_count": 4,
   "id": "711b399e",
   "metadata": {},
   "outputs": [
    {
     "name": "stdout",
     "output_type": "stream",
     "text": [
      "Enter n =2\n",
      "Enter Name =Ravi Dahal\n",
      "Enter ntc phone =3433432\n",
      "Enter ntc phone =234243\n",
      "Enter Name =Ravi Dahal\n",
      "Enter ntc phone =34324242\n",
      "Enter ntc phone =43423\n",
      "{'Ravi Dahal': ['34324242', '43423']}\n"
     ]
    }
   ],
   "source": [
    "d={}\n",
    "n = int(input(\"Enter n =\"))\n",
    "for i in range (n):\n",
    "    name = input (\"Enter Name =\")\n",
    "    phone_ntc = input ('Enter ntc phone =')\n",
    "    phone_ncell = input ('Enter ntc phone =')\n",
    "    d[name] = [phone_ntc,phone_ncell]\n",
    "print(d)"
   ]
  },
  {
   "cell_type": "code",
   "execution_count": 6,
   "id": "397b8195",
   "metadata": {},
   "outputs": [
    {
     "name": "stdout",
     "output_type": "stream",
     "text": [
      "[{'Name': 'Ram', 'NTC': 9800000000, 'ncell': 9800000001}, {'Name': 'Hari', 'NTC': 9811111111, 'ncell': 9801111111}, {'Name': 'shyam', 'NTC': 9822222222, 'ncell': 9802222222}]\n"
     ]
    }
   ],
   "source": [
    "#Disctionary list \n",
    "d=[{'Name':'Ram','NTC':9800000000,'ncell':9800000001},\n",
    "   {'Name':'Hari','NTC':9811111111,'ncell':9801111111},\n",
    "   {'Name':'shyam','NTC':9822222222,'ncell':9802222222}]\n",
    "print(d)"
   ]
  },
  {
   "cell_type": "code",
   "execution_count": 7,
   "id": "517ccb85",
   "metadata": {},
   "outputs": [
    {
     "name": "stdout",
     "output_type": "stream",
     "text": [
      "Ram\n"
     ]
    }
   ],
   "source": [
    "print(d[0][\"Name\"])"
   ]
  },
  {
   "cell_type": "code",
   "execution_count": 8,
   "id": "b07326d3",
   "metadata": {},
   "outputs": [
    {
     "name": "stdout",
     "output_type": "stream",
     "text": [
      "{'Name': 'shyam', 'NTC': 9822222222, 'ncell': 9802222222}\n"
     ]
    }
   ],
   "source": [
    "print(d[2])"
   ]
  },
  {
   "cell_type": "code",
   "execution_count": 9,
   "id": "e36cd712",
   "metadata": {},
   "outputs": [
    {
     "name": "stdout",
     "output_type": "stream",
     "text": [
      "9822222222\n"
     ]
    }
   ],
   "source": [
    "print(d[2][\"NTC\"])"
   ]
  },
  {
   "cell_type": "code",
   "execution_count": 12,
   "id": "06f3972e",
   "metadata": {},
   "outputs": [
    {
     "name": "stdout",
     "output_type": "stream",
     "text": [
      "{'Name': 'Ram', 'NTC': 9800000000, 'ncell': 9800000001}\n"
     ]
    }
   ],
   "source": [
    "#IRD ma hami jasari PAN number rakher serach gaarinxa..tiyo yasari search garn milxa..\n",
    "\n",
    "d=[{'Name':'Ram','NTC':9800000000,'ncell':9800000001},\n",
    "   {'Name':'Hari','NTC':9811111111,'ncell':9801111111},\n",
    "   {'Name':'shyam','NTC':9822222222,'ncell':9802222222}]\n",
    "for i in d:\n",
    "    if i['Name'] ==\"Ram\":\n",
    "        print(i)"
   ]
  },
  {
   "cell_type": "code",
   "execution_count": 16,
   "id": "8a948199",
   "metadata": {},
   "outputs": [
    {
     "name": "stdout",
     "output_type": "stream",
     "text": [
      "Enter n =2\n",
      "Enter name =Ram\n",
      "Enter ncell =9811111111\n",
      "Enter ntc =980111111\n",
      "Enter name =Hari\n",
      "Enter ncell =9822222222\n",
      "Enter ntc =983333333\n",
      "[{'Name': 'Ram', 'ncell': 9811111111, 'NTC': 980111111}, {'Name': 'Hari', 'ncell': 9822222222, 'NTC': 983333333}]\n"
     ]
    }
   ],
   "source": [
    "l= []\n",
    "n = int(input(\"Enter n =\"))\n",
    "for i in range (n):\n",
    "    name = input(\"Enter name =\")\n",
    "    ncell = int(input(\"Enter ncell =\"))\n",
    "    ntc = int(input(\"Enter ntc =\"))\n",
    "    data = {'Name':name,'ncell':ncell,'NTC':ntc}\n",
    "    l.append(data)\n",
    "print(l)\n",
    "              "
   ]
  },
  {
   "cell_type": "code",
   "execution_count": null,
   "id": "b0134504",
   "metadata": {},
   "outputs": [],
   "source": []
  }
 ],
 "metadata": {
  "kernelspec": {
   "display_name": "Python 3 (ipykernel)",
   "language": "python",
   "name": "python3"
  },
  "language_info": {
   "codemirror_mode": {
    "name": "ipython",
    "version": 3
   },
   "file_extension": ".py",
   "mimetype": "text/x-python",
   "name": "python",
   "nbconvert_exporter": "python",
   "pygments_lexer": "ipython3",
   "version": "3.9.7"
  }
 },
 "nbformat": 4,
 "nbformat_minor": 5
}
