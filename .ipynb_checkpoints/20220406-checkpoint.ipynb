{
 "cells": [
  {
   "cell_type": "code",
   "execution_count": null,
   "id": "75a26028",
   "metadata": {},
   "outputs": [],
   "source": [
    "#continue 20220405"
   ]
  },
  {
   "cell_type": "code",
   "execution_count": null,
   "id": "63094bd5",
   "metadata": {},
   "outputs": [],
   "source": [
    "# using control statement (Break, countinue and pass) in while"
   ]
  },
  {
   "cell_type": "code",
   "execution_count": null,
   "id": "3fd08f59",
   "metadata": {},
   "outputs": [],
   "source": [
    "# Example of Break"
   ]
  },
  {
   "cell_type": "code",
   "execution_count": null,
   "id": "bcc3f9ec",
   "metadata": {},
   "outputs": [],
   "source": [
    "a=0\n",
    "while 1<10:\n",
    "    if a ==5:\n",
    "        break\n",
    "    print(a)\n",
    "    a=a+1"
   ]
  },
  {
   "cell_type": "code",
   "execution_count": null,
   "id": "78118633",
   "metadata": {},
   "outputs": [],
   "source": [
    "#Example of continue\n",
    "a=0\n",
    "while 1<10:\n",
    "    if a ==5:\n",
    "        print(a)\n",
    "        a=a+1\n",
    "        continue\n",
    "    print(a)\n",
    "    a=a+1"
   ]
  },
  {
   "cell_type": "code",
   "execution_count": null,
   "id": "fcf2bf3f",
   "metadata": {},
   "outputs": [],
   "source": [
    "i=1\n",
    "n=5\n",
    "while i<50:\n",
    "    if i%5 !=0:\n",
    "        i=i+1\n",
    "        continue\n",
    "    print(i)\n",
    "    i=i+1"
   ]
  },
  {
   "cell_type": "code",
   "execution_count": null,
   "id": "91ad0aa7",
   "metadata": {},
   "outputs": [],
   "source": [
    "# exampale : - find out prime number and composite"
   ]
  },
  {
   "cell_type": "code",
   "execution_count": null,
   "id": "02dae373",
   "metadata": {},
   "outputs": [],
   "source": [
    "n= int(input(\"Enter n =\"))\n",
    "for i in range(2,n): #loop useing from starting 2 to user number\n",
    "    if n%i ==0:\n",
    "        print(n,\"is conposite no\")\n",
    "        break\n",
    "else: #for else loop (if statment bhanda bahir use garene..)\n",
    "    print(n,\"is prime\")"
   ]
  },
  {
   "cell_type": "code",
   "execution_count": null,
   "id": "0b20a183",
   "metadata": {},
   "outputs": [],
   "source": [
    "# nested For"
   ]
  },
  {
   "cell_type": "code",
   "execution_count": null,
   "id": "d6b761b3",
   "metadata": {},
   "outputs": [],
   "source": [
    "#Example\n",
    "#For\n",
    "    #For"
   ]
  }
 ],
 "metadata": {
  "kernelspec": {
   "display_name": "Python 3 (ipykernel)",
   "language": "python",
   "name": "python3"
  },
  "language_info": {
   "codemirror_mode": {
    "name": "ipython",
    "version": 3
   },
   "file_extension": ".py",
   "mimetype": "text/x-python",
   "name": "python",
   "nbconvert_exporter": "python",
   "pygments_lexer": "ipython3",
   "version": "3.9.7"
  }
 },
 "nbformat": 4,
 "nbformat_minor": 5
}
