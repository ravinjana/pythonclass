{
 "cells": [
  {
   "cell_type": "code",
   "execution_count": 1,
   "id": "a6c81929",
   "metadata": {},
   "outputs": [],
   "source": [
    "# set\n",
    "# No indexing\n",
    "# Unordered\n",
    "# Mutiple data\n",
    "# No Duplicate dat\n",
    "# Mutable (changable)"
   ]
  },
  {
   "cell_type": "code",
   "execution_count": 5,
   "id": "3fc407f0",
   "metadata": {},
   "outputs": [
    {
     "name": "stdout",
     "output_type": "stream",
     "text": [
      "{1, 2, 3, 4, 5, 6}\n",
      "<class 'set'>\n"
     ]
    }
   ],
   "source": [
    "# No indexing\n",
    "a = set()\n",
    "a = {1,2,3,4,5,6}\n",
    "print(a)\n",
    "print(type(a))"
   ]
  },
  {
   "cell_type": "code",
   "execution_count": 10,
   "id": "73ca5b60",
   "metadata": {},
   "outputs": [
    {
     "data": {
      "text/plain": [
       "{1, 4, 'apple', 'ball', 'cat', 'zebra'}"
      ]
     },
     "execution_count": 10,
     "metadata": {},
     "output_type": "execute_result"
    }
   ],
   "source": [
    "# unordered\n",
    "s = {'ball','apple','cat','zebra',1,4}\n",
    "s"
   ]
  },
  {
   "cell_type": "code",
   "execution_count": 9,
   "id": "f4ebf53d",
   "metadata": {},
   "outputs": [
    {
     "ename": "TypeError",
     "evalue": "'set' object is not subscriptable",
     "output_type": "error",
     "traceback": [
      "\u001b[1;31m---------------------------------------------------------------------------\u001b[0m",
      "\u001b[1;31mTypeError\u001b[0m                                 Traceback (most recent call last)",
      "\u001b[1;32mC:\\Users\\RDAHAL~1.SCI\\AppData\\Local\\Temp/ipykernel_20136/4070793840.py\u001b[0m in \u001b[0;36m<module>\u001b[1;34m\u001b[0m\n\u001b[0;32m      1\u001b[0m \u001b[1;31m# no indexing\u001b[0m\u001b[1;33m\u001b[0m\u001b[1;33m\u001b[0m\u001b[0m\n\u001b[0;32m      2\u001b[0m \u001b[0ms\u001b[0m \u001b[1;33m=\u001b[0m \u001b[1;33m{\u001b[0m\u001b[1;34m'ball'\u001b[0m\u001b[1;33m,\u001b[0m\u001b[1;34m'apple'\u001b[0m\u001b[1;33m,\u001b[0m\u001b[1;34m'cat'\u001b[0m\u001b[1;33m,\u001b[0m\u001b[1;34m'zebra'\u001b[0m\u001b[1;33m,\u001b[0m\u001b[1;36m1\u001b[0m\u001b[1;33m,\u001b[0m\u001b[1;36m4\u001b[0m\u001b[1;33m}\u001b[0m\u001b[1;33m\u001b[0m\u001b[1;33m\u001b[0m\u001b[0m\n\u001b[1;32m----> 3\u001b[1;33m \u001b[0ms\u001b[0m\u001b[1;33m[\u001b[0m\u001b[1;36m0\u001b[0m\u001b[1;33m]\u001b[0m\u001b[1;33m\u001b[0m\u001b[1;33m\u001b[0m\u001b[0m\n\u001b[0m",
      "\u001b[1;31mTypeError\u001b[0m: 'set' object is not subscriptable"
     ]
    }
   ],
   "source": [
    "# no indexing\n",
    "s = {'ball','apple','cat','zebra',1,4}\n",
    "s[0]"
   ]
  },
  {
   "cell_type": "code",
   "execution_count": 12,
   "id": "ad93b39f",
   "metadata": {},
   "outputs": [
    {
     "name": "stdout",
     "output_type": "stream",
     "text": [
      "{1, 2, 3, 4, 5, 6, 7, 8, 9}\n"
     ]
    }
   ],
   "source": [
    "# NO Duplicate data\n",
    "s = {1,2,3,4,5,6,7,7,8,8,9,9,}\n",
    "print(s)"
   ]
  },
  {
   "cell_type": "code",
   "execution_count": 16,
   "id": "1993f49c",
   "metadata": {},
   "outputs": [
    {
     "name": "stdout",
     "output_type": "stream",
     "text": [
      "{1, 2, 'ball', 'apple', 'cat'}\n"
     ]
    }
   ],
   "source": [
    "# Mutable (changable)\n",
    "s = set()\n",
    "s.add(\"apple\")\n",
    "s.add(\"ball\")\n",
    "s.add('cat')\n",
    "s.add(1)\n",
    "s.add(2)\n",
    "print(s)"
   ]
  },
  {
   "cell_type": "code",
   "execution_count": 18,
   "id": "4504fef9",
   "metadata": {},
   "outputs": [
    {
     "data": {
      "text/plain": [
       "{1, 2, 3, 4, 5, 6, 7, 8, 9}"
      ]
     },
     "execution_count": 18,
     "metadata": {},
     "output_type": "execute_result"
    }
   ],
   "source": [
    "s = {1,2,2,2,3,3,4,4,4,5,6,7,7,8,8,9,9,}\n",
    "set((s))"
   ]
  },
  {
   "cell_type": "code",
   "execution_count": 19,
   "id": "b31d40f5",
   "metadata": {},
   "outputs": [
    {
     "data": {
      "text/plain": [
       "[1, 2, 3, 4, 5, 6, 7, 8, 9]"
      ]
     },
     "execution_count": 19,
     "metadata": {},
     "output_type": "execute_result"
    }
   ],
   "source": [
    "s = {1,2,2,2,3,3,4,4,4,5,6,7,7,8,8,9,9,}\n",
    "list(set((s)))"
   ]
  },
  {
   "cell_type": "code",
   "execution_count": null,
   "id": "bb951fb4",
   "metadata": {},
   "outputs": [],
   "source": [
    "#union()\n",
    "#intersection()\n",
    "#difference()"
   ]
  },
  {
   "cell_type": "code",
   "execution_count": 24,
   "id": "023c95af",
   "metadata": {},
   "outputs": [
    {
     "data": {
      "text/plain": [
       "{'kushal', 'nabin'}"
      ]
     },
     "execution_count": 24,
     "metadata": {},
     "output_type": "execute_result"
    }
   ],
   "source": [
    "Acom ={\"Ram\",'shyam','nitesh','nabin','kushal'}\n",
    "bcom ={'bill','hari','shital','ananda','nabin','kushal'}\n",
    "Acom.intersection(bcom)"
   ]
  },
  {
   "cell_type": "code",
   "execution_count": 26,
   "id": "88f719e2",
   "metadata": {},
   "outputs": [
    {
     "name": "stdout",
     "output_type": "stream",
     "text": [
      "{'bill', 'nitesh', 'kushal', 'ananda', 'nabin', 'shital', 'shyam', 'Ram', 'hari'}\n"
     ]
    }
   ],
   "source": [
    "Acom ={\"Ram\",'shyam','nitesh','nabin','kushal'}\n",
    "bcom ={'bill','hari','shital','ananda','nabin','kushal'}\n",
    "print(Acom.union(bcom))"
   ]
  },
  {
   "cell_type": "code",
   "execution_count": 29,
   "id": "7deecd50",
   "metadata": {},
   "outputs": [
    {
     "name": "stdout",
     "output_type": "stream",
     "text": [
      "{'bill', 'shital', 'hari', 'ananda'}\n"
     ]
    }
   ],
   "source": [
    "acom ={\"Ram\",'shyam','nitesh','nabin','kushal'}\n",
    "bcom ={'bill','hari','shital','ananda','nabin','kushal'}\n",
    "print(bcom.difference(Acom))"
   ]
  },
  {
   "cell_type": "code",
   "execution_count": 31,
   "id": "149d0453",
   "metadata": {},
   "outputs": [
    {
     "name": "stdout",
     "output_type": "stream",
     "text": [
      "{'sita', 'janak', 'gita'}\n"
     ]
    }
   ],
   "source": [
    "u = {'bill', 'nitesh', 'kushal', 'ananda', 'nabin', 'shital', 'shyam', 'Ram', 'hari','janak','sita','gita'}\n",
    "Acom ={\"Ram\",'shyam','nitesh','nabin','kushal'}\n",
    "bcom ={'bill','hari','shital','ananda','nabin','kushal'}\n",
    "print(u.difference(Acom.union(bcom)))"
   ]
  },
  {
   "cell_type": "code",
   "execution_count": 36,
   "id": "61596379",
   "metadata": {},
   "outputs": [
    {
     "data": {
      "text/plain": [
       "{'hari'}"
      ]
     },
     "execution_count": 36,
     "metadata": {},
     "output_type": "execute_result"
    }
   ],
   "source": [
    "acom = {\"Ram\",'shyam','hari','nitesh','nabin','kushal'}\n",
    "bcom = {'bill','hari','shital','ananda','nabin','kushal'}\n",
    "ccom = {'sita','hari','shital','ananda','janak','gita'}\n",
    "\n",
    "acom.intersection(bcom).intersection(ccom)"
   ]
  },
  {
   "cell_type": "code",
   "execution_count": 37,
   "id": "cbc68680",
   "metadata": {},
   "outputs": [
    {
     "ename": "TypeError",
     "evalue": "unhashable type: 'set'",
     "output_type": "error",
     "traceback": [
      "\u001b[1;31m---------------------------------------------------------------------------\u001b[0m",
      "\u001b[1;31mTypeError\u001b[0m                                 Traceback (most recent call last)",
      "\u001b[1;32mC:\\Users\\RDAHAL~1.SCI\\AppData\\Local\\Temp/ipykernel_20136/2295253278.py\u001b[0m in \u001b[0;36m<module>\u001b[1;34m\u001b[0m\n\u001b[0;32m      1\u001b[0m \u001b[1;31m#note: -  Not mutable inside set\u001b[0m\u001b[1;33m\u001b[0m\u001b[1;33m\u001b[0m\u001b[0m\n\u001b[0;32m      2\u001b[0m \u001b[1;31m#example :-\u001b[0m\u001b[1;33m\u001b[0m\u001b[1;33m\u001b[0m\u001b[0m\n\u001b[1;32m----> 3\u001b[1;33m \u001b[0ma\u001b[0m \u001b[1;33m=\u001b[0m \u001b[1;33m{\u001b[0m\u001b[1;33m{\u001b[0m\u001b[1;36m1\u001b[0m\u001b[1;33m,\u001b[0m\u001b[1;36m2\u001b[0m\u001b[1;33m,\u001b[0m\u001b[1;36m3\u001b[0m\u001b[1;33m}\u001b[0m\u001b[1;33m,\u001b[0m\u001b[1;33m{\u001b[0m\u001b[1;36m4\u001b[0m\u001b[1;33m,\u001b[0m\u001b[1;36m5\u001b[0m\u001b[1;33m,\u001b[0m\u001b[1;36m6\u001b[0m\u001b[1;33m}\u001b[0m\u001b[1;33m}\u001b[0m\u001b[1;33m\u001b[0m\u001b[1;33m\u001b[0m\u001b[0m\n\u001b[0m\u001b[0;32m      4\u001b[0m \u001b[0ma\u001b[0m\u001b[1;33m\u001b[0m\u001b[1;33m\u001b[0m\u001b[0m\n",
      "\u001b[1;31mTypeError\u001b[0m: unhashable type: 'set'"
     ]
    }
   ],
   "source": [
    "#note: -  Not mutable inside set\n",
    "#example :- \n",
    "a = {{1,2,3},{4,5,6}}\n",
    "a"
   ]
  },
  {
   "cell_type": "code",
   "execution_count": 40,
   "id": "e48c46c4",
   "metadata": {},
   "outputs": [
    {
     "name": "stdout",
     "output_type": "stream",
     "text": [
      "{(1, 2, 3), (4, 5, 6)}\n"
     ]
    }
   ],
   "source": [
    "#tuple inside set exist\n",
    "# example\n",
    "a = {(1,2,3),(4,5,6)}\n",
    "print(a)"
   ]
  },
  {
   "cell_type": "code",
   "execution_count": null,
   "id": "ba0ce01e",
   "metadata": {},
   "outputs": [],
   "source": []
  }
 ],
 "metadata": {
  "kernelspec": {
   "display_name": "Python 3 (ipykernel)",
   "language": "python",
   "name": "python3"
  },
  "language_info": {
   "codemirror_mode": {
    "name": "ipython",
    "version": 3
   },
   "file_extension": ".py",
   "mimetype": "text/x-python",
   "name": "python",
   "nbconvert_exporter": "python",
   "pygments_lexer": "ipython3",
   "version": "3.9.7"
  }
 },
 "nbformat": 4,
 "nbformat_minor": 5
}
