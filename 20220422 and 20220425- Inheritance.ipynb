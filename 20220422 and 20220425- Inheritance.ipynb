{
 "cells": [
  {
   "cell_type": "code",
   "execution_count": null,
   "id": "14ebeb7c",
   "metadata": {},
   "outputs": [],
   "source": [
    "# inheritance is the capability of one class to derive or inherit the properties from some another class.\n",
    "# type of Inheritance\n",
    "    # Multi-level inheritance \n",
    "    # Multiple inheritance"
   ]
  },
  {
   "cell_type": "code",
   "execution_count": null,
   "id": "0b036bbb",
   "metadata": {},
   "outputs": [],
   "source": [
    "#Syntex\n",
    "\n",
    "# class A:\n",
    "#     pass \n",
    "\n",
    "# class B:\n",
    "#     pass\n",
    "\n",
    "# obj = B()\n"
   ]
  },
  {
   "cell_type": "code",
   "execution_count": null,
   "id": "b3e56c38",
   "metadata": {},
   "outputs": [],
   "source": [
    "class Info:\n",
    "    def __init__(self):\n",
    "        self.name = input('Enter name =')\n",
    "        self.age = int(input('Enter age ='))\n",
    "        self.add = input('Enter address =')\n",
    "    \n",
    "class Data(Info): #\n",
    "    def data (self):\n",
    "        print(f'Hello world I am {self.name}. I am from {self.add}. I am {self.age}')\n",
    "        \n",
    "obj = Data() # class Data lai obj bana ko\n",
    "obj.data()"
   ]
  },
  {
   "cell_type": "code",
   "execution_count": null,
   "id": "22911ef4",
   "metadata": {},
   "outputs": [],
   "source": [
    "class Info:\n",
    "    def __init__(self,name,age,add): # Jun class ma init hunxa tiyo class parent class ho.\n",
    "        self.name = name\n",
    "        self.age = age\n",
    "        self.add = add       \n",
    "    \n",
    "class Data(Info):\n",
    "    def data (self):\n",
    "        print(f'Hello world I am {self.name}. I am from {self.add}. I am {self.age}')\n",
    "        \n",
    "name = input('Enter name =')\n",
    "age = int(input('Enter age ='))\n",
    "add = input('Enter address =')\n",
    "\n",
    "obj = Data(name,age,add) #\n",
    "obj.data()"
   ]
  },
  {
   "cell_type": "code",
   "execution_count": null,
   "id": "231cdab6",
   "metadata": {},
   "outputs": [],
   "source": [
    "class Info:\n",
    "    def __init__(self,name,age,add):\n",
    "        self.add = add       \n",
    "    def add (self): # tala ko info.__init__(add) syntax use garepaxi yo def add (self) and print ('massage display') garne ho\n",
    "        print(f'I am from {self.add}')\n",
    "    \n",
    "class Data(Info):\n",
    "    def __init__(self,name,age,add):\n",
    "        self.name = name\n",
    "        self.age = age\n",
    "        #self.add = add sabai value lai child class batai lin eho vane..kin parent chahiyo...tesai le \n",
    "        Info.__init__(add) # parent class bat kunai aru kunai extra data line ho vane yo syntax use garne\n",
    "    def data (self):\n",
    "        print(f'Hello world I am {self.name}. I am from {self.add}. I am {self.age}')\n",
    "        \n",
    "name = input('Enter name =')\n",
    "age = int(input('Enter age ='))\n",
    "add = input('Enter address =')\n",
    "\n",
    "obj = Data(name,age,add)\n",
    "obj.data()"
   ]
  },
  {
   "cell_type": "code",
   "execution_count": null,
   "id": "ae4a2d5a",
   "metadata": {},
   "outputs": [],
   "source": [
    "class Info:\n",
    "    def __init__(self,add):\n",
    "        self.add = add       \n",
    "    def ad (self): # tala ko info.__init__(add) syntax use garepaxi yo def add (self) and print ('massage display') garne ho\n",
    "        print(f'I am from {self.add}')\n",
    "    \n",
    "class Data(Info):\n",
    "    def __init__(self,name,age,add):\n",
    "        self.name = name\n",
    "        self.age = age\n",
    "        #self.add = add sabai value lai child class batai lin eho vane..kin parent chahiyo...tesai le \n",
    "        Info.__init__(self,add) # parent class bat kunai aru kunai extra data line ho vane yo syntax use garne\n",
    "    def data (self):\n",
    "        print(f'Hello world I am {self.name}. I am from {self.add}. I am {self.age}')\n",
    "        \n",
    "name = input('Enter name =')\n",
    "age = int(input('Enter age ='))\n",
    "add = input('Enter address =')\n",
    "\n",
    "obj = Data(name,age,add)\n",
    "obj.data()\n",
    "obj.ad()"
   ]
  },
  {
   "cell_type": "code",
   "execution_count": null,
   "id": "cfbabb5d",
   "metadata": {},
   "outputs": [],
   "source": [
    "class Info:\n",
    "    def __init__(self,add):\n",
    "        self.add = add       \n",
    "    def ad (self): # tala ko info.__init__(add) syntax use garepaxi yo def add (self) and print ('massage display') garne ho\n",
    "        print(f'I am from {self.add}. My name is {self.nam})\n",
    "    \n",
    "class Data(Info):\n",
    "    def __init__(self,name,age,add):\n",
    "        self.name = name\n",
    "        self.age = age\n",
    "        #self.add = add sabai value lai child class batai lin eho vane..kin parent chahiyo...tesai le \n",
    "        Info.__init__(self,add) # parent class bat kunai aru kunai extra data line ho vane yo syntax use garne\n",
    "    def data (self):\n",
    "        print(f'Hello world I am {self.name}. I am from {self.add}. I am {self.age}')\n",
    "        \n",
    "name = input('Enter name =')\n",
    "age = int(input('Enter age ='))\n",
    "add = input('Enter address =')\n",
    "\n",
    "obj = Data(name,age,add)\n",
    "obj.data()\n",
    "obj.ad()"
   ]
  },
  {
   "cell_type": "code",
   "execution_count": null,
   "id": "512ad155",
   "metadata": {},
   "outputs": [],
   "source": [
    "#Multi-level inheritance\n"
   ]
  },
  {
   "cell_type": "code",
   "execution_count": null,
   "id": "03d7293f",
   "metadata": {},
   "outputs": [],
   "source": [
    "# Syntax of Multi-Level\n",
    "\n",
    "# class A:\n",
    "#     pass\n",
    "\n",
    "# class B (A):\n",
    "#     pass\n",
    "\n",
    "# calss C (B):\n",
    "#     pass\n",
    "\n",
    "# obj = c()"
   ]
  },
  {
   "cell_type": "code",
   "execution_count": null,
   "id": "207c23fa",
   "metadata": {},
   "outputs": [],
   "source": [
    "# Syntax of Multiple\n",
    "\n",
    "# class A:\n",
    "#     pass\n",
    "\n",
    "# class B (A):\n",
    "#     pass\n",
    "\n",
    "# calss C (B):\n",
    "#     pass\n",
    "\n",
    "# obj = c()"
   ]
  },
  {
   "cell_type": "code",
   "execution_count": null,
   "id": "c18297d4",
   "metadata": {},
   "outputs": [],
   "source": [
    "#example of multi-level\n",
    "class Info:\n",
    "    def __init__(self,add):\n",
    "        self.add = add     \n",
    "    def ad(self):\n",
    "        print(f'hello I am from {self.add}. My Name is {self.name}')\n",
    "\n",
    "class Org(Info):\n",
    "    def __init__(self,age,add):\n",
    "        self.age = age\n",
    "        Info. __init__(self,add)\n",
    "    \n",
    "class Data(Info):\n",
    "    def __init__(self,name,age,add):\n",
    "        self.name = name\n",
    "        Org.__init__(self,age,add) \n",
    "        \n",
    "    def data (self):\n",
    "        print(f'Hello world I am {self.name}. I am from {self.add}. I am {self.age}')\n",
    "        \n",
    "\n",
    "obj = Data(\"Ram\",32,\"KTM\")\n",
    "obj.data()\n",
    "obj.ad()"
   ]
  },
  {
   "cell_type": "code",
   "execution_count": null,
   "id": "8a2e99ca",
   "metadata": {},
   "outputs": [],
   "source": [
    "#example of multiple\n",
    "class Info:\n",
    "    def __init__(self,add):\n",
    "        self.add = add     \n",
    "    def ad(self):\n",
    "        print(f'hello I am from {self.add}. My Name is {self.name}')\n",
    "\n",
    "class Org(Info):\n",
    "    def __init__(self,age):\n",
    "        self.age = age\n",
    "       \n",
    "    \n",
    "class Data(Info):\n",
    "    def __init__(self,name,age,add):\n",
    "        self.name = name\n",
    "        Org.__init__(self,age)\n",
    "        Info.__init__(self,add)\n",
    "        \n",
    "    def data (self):\n",
    "        print(f'Hello world I am {self.name}. I am from {self.add}. I am {self.age}')\n",
    "        \n",
    "\n",
    "obj = Data(\"Ram\",32,\"KTM\")\n",
    "obj.data()\n",
    "obj.ad()"
   ]
  },
  {
   "cell_type": "code",
   "execution_count": null,
   "id": "bfef1700",
   "metadata": {},
   "outputs": [],
   "source": [
    "class Info:\n",
    "    def __init__(self):\n",
    "        self.add = input(\"Enter address =\")     \n",
    "        \n",
    "    def ad(self):\n",
    "        print(f'hello I am from {self.add}.')\n",
    "\n",
    "class Org:\n",
    "    def __init__(self):\n",
    "        self.age = int(input(\"Enter age =\"))\n",
    "        \n",
    "    def org(self):\n",
    "        print(f'Hello I am {self.age}')\n",
    "       \n",
    "    \n",
    "class Data(Info,Org):\n",
    "    def __init__(self):\n",
    "        self.name = input('enter Name =')\n",
    "        Org.__init__(self)\n",
    "        Info.__init__(self)\n",
    "        \n",
    "    def data (self):\n",
    "        print(f'Hello world I am {self.name}. I am from {self.add}. I am {self.age}')\n",
    "        \n",
    "\n",
    "obj = Data()\n",
    "obj.data()\n"
   ]
  },
  {
   "cell_type": "code",
   "execution_count": null,
   "id": "11b5b5a9",
   "metadata": {},
   "outputs": [],
   "source": [
    "class Info:\n",
    "    def __init__(self):\n",
    "        self.add = input(\"Enter address =\")     \n",
    "        \n",
    "    def ad(self):\n",
    "        print(f'hello I am from {self.add}.')    \n",
    "\n",
    "class Org:\n",
    "    def __init__(self):\n",
    "        self.age = int(input(\"Enter age =\"))\n",
    "        \n",
    "    def org(self):\n",
    "        print(f'Hello I am {self.age}')\n",
    "                \n",
    "    \n",
    "class Data(Info,Org):\n",
    "    def __init__(self):\n",
    "        self.name = input('enter Name =')\n",
    "        Org.__init__(self)\n",
    "        Info.__init__(self)\n",
    "        \n",
    "    def data (self):\n",
    "        print(f'Hello world I am {self.name}. I am from {self.add}. I am {self.age}')\n",
    "\n",
    "\n",
    "obj = Data()\n",
    "obj.data()"
   ]
  },
  {
   "cell_type": "code",
   "execution_count": null,
   "id": "7d80f45c",
   "metadata": {},
   "outputs": [],
   "source": [
    "# Python - public, private and protected Access\n",
    "\n"
   ]
  },
  {
   "cell_type": "code",
   "execution_count": null,
   "id": "dc9c0aaa",
   "metadata": {},
   "outputs": [],
   "source": [
    "#Public members\n",
    "class Info:\n",
    "    def __init__(self,name,age,add):\n",
    "        self.name = name\n",
    "        self.age = age\n",
    "        self.add = add\n",
    "        \n",
    "obj = Info(\"Ram\",32,\"KTM\")\n",
    "print(obj.name)\n",
    "print(obj.age)\n",
    "print(obj.add)"
   ]
  },
  {
   "cell_type": "code",
   "execution_count": 3,
   "id": "8c45746b",
   "metadata": {},
   "outputs": [
    {
     "name": "stdout",
     "output_type": "stream",
     "text": [
      "Ram\n"
     ]
    },
    {
     "ename": "AttributeError",
     "evalue": "'Info' object has no attribute 'age'",
     "output_type": "error",
     "traceback": [
      "\u001b[1;31m---------------------------------------------------------------------------\u001b[0m",
      "\u001b[1;31mAttributeError\u001b[0m                            Traceback (most recent call last)",
      "\u001b[1;32mC:\\Users\\RDAHAL~1.SCI\\AppData\\Local\\Temp/ipykernel_11544/1606223654.py\u001b[0m in \u001b[0;36m<module>\u001b[1;34m\u001b[0m\n\u001b[0;32m      8\u001b[0m \u001b[0mobj\u001b[0m \u001b[1;33m=\u001b[0m \u001b[0mInfo\u001b[0m\u001b[1;33m(\u001b[0m\u001b[1;34m\"Ram\"\u001b[0m\u001b[1;33m,\u001b[0m\u001b[1;36m32\u001b[0m\u001b[1;33m,\u001b[0m\u001b[1;34m\"KTM\"\u001b[0m\u001b[1;33m)\u001b[0m\u001b[1;33m\u001b[0m\u001b[1;33m\u001b[0m\u001b[0m\n\u001b[0;32m      9\u001b[0m \u001b[0mprint\u001b[0m\u001b[1;33m(\u001b[0m\u001b[0mobj\u001b[0m\u001b[1;33m.\u001b[0m\u001b[0mname\u001b[0m\u001b[1;33m)\u001b[0m\u001b[1;33m\u001b[0m\u001b[1;33m\u001b[0m\u001b[0m\n\u001b[1;32m---> 10\u001b[1;33m \u001b[0mprint\u001b[0m\u001b[1;33m(\u001b[0m\u001b[0mobj\u001b[0m\u001b[1;33m.\u001b[0m\u001b[0mage\u001b[0m\u001b[1;33m)\u001b[0m \u001b[1;31m#protected not display\u001b[0m\u001b[1;33m\u001b[0m\u001b[1;33m\u001b[0m\u001b[0m\n\u001b[0m\u001b[0;32m     11\u001b[0m \u001b[0mprint\u001b[0m\u001b[1;33m(\u001b[0m\u001b[0mobj\u001b[0m\u001b[1;33m.\u001b[0m\u001b[0madd\u001b[0m\u001b[1;33m)\u001b[0m \u001b[1;31m#protected not dispaly\u001b[0m\u001b[1;33m\u001b[0m\u001b[1;33m\u001b[0m\u001b[0m\n",
      "\u001b[1;31mAttributeError\u001b[0m: 'Info' object has no attribute 'age'"
     ]
    }
   ],
   "source": [
    "#Protect members\n",
    "class Info:\n",
    "    def __init__(self,name,age,add):\n",
    "        self.name = name\n",
    "        self._age = age #Protect\n",
    "        self._add = add #Protect\n",
    "        \n",
    "obj = Info(\"Ram\",32,\"KTM\")\n",
    "print(obj.name)\n",
    "print(obj.age) #protected not display\n",
    "print(obj.add) #protected not dispaly\n"
   ]
  },
  {
   "cell_type": "code",
   "execution_count": null,
   "id": "9bdf802c",
   "metadata": {},
   "outputs": [],
   "source": [
    "#Protect members\n",
    "class Info:\n",
    "    def __init__(self,name,age,add):\n",
    "        self.name = name\n",
    "        self._age = age #protect data\n",
    "        self._add = add #protect data\n",
    "        \n",
    "obj = Info(\"Ram\",32,\"KTM\")\n",
    "print(obj.age)"
   ]
  },
  {
   "cell_type": "code",
   "execution_count": null,
   "id": "a6586ede",
   "metadata": {},
   "outputs": [],
   "source": [
    "#Protect members\n",
    "class Info:\n",
    "    def __init__(self,name,age,add):\n",
    "        self.name = name\n",
    "        self._age = age #protect data\n",
    "        self._add = add #protect data\n",
    "        \n",
    "obj = Info(\"Ram\",32,\"KTM\")\n",
    "print(obj.add)"
   ]
  },
  {
   "cell_type": "code",
   "execution_count": 2,
   "id": "bdef91bc",
   "metadata": {},
   "outputs": [
    {
     "name": "stdout",
     "output_type": "stream",
     "text": [
      "Enter name =ram\n",
      "Enter age =32\n",
      "Enter address =ktm\n"
     ]
    },
    {
     "ename": "AttributeError",
     "evalue": "'Data' object has no attribute '_Data__add'",
     "output_type": "error",
     "traceback": [
      "\u001b[1;31m---------------------------------------------------------------------------\u001b[0m",
      "\u001b[1;31mAttributeError\u001b[0m                            Traceback (most recent call last)",
      "\u001b[1;32mC:\\Users\\RDAHAL~1.SCI\\AppData\\Local\\Temp/ipykernel_13356/3357448370.py\u001b[0m in \u001b[0;36m<module>\u001b[1;34m\u001b[0m\n\u001b[0;32m     16\u001b[0m \u001b[1;33m\u001b[0m\u001b[0m\n\u001b[0;32m     17\u001b[0m \u001b[0mobj\u001b[0m \u001b[1;33m=\u001b[0m \u001b[0mData\u001b[0m\u001b[1;33m(\u001b[0m\u001b[0mname\u001b[0m\u001b[1;33m,\u001b[0m\u001b[0mage\u001b[0m\u001b[1;33m,\u001b[0m\u001b[0madd\u001b[0m\u001b[1;33m)\u001b[0m\u001b[1;33m\u001b[0m\u001b[1;33m\u001b[0m\u001b[0m\n\u001b[1;32m---> 18\u001b[1;33m \u001b[0mobj\u001b[0m\u001b[1;33m.\u001b[0m\u001b[0mdata\u001b[0m\u001b[1;33m(\u001b[0m\u001b[1;33m)\u001b[0m\u001b[1;33m\u001b[0m\u001b[1;33m\u001b[0m\u001b[0m\n\u001b[0m\u001b[0;32m     19\u001b[0m \u001b[0mobj\u001b[0m\u001b[1;33m.\u001b[0m\u001b[0minfo\u001b[0m\u001b[1;33m(\u001b[0m\u001b[1;33m)\u001b[0m\u001b[1;33m\u001b[0m\u001b[1;33m\u001b[0m\u001b[0m\n",
      "\u001b[1;32mC:\\Users\\RDAHAL~1.SCI\\AppData\\Local\\Temp/ipykernel_13356/3357448370.py\u001b[0m in \u001b[0;36mdata\u001b[1;34m(self)\u001b[0m\n\u001b[0;32m      9\u001b[0m \u001b[1;32mclass\u001b[0m \u001b[0mData\u001b[0m\u001b[1;33m(\u001b[0m\u001b[0mInfo\u001b[0m\u001b[1;33m)\u001b[0m\u001b[1;33m:\u001b[0m\u001b[1;33m\u001b[0m\u001b[1;33m\u001b[0m\u001b[0m\n\u001b[0;32m     10\u001b[0m     \u001b[1;32mdef\u001b[0m \u001b[0mdata\u001b[0m \u001b[1;33m(\u001b[0m\u001b[0mself\u001b[0m\u001b[1;33m)\u001b[0m\u001b[1;33m:\u001b[0m\u001b[1;33m\u001b[0m\u001b[1;33m\u001b[0m\u001b[0m\n\u001b[1;32m---> 11\u001b[1;33m         \u001b[0mprint\u001b[0m\u001b[1;33m(\u001b[0m\u001b[1;34mf'Hello world I am {self.name}. I am {self._age}. I am from {self.__add}'\u001b[0m\u001b[1;33m)\u001b[0m\u001b[1;33m\u001b[0m\u001b[1;33m\u001b[0m\u001b[0m\n\u001b[0m\u001b[0;32m     12\u001b[0m \u001b[1;33m\u001b[0m\u001b[0m\n\u001b[0;32m     13\u001b[0m \u001b[0mname\u001b[0m \u001b[1;33m=\u001b[0m \u001b[0minput\u001b[0m\u001b[1;33m(\u001b[0m\u001b[1;34m'Enter name ='\u001b[0m\u001b[1;33m)\u001b[0m\u001b[1;33m\u001b[0m\u001b[1;33m\u001b[0m\u001b[0m\n",
      "\u001b[1;31mAttributeError\u001b[0m: 'Data' object has no attribute '_Data__add'"
     ]
    }
   ],
   "source": [
    "#private\n",
    "class Info:\n",
    "    def __init__(self,name,age,add): # Jun class ma init hunxa tiyo class parent class ho.\n",
    "        self.name = name\n",
    "        self._age = age #protected - to use single underscore \n",
    "        self.__add = add #Privated - to use double underscore    \n",
    "    def info():\n",
    "         print(f'Hello world I am {self.name}. I am from {self.__add}. I am {self._age}') # same class ko propertise use garn paiyo    \n",
    "class Data(Info):\n",
    "    def data (self):\n",
    "        print(f'Hello world I am {self.name}. I am {self._age}. I am from {self.__add}')\n",
    "        \n",
    "name = input('Enter name =')\n",
    "age = int(input('Enter age ='))\n",
    "add = input('Enter address =')\n",
    "\n",
    "obj = Data(name,age,add)\n",
    "obj.data()\n",
    "obj.info()"
   ]
  },
  {
   "cell_type": "code",
   "execution_count": null,
   "id": "cd0a0c7e",
   "metadata": {},
   "outputs": [],
   "source": []
  }
 ],
 "metadata": {
  "kernelspec": {
   "display_name": "Python 3 (ipykernel)",
   "language": "python",
   "name": "python3"
  },
  "language_info": {
   "codemirror_mode": {
    "name": "ipython",
    "version": 3
   },
   "file_extension": ".py",
   "mimetype": "text/x-python",
   "name": "python",
   "nbconvert_exporter": "python",
   "pygments_lexer": "ipython3",
   "version": "3.9.7"
  }
 },
 "nbformat": 4,
 "nbformat_minor": 5
}
