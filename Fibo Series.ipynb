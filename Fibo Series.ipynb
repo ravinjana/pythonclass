{
 "cells": [
  {
   "cell_type": "code",
   "execution_count": 22,
   "id": "9bddec97",
   "metadata": {},
   "outputs": [
    {
     "name": "stdout",
     "output_type": "stream",
     "text": [
      "Enter the number = 10\n",
      "0 1 1 2 3 5 8 13 21 34 "
     ]
    }
   ],
   "source": [
    "a = int(input(\"Enter the number = \"))\n",
    "b=0\n",
    "c=1\n",
    "\n",
    "    print(\"The requested series is\",b)\n",
    "else:\n",
    "    print(b,c,end=\" \")\n",
    "    for x in range(2,a):\n",
    "        d=b+c\n",
    "        print(d,end=\" \")\n",
    "        b=c\n",
    "        c=d"
   ]
  },
  {
   "cell_type": "code",
   "execution_count": 31,
   "id": "2ed3cb35",
   "metadata": {},
   "outputs": [
    {
     "name": "stdout",
     "output_type": "stream",
     "text": [
      "Enter the number = 10\n",
      "0 1 1 2 3 5 8 13 21 34 "
     ]
    }
   ],
   "source": [
    "a = int(input(\"Enter the number = \"))\n",
    "b=0\n",
    "c=1\n",
    "for k in range(a):\n",
    "    d=b+c\n",
    "    print(b,end=\" \")\n",
    "    b=c\n",
    "    c=d"
   ]
  },
  {
   "cell_type": "code",
   "execution_count": 25,
   "id": "d4efcfc5",
   "metadata": {},
   "outputs": [
    {
     "name": "stdout",
     "output_type": "stream",
     "text": [
      "Enter the number of terms to print:10\n",
      "0\n",
      "1\n",
      "1\n",
      "2\n",
      "3\n",
      "5\n",
      "8\n",
      "13\n",
      "21\n",
      "34\n"
     ]
    }
   ],
   "source": [
    "a = 0\n",
    "b = 1\n",
    "n = int(input(\"Enter the number of terms to print:\"))\n",
    "for i in range(n):\n",
    "    print(a)\n",
    "    c = a + b\n",
    "    a = b\n",
    "    b = c"
   ]
  },
  {
   "cell_type": "code",
   "execution_count": null,
   "id": "fcbacd00",
   "metadata": {},
   "outputs": [],
   "source": []
  }
 ],
 "metadata": {
  "kernelspec": {
   "display_name": "Python 3 (ipykernel)",
   "language": "python",
   "name": "python3"
  },
  "language_info": {
   "codemirror_mode": {
    "name": "ipython",
    "version": 3
   },
   "file_extension": ".py",
   "mimetype": "text/x-python",
   "name": "python",
   "nbconvert_exporter": "python",
   "pygments_lexer": "ipython3",
   "version": "3.9.7"
  }
 },
 "nbformat": 4,
 "nbformat_minor": 5
}
