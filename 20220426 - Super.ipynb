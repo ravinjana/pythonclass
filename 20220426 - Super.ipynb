{
 "cells": [
  {
   "cell_type": "code",
   "execution_count": 4,
   "id": "11d1b81c",
   "metadata": {},
   "outputs": [
    {
     "name": "stdout",
     "output_type": "stream",
     "text": [
      "Enter name =ram\n",
      "Enter age =23\n",
      "Enter address =ktm\n",
      "I am from ktm. My name is ram\n",
      "Hello world I am ram. I am from ktm. I am 23\n",
      "I am from ktm. My name is ram\n"
     ]
    }
   ],
   "source": [
    "class Info:\n",
    "    def __init__(self,add):\n",
    "        self.add = add       \n",
    "    def ad (self): \n",
    "        print(f'I am from {self.add}. My name is {self.name}')\n",
    "    \n",
    "class Data(Info):\n",
    "    def __init__(self,name,age,add):\n",
    "        self.name = name\n",
    "        self.age = age\n",
    "        Info.__init__(self,add) \n",
    "    \n",
    "    def data (self):\n",
    "        super().ad()\n",
    "        print(f'Hello world I am {self.name}. I am from {self.add}. I am {self.age}')\n",
    "        \n",
    "name = input('Enter name =')\n",
    "age = int(input('Enter age ='))\n",
    "add = input('Enter address =')\n",
    "\n",
    "obj = Data(name,age,add)\n",
    "obj.data()\n",
    "obj.ad()"
   ]
  },
  {
   "cell_type": "code",
   "execution_count": 8,
   "id": "23ba8aaf",
   "metadata": {},
   "outputs": [
    {
     "name": "stdout",
     "output_type": "stream",
     "text": [
      "Enter name =ram\n",
      "Enter age =43\n",
      "Enter address =ktm\n",
      "I am from ktm. My name is ram. I am 43\n"
     ]
    },
    {
     "data": {
      "text/plain": [
       "'I am from ktm. My name is ram'"
      ]
     },
     "execution_count": 8,
     "metadata": {},
     "output_type": "execute_result"
    }
   ],
   "source": [
    "class Info:\n",
    "    def __init__(self,add):\n",
    "        self.add = add       \n",
    "    def ad (self): \n",
    "        return f'I am from {self.add}. My name is {self.name}'\n",
    "    \n",
    "class Data(Info):\n",
    "    def __init__(self,name,age,add):\n",
    "        self.name = name\n",
    "        self.age = age\n",
    "        Info.__init__(self,add) \n",
    "    \n",
    "    def data (self):\n",
    "        \n",
    "        print(f'{super().ad()}. I am {self.age}')\n",
    "        \n",
    "name = input('Enter name =')\n",
    "age = int(input('Enter age ='))\n",
    "add = input('Enter address =')\n",
    "\n",
    "obj = Data(name,age,add)\n",
    "obj.data()\n",
    "obj.ad()"
   ]
  },
  {
   "cell_type": "code",
   "execution_count": 1,
   "id": "1d96af97",
   "metadata": {},
   "outputs": [
    {
     "data": {
      "text/plain": [
       "'C:\\\\Users\\\\r.dahal.SCI\\\\PythonClass20220330'"
      ]
     },
     "execution_count": 1,
     "metadata": {},
     "output_type": "execute_result"
    }
   ],
   "source": [
    "pwd"
   ]
  },
  {
   "cell_type": "code",
   "execution_count": null,
   "id": "74dd83ee",
   "metadata": {},
   "outputs": [],
   "source": []
  }
 ],
 "metadata": {
  "kernelspec": {
   "display_name": "Python 3 (ipykernel)",
   "language": "python",
   "name": "python3"
  },
  "language_info": {
   "codemirror_mode": {
    "name": "ipython",
    "version": 3
   },
   "file_extension": ".py",
   "mimetype": "text/x-python",
   "name": "python",
   "nbconvert_exporter": "python",
   "pygments_lexer": "ipython3",
   "version": "3.9.7"
  }
 },
 "nbformat": 4,
 "nbformat_minor": 5
}
