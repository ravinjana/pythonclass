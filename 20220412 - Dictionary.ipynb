{
 "cells": [
  {
   "cell_type": "code",
   "execution_count": null,
   "id": "04c82cba",
   "metadata": {},
   "outputs": [],
   "source": [
    "#Dictionary\n",
    "    #Indexed\n",
    "    #Ordered\n",
    "    #Multiple data\n",
    "    #Mutable\n",
    "    "
   ]
  },
  {
   "cell_type": "code",
   "execution_count": null,
   "id": "2f1ab82d",
   "metadata": {},
   "outputs": [],
   "source": [
    "#example of Indexed :- \n",
    "#Syntex\n",
    "# d = dict()\n",
    "# d = {<key>:<value>,<key>:<value>}\n",
    "\n",
    "d = {'a':\"Apple\",'b':\"Ball\",'c':'cat'}\n",
    "print(d)\n",
    "print(d['a'])"
   ]
  },
  {
   "cell_type": "code",
   "execution_count": null,
   "id": "3b85feb4",
   "metadata": {},
   "outputs": [],
   "source": [
    "d = {'a':\"Apple\",'b':\"Ball\",'c':'cat'}\n",
    "print(d)\n",
    "print(d['a'])\n",
    "print(d[\"b\"])"
   ]
  },
  {
   "cell_type": "code",
   "execution_count": null,
   "id": "7c32e695",
   "metadata": {},
   "outputs": [],
   "source": [
    "#example of ordered :- \n",
    "d = {'a':\"Apple\",'b':\"Ball\",'c':'cat'}\n",
    "print(d)\n",
    "print(d['a'])"
   ]
  },
  {
   "cell_type": "code",
   "execution_count": null,
   "id": "13dfc055",
   "metadata": {},
   "outputs": [],
   "source": [
    "d = {'a':\"Apple\",'b':\"Ball\",'c':'cat'}\n",
    "print(d)\n",
    "\n",
    "print(len(d))"
   ]
  },
  {
   "cell_type": "code",
   "execution_count": null,
   "id": "aa425b48",
   "metadata": {},
   "outputs": [],
   "source": [
    "#Mutable\n",
    "d = {'a':\"Apple\",'b':\"Ball\",'c':'cat'}\n",
    "d['a'] = \"Mango\"\n",
    "print(d)\n"
   ]
  },
  {
   "cell_type": "code",
   "execution_count": null,
   "id": "b7614125",
   "metadata": {},
   "outputs": [],
   "source": [
    "d={}\n",
    "d[\"a\"] = 'Apple'\n",
    "d['b'] = 'Ball'\n",
    "d['c'] = 'cat'\n",
    "d['e'] = 'Egg'\n",
    "print(d)"
   ]
  },
  {
   "cell_type": "code",
   "execution_count": null,
   "id": "022c47a8",
   "metadata": {},
   "outputs": [],
   "source": [
    "d={}\n",
    "n = int(input(\"Enter n =\"))\n",
    "for i in range (n):\n",
    "    name = input (\"Enter Name =\")\n",
    "    phone = input ('Enter phone =')\n",
    "    d[name] = phone\n",
    "print(d)"
   ]
  },
  {
   "cell_type": "code",
   "execution_count": null,
   "id": "8517742a",
   "metadata": {},
   "outputs": [],
   "source": [
    "# key lai mtra print garn ko lagi\n",
    "a = {'Ravi Dahal': '434332423423', 'Ram': '342324234', 'shyam ': '342432432'}\n",
    "for i in a:\n",
    "    print (i)\n",
    "    "
   ]
  },
  {
   "cell_type": "code",
   "execution_count": null,
   "id": "0e8b4345",
   "metadata": {},
   "outputs": [],
   "source": [
    "# value lai mtra print garn ko lagi\n",
    "a = {'Ravi Dahal': '434332423423', 'Ram': '342324234', 'shyam ': '342432432'}\n",
    "for i in a.values():\n",
    "    print (i)"
   ]
  },
  {
   "cell_type": "code",
   "execution_count": null,
   "id": "899e1e00",
   "metadata": {},
   "outputs": [],
   "source": [
    "# key and value lai separatel print garn ko lagi\n",
    "a = {'Ravi Dahal': '434332423423', 'Ram': '342324234', 'shyam ': '342432432'}\n",
    "for i in a.items():\n",
    "    print (i)"
   ]
  },
  {
   "cell_type": "code",
   "execution_count": null,
   "id": "53479b4d",
   "metadata": {},
   "outputs": [],
   "source": [
    "a = {'Ravi Dahal': '434332423423', 'Ram': '342324234', 'shyam ': '342432432'}\n",
    "for i in a.items():\n",
    "    print (i)"
   ]
  },
  {
   "cell_type": "code",
   "execution_count": null,
   "id": "e1b86c3d",
   "metadata": {},
   "outputs": [],
   "source": [
    "a = {'Ravi Dahal': '434332423423', 'Ram': '342324234', 'shyam ': '342432432'}\n",
    "for i in a.items():\n",
    "    print (i[0])"
   ]
  },
  {
   "cell_type": "code",
   "execution_count": null,
   "id": "71e50767",
   "metadata": {},
   "outputs": [],
   "source": [
    "# DEL\n",
    "# POP"
   ]
  },
  {
   "cell_type": "code",
   "execution_count": null,
   "id": "ed00ed99",
   "metadata": {},
   "outputs": [],
   "source": [
    "a = {'Ravi Dahal': '434332423423', 'Ram': '342324234', 'shyam ': '342432432'}\n",
    "a[\"Ram\"]"
   ]
  },
  {
   "cell_type": "code",
   "execution_count": null,
   "id": "7e0b6105",
   "metadata": {},
   "outputs": [],
   "source": [
    "a = {'Ravi Dahal': '434332423423', 'Ram': '342324234', 'shyam ': '342432432'}\n",
    "del a['Ram']\n",
    "print(a)\n",
    "a[\"Ravi Dahal\"] =\"9843433952\"\n",
    "print (a)"
   ]
  },
  {
   "cell_type": "code",
   "execution_count": null,
   "id": "8939e3cf",
   "metadata": {},
   "outputs": [],
   "source": [
    "#pop = b syntax le ravi ko value lai cut garer print gareko\n",
    "a = {'Ravi Dahal': '434332423423', 'Ram': '342324234', 'shyam ': '342432432'}\n",
    "b=a.pop(\"Ravi Dahal\")\n",
    "print(a)\n",
    "print(b)"
   ]
  },
  {
   "cell_type": "code",
   "execution_count": null,
   "id": "7538853c",
   "metadata": {},
   "outputs": [],
   "source": [
    "#pop\n",
    "a = {'Ravi Dahal': '434332423423', 'Ram': '342324234', 'shyam': '342432432'}\n",
    "print (a)\n",
    "b=a.pop(\"Ravi Dahal\")\n",
    "print(a)\n",
    "print(b)"
   ]
  },
  {
   "cell_type": "code",
   "execution_count": null,
   "id": "322a4d77",
   "metadata": {},
   "outputs": [],
   "source": [
    "#list inside dictionary\n",
    "a = {'Ravi Dahal': [434332423423,34324032432], 'Ram': [342324234,3432434324],'shyam': [342432432,332433432]}\n",
    "print(a[\"Ram\"])\n",
    "print(a['shyam'])"
   ]
  },
  {
   "cell_type": "code",
   "execution_count": null,
   "id": "caf2fd37",
   "metadata": {},
   "outputs": [],
   "source": [
    "a = {'Ravi Dahal': [434332423423,34324032432], 'Ram': [342324234,3432434324],'shyam': [342432432,332433432]}\n",
    "a ['Ram']=[3434343244,4324324423]\n",
    "a"
   ]
  },
  {
   "cell_type": "code",
   "execution_count": null,
   "id": "840d4d0b",
   "metadata": {},
   "outputs": [],
   "source": [
    "a = {'Ravi Dahal': [434332423423,34324032432], 'Ram': [342324234,3432434324], 'shyam': [342432432,332433432]}\n",
    "a = ['Ram'][0] = 9084324234\n",
    "a"
   ]
  },
  {
   "cell_type": "code",
   "execution_count": 2,
   "id": "33d075c3",
   "metadata": {},
   "outputs": [
    {
     "data": {
      "text/plain": [
       "{'Ravi Dahal': [434332423423, 34324032432],\n",
       " 'Ram': [342324234, 3432434324, 980234242],\n",
       " 'shyam': [342432432, 332433432, 980434432]}"
      ]
     },
     "execution_count": 2,
     "metadata": {},
     "output_type": "execute_result"
    }
   ],
   "source": [
    "a = {'Ravi Dahal': [434332423423,34324032432], 'Ram': [342324234,3432434324], 'shyam': [342432432,332433432]}\n",
    "a['Ram'].append(980234242)\n",
    "a['shyam'].append(980434432)\n",
    "a\n"
   ]
  },
  {
   "cell_type": "code",
   "execution_count": 4,
   "id": "c5800701",
   "metadata": {},
   "outputs": [
    {
     "name": "stdout",
     "output_type": "stream",
     "text": [
      "Enter n =2\n",
      "Enter Name =Ravi Dahal\n",
      "Enter ntc phone =3433432\n",
      "Enter ntc phone =234243\n",
      "Enter Name =Ravi Dahal\n",
      "Enter ntc phone =34324242\n",
      "Enter ntc phone =43423\n",
      "{'Ravi Dahal': ['34324242', '43423']}\n"
     ]
    }
   ],
   "source": [
    "d={}\n",
    "n = int(input(\"Enter n =\"))\n",
    "for i in range (n):\n",
    "    name = input (\"Enter Name =\")\n",
    "    phone_ntc = input ('Enter ntc phone =')\n",
    "    phone_ncell = input ('Enter ntc phone =')\n",
    "    d[name] = [phone_ntc,phone_ncell]\n",
    "print(d)"
   ]
  },
  {
   "cell_type": "code",
   "execution_count": 6,
   "id": "79ecb1df",
   "metadata": {},
   "outputs": [
    {
     "name": "stdout",
     "output_type": "stream",
     "text": [
      "[{'Name': 'Ram', 'NTC': 9800000000, 'ncell': 9800000001}, {'Name': 'Hari', 'NTC': 9811111111, 'ncell': 9801111111}, {'Name': 'shyam', 'NTC': 9822222222, 'ncell': 9802222222}]\n"
     ]
    }
   ],
   "source": [
    "#Disctionary list \n",
    "d=[{'Name':'Ram','NTC':9800000000,'ncell':9800000001},\n",
    "   {'Name':'Hari','NTC':9811111111,'ncell':9801111111},\n",
    "   {'Name':'shyam','NTC':9822222222,'ncell':9802222222}]\n",
    "print(d)"
   ]
  },
  {
   "cell_type": "code",
   "execution_count": 7,
   "id": "b79d3eec",
   "metadata": {},
   "outputs": [
    {
     "name": "stdout",
     "output_type": "stream",
     "text": [
      "Ram\n"
     ]
    }
   ],
   "source": [
    "print(d[0][\"Name\"])"
   ]
  },
  {
   "cell_type": "code",
   "execution_count": 8,
   "id": "fe0d0122",
   "metadata": {},
   "outputs": [
    {
     "name": "stdout",
     "output_type": "stream",
     "text": [
      "{'Name': 'shyam', 'NTC': 9822222222, 'ncell': 9802222222}\n"
     ]
    }
   ],
   "source": [
    "print(d[2])"
   ]
  },
  {
   "cell_type": "code",
   "execution_count": 9,
   "id": "a83c7713",
   "metadata": {},
   "outputs": [
    {
     "name": "stdout",
     "output_type": "stream",
     "text": [
      "9822222222\n"
     ]
    }
   ],
   "source": [
    "print(d[2][\"NTC\"])"
   ]
  },
  {
   "cell_type": "code",
   "execution_count": 12,
   "id": "4dc7b382",
   "metadata": {},
   "outputs": [
    {
     "name": "stdout",
     "output_type": "stream",
     "text": [
      "{'Name': 'Ram', 'NTC': 9800000000, 'ncell': 9800000001}\n"
     ]
    }
   ],
   "source": [
    "#IRD ma hami jasari PAN number rakher serach gaarinxa..tiyo yasari search garn milxa..\n",
    "\n",
    "d=[{'Name':'Ram','NTC':9800000000,'ncell':9800000001},\n",
    "   {'Name':'Hari','NTC':9811111111,'ncell':9801111111},\n",
    "   {'Name':'shyam','NTC':9822222222,'ncell':9802222222}]\n",
    "for i in d:\n",
    "    if i['Name'] ==\"Ram\":\n",
    "        print(i)"
   ]
  },
  {
   "cell_type": "code",
   "execution_count": 16,
   "id": "6d9f7707",
   "metadata": {},
   "outputs": [
    {
     "name": "stdout",
     "output_type": "stream",
     "text": [
      "Enter n =2\n",
      "Enter name =Ram\n",
      "Enter ncell =9811111111\n",
      "Enter ntc =980111111\n",
      "Enter name =Hari\n",
      "Enter ncell =9822222222\n",
      "Enter ntc =983333333\n",
      "[{'Name': 'Ram', 'ncell': 9811111111, 'NTC': 980111111}, {'Name': 'Hari', 'ncell': 9822222222, 'NTC': 983333333}]\n"
     ]
    }
   ],
   "source": [
    "l= []\n",
    "n = int(input(\"Enter n =\"))\n",
    "for i in range (n):\n",
    "    name = input(\"Enter name =\")\n",
    "    ncell = int(input(\"Enter ncell =\"))\n",
    "    ntc = int(input(\"Enter ntc =\"))\n",
    "    data = {'Name':name,'ncell':ncell,'NTC':ntc}\n",
    "    l.append(data)\n",
    "print(l)\n",
    "              "
   ]
  },
  {
   "cell_type": "code",
   "execution_count": 1,
   "id": "5faf9847",
   "metadata": {},
   "outputs": [],
   "source": [
    "#Django ma kam garnu vand aagadi HTML siknu parxa"
   ]
  },
  {
   "cell_type": "code",
   "execution_count": null,
   "id": "6bea2675",
   "metadata": {},
   "outputs": [],
   "source": []
  }
 ],
 "metadata": {
  "kernelspec": {
   "display_name": "Python 3 (ipykernel)",
   "language": "python",
   "name": "python3"
  },
  "language_info": {
   "codemirror_mode": {
    "name": "ipython",
    "version": 3
   },
   "file_extension": ".py",
   "mimetype": "text/x-python",
   "name": "python",
   "nbconvert_exporter": "python",
   "pygments_lexer": "ipython3",
   "version": "3.9.7"
  }
 },
 "nbformat": 4,
 "nbformat_minor": 5
}
