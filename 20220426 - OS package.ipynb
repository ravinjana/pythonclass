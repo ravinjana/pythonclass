{
 "cells": [
  {
   "cell_type": "code",
   "execution_count": null,
   "id": "f1bd2b96",
   "metadata": {},
   "outputs": [],
   "source": [
    "import os\n",
    "os.listdir()\n"
   ]
  },
  {
   "cell_type": "code",
   "execution_count": null,
   "id": "9ccce966",
   "metadata": {},
   "outputs": [],
   "source": [
    "import os\n",
    "os.remove('Ravi.txt')"
   ]
  },
  {
   "cell_type": "code",
   "execution_count": null,
   "id": "80bdf96b",
   "metadata": {},
   "outputs": [],
   "source": [
    "pwd"
   ]
  },
  {
   "cell_type": "code",
   "execution_count": null,
   "id": "a5870e32",
   "metadata": {},
   "outputs": [],
   "source": [
    "!pip install mysql-connector"
   ]
  },
  {
   "cell_type": "code",
   "execution_count": 1,
   "id": "c4a2c25e",
   "metadata": {},
   "outputs": [],
   "source": [
    "import mysql.connector\n",
    "database = mysql.connector.connect(\n",
    "    host ='localhost',\n",
    "    user ='root',\n",
    "    password ='',\n",
    "    database ='ravi')\n",
    "db = database.cursor()"
   ]
  },
  {
   "cell_type": "code",
   "execution_count": 2,
   "id": "7913b2b6",
   "metadata": {},
   "outputs": [
    {
     "name": "stdout",
     "output_type": "stream",
     "text": [
      "(1, 'Ram', 78, 85, 81, 82, 84, 412, 'A')\n",
      "(3, 'Janak', 89, 88, 88, 90, 80, 560, 'A')\n",
      "(4, 'Hariram', 98, 78, 90, 97, 98, 600, 'A')\n",
      "(5, 'Seeta', 80, 80, 89, 86, 90, 955, 'B')\n",
      "(6, 'Seeta', 80, 80, 89, 86, 90, 955, 'B')\n",
      "(7, 'Seeta', 80, 80, 89, 86, 90, 955, 'B')\n",
      "(8, 'Jeenak', 80, 81, 89, 86, 90, 955, 'B')\n",
      "(9, 'Janaki', 80, 81, 89, 86, 90, 955, 'B')\n",
      "(10, 'ram', 90, 90, 90, 90, 90, 450, 'A')\n"
     ]
    }
   ],
   "source": [
    "db.execute('SELECT * FROM marksheet WHERE 1')\n",
    "result = db.fetchall()\n",
    "for x in result:\n",
    "    print(x)"
   ]
  },
  {
   "cell_type": "code",
   "execution_count": 3,
   "id": "4808aa2c",
   "metadata": {},
   "outputs": [],
   "source": [
    "# Using Delect option\n",
    "db.execute('DELETE FROm marksheet WHERE id = 2')\n",
    "database.commit()"
   ]
  },
  {
   "cell_type": "code",
   "execution_count": 4,
   "id": "5a6b67ca",
   "metadata": {},
   "outputs": [
    {
     "name": "stdout",
     "output_type": "stream",
     "text": [
      "(1, 'Ram', 78, 85, 81, 82, 84, 412, 'A')\n",
      "(3, 'Janak', 89, 88, 88, 90, 80, 560, 'A')\n",
      "(4, 'Hariram', 98, 78, 90, 97, 98, 600, 'A')\n",
      "(5, 'Seeta', 80, 80, 89, 86, 90, 955, 'B')\n",
      "(6, 'Seeta', 80, 80, 89, 86, 90, 955, 'B')\n",
      "(7, 'Seeta', 80, 80, 89, 86, 90, 955, 'B')\n",
      "(8, 'Jeenak', 80, 81, 89, 86, 90, 955, 'B')\n",
      "(9, 'Janaki', 80, 81, 89, 86, 90, 955, 'B')\n",
      "(10, 'ram', 90, 90, 90, 90, 90, 450, 'A')\n"
     ]
    }
   ],
   "source": [
    "db.execute('SELECT * FROM marksheet WHERE 1')\n",
    "result = db.fetchall()\n",
    "for x in result:\n",
    "    print(x)"
   ]
  },
  {
   "cell_type": "code",
   "execution_count": 6,
   "id": "cac2ce2d",
   "metadata": {},
   "outputs": [
    {
     "ename": "SyntaxError",
     "evalue": "invalid syntax (Temp/ipykernel_12364/4110813518.py, line 5)",
     "output_type": "error",
     "traceback": [
      "\u001b[1;36m  File \u001b[1;32m\"C:\\Users\\RDAHAL~1.SCI\\AppData\\Local\\Temp/ipykernel_12364/4110813518.py\"\u001b[1;36m, line \u001b[1;32m5\u001b[0m\n\u001b[1;33m    db.execute('UPDATE marksheet SET Name ='{final_name}' WHERE Name = '{initial_name}'')\u001b[0m\n\u001b[1;37m                                            ^\u001b[0m\n\u001b[1;31mSyntaxError\u001b[0m\u001b[1;31m:\u001b[0m invalid syntax\n"
     ]
    }
   ],
   "source": [
    "#Using update option\n",
    "initial_name=input('Eter Name =')\n",
    "final_name =input(\"ent final name \")\n",
    "\n",
    "db.execute('UPDATE marksheet SET Name ='{final_name}' WHERE Name = '{initial_name}'')\n",
    "database.commit()"
   ]
  },
  {
   "cell_type": "code",
   "execution_count": 2,
   "id": "90eb96b7",
   "metadata": {},
   "outputs": [
    {
     "name": "stdout",
     "output_type": "stream",
     "text": [
      "(1, 'Ram', 78, 85, 81, 82, 84, 412, 'A')\n",
      "(3, 'Janak', 89, 88, 88, 90, 80, 560, 'A')\n",
      "(4, 'Hariram', 98, 78, 90, 97, 98, 600, 'A')\n"
     ]
    }
   ],
   "source": [
    "db.execute('SELECT ID, Name, Physics, Math, English, Chemistry, Nepali, Total, Grade FROM marksheet WHERE 1')\n",
    "result = db.fetchall()\n",
    "for x in result:\n",
    "    print(x)"
   ]
  },
  {
   "cell_type": "code",
   "execution_count": 5,
   "id": "1f768461",
   "metadata": {},
   "outputs": [
    {
     "name": "stdout",
     "output_type": "stream",
     "text": [
      "(1, 'Ram', 412, 'A')\n",
      "(3, 'Janak', 560, 'A')\n",
      "(4, 'Hariram', 600, 'A')\n",
      "(5, 'Seeta', 955, 'B')\n",
      "(6, 'Seeta', 955, 'B')\n",
      "(7, 'Seeta', 955, 'B')\n",
      "(8, 'Jeenak', 955, 'B')\n",
      "(9, 'Janaki', 955, 'B')\n",
      "(10, 'ram', 450, 'A')\n"
     ]
    }
   ],
   "source": [
    "db.execute('SELECT ID, Name, Total, Grade FROM marksheet WHERE 1')\n",
    "result = db.fetchall()\n",
    "for x in result:\n",
    "    print(x)"
   ]
  },
  {
   "cell_type": "code",
   "execution_count": 8,
   "id": "6e9962af",
   "metadata": {},
   "outputs": [],
   "source": [
    "db.execute(\"INSERT INTO marksheet(Name, Physics, Math, English, Chemistry, Nepali, Total, Grade) VALUES ('Seeta', 80, 80, 89, 86, 90, 955, 'B')\")\n",
    "database.commit()"
   ]
  },
  {
   "cell_type": "code",
   "execution_count": 9,
   "id": "f4731a0a",
   "metadata": {},
   "outputs": [],
   "source": [
    "db.execute(\"INSERT INTO marksheet(ID, Name, Physics, Math, English, Chemistry, Nepali, Total, Grade) VALUES (7, 'Seeta', 80, 80, 89, 86, 90, 955, 'B')\")\n",
    "database.commit()"
   ]
  },
  {
   "cell_type": "code",
   "execution_count": 13,
   "id": "f98684f3",
   "metadata": {},
   "outputs": [],
   "source": [
    "db.execute(\"INSERT INTO marksheet(Name, Physics, Math, English, Chemistry, Nepali, Total, Grade) VALUES ('Jeenak', 80, 81, 89, 86, 90, 955, 'B')\")\n",
    "database.commit()"
   ]
  },
  {
   "cell_type": "code",
   "execution_count": 15,
   "id": "6014b7b4",
   "metadata": {},
   "outputs": [],
   "source": [
    "db.execute(\"INSERT INTO marksheet(Name, Physics, Math, English, Chemistry, Nepali, Total, Grade) VALUES ('Janaki', 80, 81, 89, 86, 90, 955, 'B')\")\n",
    "database.commit()"
   ]
  },
  {
   "cell_type": "code",
   "execution_count": 6,
   "id": "269b9ce5",
   "metadata": {},
   "outputs": [
    {
     "name": "stdout",
     "output_type": "stream",
     "text": [
      "Enter n =1\n",
      "Enter name =Ravi\n",
      "Enter physics =98\n",
      "Enter math =99\n",
      "Enter eng =90\n",
      "Enter Chemistry =99\n",
      "Enter Nepali =98\n"
     ]
    }
   ],
   "source": [
    "n = int(input('Enter n ='))\n",
    "for i in range (n):\n",
    "    Name = input ('Enter name =')\n",
    "    Physics= int(input ('Enter physics ='))\n",
    "    Math = int(input('Enter math ='))\n",
    "    English = int(input('Enter eng ='))\n",
    "    Chemistry = int(input(\"Enter Chemistry =\"))\n",
    "    Nepali = int(input('Enter Nepali ='))\n",
    "    Total = sum([Physics,Math,English,Chemistry,Nepali])\n",
    "    per = Total/5\n",
    "    if per > 80:\n",
    "        Grade = \"A\"\n",
    "    elif per > 60:\n",
    "        Grade =\"B\"\n",
    "    elif per > 40:\n",
    "        Grade =\"C\"\n",
    "    else:\n",
    "        Grade = \"F\"\n",
    "    db.execute(f\"INSERT INTO marksheet(Name, Physics, Math, English, Chemistry, Nepali, Total, Grade) VALUES ('{Name}', {Physics}, {Math}, {English}, {Chemistry}, {Nepali}, {Total}, '{Grade}')\")\n",
    "database.commit()"
   ]
  },
  {
   "cell_type": "code",
   "execution_count": null,
   "id": "e1e09afc",
   "metadata": {},
   "outputs": [],
   "source": []
  },
  {
   "cell_type": "code",
   "execution_count": null,
   "id": "0170e991",
   "metadata": {},
   "outputs": [],
   "source": []
  }
 ],
 "metadata": {
  "kernelspec": {
   "display_name": "Python 3 (ipykernel)",
   "language": "python",
   "name": "python3"
  },
  "language_info": {
   "codemirror_mode": {
    "name": "ipython",
    "version": 3
   },
   "file_extension": ".py",
   "mimetype": "text/x-python",
   "name": "python",
   "nbconvert_exporter": "python",
   "pygments_lexer": "ipython3",
   "version": "3.9.7"
  }
 },
 "nbformat": 4,
 "nbformat_minor": 5
}
