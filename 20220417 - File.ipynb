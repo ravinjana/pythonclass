{
 "cells": [
  {
   "cell_type": "code",
   "execution_count": 2,
   "id": "79163912",
   "metadata": {},
   "outputs": [],
   "source": [
    "#File\n",
    "#Baisc syntax: -\n",
    "\n",
    "#open(<file_Name>,<mode>)\n",
    "\n",
    "# types of modes\n",
    "\n",
    "    # read->r\n",
    "    # write->w\n",
    "    # append (add) ->a\n",
    "    # create -> x\n"
   ]
  },
  {
   "cell_type": "code",
   "execution_count": 4,
   "id": "c155759b",
   "metadata": {},
   "outputs": [],
   "source": [
    "b=open('Ravi.txt','x')\n",
    "b.close() #file ma kam gari sake paxi..close garnai parxa. file chahi jupter ko folder ma file create vako hunxa..\n"
   ]
  },
  {
   "cell_type": "code",
   "execution_count": 5,
   "id": "c3355f1e",
   "metadata": {},
   "outputs": [],
   "source": [
    "# eutai name ko folder ek choti bani sake paxi..areko create garda error aauxaa...teslai handle garn ko lagi\n",
    "\n",
    "#try:\n",
    "\n",
    "#except: ko syntax use garne. Example is below"
   ]
  },
  {
   "cell_type": "code",
   "execution_count": 6,
   "id": "edd94674",
   "metadata": {},
   "outputs": [
    {
     "ename": "FileExistsError",
     "evalue": "[Errno 17] File exists: 'Ravi.txt'",
     "output_type": "error",
     "traceback": [
      "\u001b[1;31m---------------------------------------------------------------------------\u001b[0m",
      "\u001b[1;31mFileExistsError\u001b[0m                           Traceback (most recent call last)",
      "\u001b[1;32mC:\\Users\\RDAHAL~1.SCI\\AppData\\Local\\Temp/ipykernel_28832/4047950729.py\u001b[0m in \u001b[0;36m<module>\u001b[1;34m\u001b[0m\n\u001b[1;32m----> 1\u001b[1;33m \u001b[0mb\u001b[0m\u001b[1;33m=\u001b[0m\u001b[0mopen\u001b[0m\u001b[1;33m(\u001b[0m\u001b[1;34m'Ravi.txt'\u001b[0m\u001b[1;33m,\u001b[0m\u001b[1;34m'x'\u001b[0m\u001b[1;33m)\u001b[0m\u001b[1;33m\u001b[0m\u001b[1;33m\u001b[0m\u001b[0m\n\u001b[0m\u001b[0;32m      2\u001b[0m \u001b[0mb\u001b[0m\u001b[1;33m.\u001b[0m\u001b[0mclose\u001b[0m\u001b[1;33m(\u001b[0m\u001b[1;33m)\u001b[0m \u001b[1;31m#file ma kam gari sake paxi..close garnai parxa. file chahi jupter ko folder ma file create vako hunxa..\u001b[0m\u001b[1;33m\u001b[0m\u001b[1;33m\u001b[0m\u001b[0m\n",
      "\u001b[1;31mFileExistsError\u001b[0m: [Errno 17] File exists: 'Ravi.txt'"
     ]
    }
   ],
   "source": [
    "b=open('Ravi.txt','x')\n",
    "b.close() #file ma kam gari sake paxi..close garnai parxa. file chahi jupter ko folder ma file create vako hunxa..\n"
   ]
  },
  {
   "cell_type": "code",
   "execution_count": 7,
   "id": "b9517bab",
   "metadata": {},
   "outputs": [
    {
     "name": "stdout",
     "output_type": "stream",
     "text": [
      "The file is already there\n"
     ]
    }
   ],
   "source": [
    "try:\n",
    "    \n",
    "    b=open('Ravi.txt','x')\n",
    "    b.close() #file ma kam gari sake paxi..close garnai parxa. file chahi jupter ko folder ma file create vako hunxa..\n",
    "except:\n",
    "    print(\"The file is already there\")\n",
    "    "
   ]
  },
  {
   "cell_type": "code",
   "execution_count": 8,
   "id": "67164cc9",
   "metadata": {},
   "outputs": [],
   "source": [
    "# Different file ko data lai read garn ko lagi\n"
   ]
  },
  {
   "cell_type": "code",
   "execution_count": 10,
   "id": "40116823",
   "metadata": {},
   "outputs": [
    {
     "ename": "FileNotFoundError",
     "evalue": "[Errno 2] No such file or directory: 'data.txt'",
     "output_type": "error",
     "traceback": [
      "\u001b[1;31m---------------------------------------------------------------------------\u001b[0m",
      "\u001b[1;31mFileNotFoundError\u001b[0m                         Traceback (most recent call last)",
      "\u001b[1;32mC:\\Users\\RDAHAL~1.SCI\\AppData\\Local\\Temp/ipykernel_28832/1308760888.py\u001b[0m in \u001b[0;36m<module>\u001b[1;34m\u001b[0m\n\u001b[1;32m----> 1\u001b[1;33m \u001b[0mb\u001b[0m \u001b[1;33m=\u001b[0m \u001b[0mopen\u001b[0m\u001b[1;33m(\u001b[0m\u001b[1;34m'data.txt'\u001b[0m\u001b[1;33m,\u001b[0m\u001b[1;34m'r'\u001b[0m\u001b[1;33m)\u001b[0m\u001b[1;33m\u001b[0m\u001b[1;33m\u001b[0m\u001b[0m\n\u001b[0m\u001b[0;32m      2\u001b[0m \u001b[0mprint\u001b[0m\u001b[1;33m(\u001b[0m\u001b[0mb\u001b[0m\u001b[1;33m.\u001b[0m\u001b[0mread\u001b[0m\u001b[1;33m(\u001b[0m\u001b[1;33m)\u001b[0m\u001b[1;33m)\u001b[0m\u001b[1;33m\u001b[0m\u001b[1;33m\u001b[0m\u001b[0m\n\u001b[0;32m      3\u001b[0m \u001b[0mb\u001b[0m\u001b[1;33m.\u001b[0m\u001b[0mclose\u001b[0m\u001b[1;33m(\u001b[0m\u001b[1;33m)\u001b[0m\u001b[1;33m\u001b[0m\u001b[1;33m\u001b[0m\u001b[0m\n",
      "\u001b[1;31mFileNotFoundError\u001b[0m: [Errno 2] No such file or directory: 'data.txt'"
     ]
    }
   ],
   "source": [
    "b = open('data.txt','r')\n",
    "print(b.read())\n",
    "b.close() # data file vanne file nai create n vako le below erro aako."
   ]
  },
  {
   "cell_type": "code",
   "execution_count": 2,
   "id": "241f0b17",
   "metadata": {},
   "outputs": [
    {
     "name": "stdout",
     "output_type": "stream",
     "text": [
      "Ravi Dahal\n",
      "Ram Acharya\n",
      "Hari Prasad Niraula\n",
      "Prem Prasad Pokharel\n"
     ]
    }
   ],
   "source": [
    "b = open('Ravi.txt','r')\n",
    "print(b.read())\n",
    "b.close() "
   ]
  },
  {
   "cell_type": "code",
   "execution_count": 3,
   "id": "80780bb7",
   "metadata": {},
   "outputs": [
    {
     "name": "stdout",
     "output_type": "stream",
     "text": [
      "Ravi Dahal\n",
      "Ram Acharya\n",
      "Hari Prasad Niraula\n",
      "Prem Prasad Pokharel\n",
      "<class 'str'>\n"
     ]
    }
   ],
   "source": [
    "b = open('Ravi.txt','r')\n",
    "print(b.read())\n",
    "print(type(b.read()))\n",
    "b.close()"
   ]
  },
  {
   "cell_type": "code",
   "execution_count": 4,
   "id": "eb2c5fb8",
   "metadata": {},
   "outputs": [],
   "source": [
    "# Read type ma different function haru use garn sakinxa\n",
    "# readline(), read() etc"
   ]
  },
  {
   "cell_type": "code",
   "execution_count": 5,
   "id": "bc6dd91c",
   "metadata": {},
   "outputs": [
    {
     "name": "stdout",
     "output_type": "stream",
     "text": [
      "Ravi Dahal\n",
      "\n"
     ]
    }
   ],
   "source": [
    "b = open('Ravi.txt','r')\n",
    "print(b.readline())\n",
    "\n",
    "b.close()"
   ]
  },
  {
   "cell_type": "code",
   "execution_count": 7,
   "id": "c2906b07",
   "metadata": {},
   "outputs": [],
   "source": [
    "#function of SPLIT"
   ]
  },
  {
   "cell_type": "code",
   "execution_count": 8,
   "id": "0a60a4fe",
   "metadata": {},
   "outputs": [
    {
     "name": "stdout",
     "output_type": "stream",
     "text": [
      "['Ravi Dahal', 'Ram Acharya', 'Hari Prasad Niraula', 'Prem Prasad Pokharel']\n"
     ]
    }
   ],
   "source": [
    "b = open('Ravi.txt','r')\n",
    "x=b.read()\n",
    "print(x.split('\\n'))\n",
    "\n",
    "b.close()"
   ]
  },
  {
   "cell_type": "code",
   "execution_count": 15,
   "id": "a6f7e2f8",
   "metadata": {},
   "outputs": [
    {
     "name": "stdout",
     "output_type": "stream",
     "text": [
      "Enter line no =1\n",
      "Ravi Dahal\n"
     ]
    }
   ],
   "source": [
    "line_no=int(input(\"Enter line no =\"))\n",
    "b = open('Ravi.txt','r')\n",
    "x=b.read()\n",
    "y=x.split('\\n')\n",
    "b.close()\n",
    "print(y[line_no-1])"
   ]
  },
  {
   "cell_type": "code",
   "execution_count": 16,
   "id": "1dbdc73e",
   "metadata": {},
   "outputs": [],
   "source": [
    "#Type of Write"
   ]
  },
  {
   "cell_type": "code",
   "execution_count": 17,
   "id": "5b5c2388",
   "metadata": {},
   "outputs": [],
   "source": [
    "b = open('Ravi.txt','w')\n",
    "b.write(\"HI\")\n",
    "b.close()"
   ]
  },
  {
   "cell_type": "code",
   "execution_count": 18,
   "id": "313cd643",
   "metadata": {},
   "outputs": [
    {
     "name": "stdout",
     "output_type": "stream",
     "text": [
      "Enter name =Ram\n",
      "Enter age =12\n",
      "Enter add addressKtm\n",
      "Enter Y for contiuney\n",
      "Enter name =shyam\n",
      "Enter age =13\n",
      "Enter add addressktm\n",
      "Enter Y for contiunen\n"
     ]
    }
   ],
   "source": [
    "#string ko coding lai write garne\n",
    "s = \"\"\n",
    "def dataEntry():\n",
    "    global s #s lai global bana ko ho\n",
    "    name = input(\"Enter name =\")\n",
    "    age = int(input(\"Enter age =\"))\n",
    "    add = input(\"Enter add address\")\n",
    "    info = f\"{name} {age} {add}\\n\"\n",
    "    s = s+info\n",
    "    x = input(\"Enter Y for contiune\")\n",
    "    if x =='y':\n",
    "        dataEntry()\n",
    "\n",
    "dataEntry()\n",
    "\n",
    "b = open('string_data.txt','w')\n",
    "b.write(s)\n",
    "b.close()"
   ]
  },
  {
   "cell_type": "code",
   "execution_count": 21,
   "id": "51b94ff2",
   "metadata": {},
   "outputs": [
    {
     "name": "stdout",
     "output_type": "stream",
     "text": [
      "Enter name =Om\n",
      "Enter age =12\n",
      "Enter add addressKtM\n",
      "Enter Y for contiuney\n",
      "Enter name =Hari\n",
      "Enter age =15\n",
      "Enter add addressKTM\n",
      "Enter Y for contiunen\n"
     ]
    }
   ],
   "source": [
    "s = \"\"\n",
    "def dataEntry():\n",
    "    global s #s lai global bana ko ho\n",
    "    name = input(\"Enter name =\")\n",
    "    age = int(input(\"Enter age =\"))\n",
    "    add = input(\"Enter add address\")\n",
    "    info = f\"{name} {age} {add}\\n\"\n",
    "    s = s+info\n",
    "    x = input(\"Enter Y for contiune\")\n",
    "    if x =='y':\n",
    "        dataEntry()\n",
    "\n",
    "dataEntry()\n",
    "\n",
    "b = open('string_data.txt','w')\n",
    "b.write('Name Age Address\\n')\n",
    "b.write(s)\n",
    "\n",
    "b.close()"
   ]
  },
  {
   "cell_type": "code",
   "execution_count": 24,
   "id": "73301776",
   "metadata": {},
   "outputs": [
    {
     "name": "stdout",
     "output_type": "stream",
     "text": [
      "Enter name =Ram\n",
      "Enter age =34\n",
      "Enter add addressKTM\n",
      "Enter Y for contiuney\n",
      "Enter name =Hari\n",
      "Enter age =35\n",
      "Enter add addressktm\n",
      "Enter Y for contiunen\n"
     ]
    }
   ],
   "source": [
    "# work on CSV\n",
    "s = \"\"\n",
    "def dataEntry():\n",
    "    global s #s lai global bana ko ho\n",
    "    name = input(\"Enter name =\")\n",
    "    age = int(input(\"Enter age =\"))\n",
    "    add = input(\"Enter add address\")\n",
    "    info = f\"{name},{age},{add}\\n\"\n",
    "    s = s+info\n",
    "    x = input(\"Enter Y for contiune\")\n",
    "    if x =='y':\n",
    "        dataEntry()\n",
    "\n",
    "dataEntry()\n",
    "\n",
    "b = open('strings.csv','w')\n",
    "b.write('Name,Age,Address\\n')\n",
    "b.write(s)\n",
    "\n",
    "b.close()"
   ]
  },
  {
   "cell_type": "code",
   "execution_count": 25,
   "id": "730d0d39",
   "metadata": {},
   "outputs": [
    {
     "data": {
      "text/plain": [
       "'C:\\\\Users\\\\r.dahal.SCI\\\\PythonClass20220330'"
      ]
     },
     "execution_count": 25,
     "metadata": {},
     "output_type": "execute_result"
    }
   ],
   "source": [
    "pwd # file location thaha paun use garne"
   ]
  },
  {
   "cell_type": "code",
   "execution_count": 28,
   "id": "4dd68fa9",
   "metadata": {},
   "outputs": [
    {
     "data": {
      "text/plain": [
       "['.ipynb_checkpoints',\n",
       " '20220331.ipynb',\n",
       " '20220401.ipynb',\n",
       " '20220404 - Assignment.ipynb',\n",
       " '20220404.ipynb',\n",
       " '20220405.ipynb',\n",
       " '20220406.ipynb',\n",
       " '20220407.ipynb',\n",
       " '20220408 - String.ipynb',\n",
       " '20220410.ipynb',\n",
       " '20220411 - #Tuple.ipynb',\n",
       " '20220412 - Dictionary.ipynb',\n",
       " '20220413 -  Set.ipynb',\n",
       " '20220413 - Exception Handling .ipynb',\n",
       " '20220417 - File.ipynb',\n",
       " 'Extra lesson.ipynb',\n",
       " 'Fibo Series.ipynb',\n",
       " 'Ravi.txt',\n",
       " 'strings.csv',\n",
       " 'string_data.txt',\n",
       " 'Tax calculation.ipynb']"
      ]
     },
     "execution_count": 28,
     "metadata": {},
     "output_type": "execute_result"
    }
   ],
   "source": [
    "import os # file haru check garn ko lagi\n",
    "os.listdir()"
   ]
  },
  {
   "cell_type": "code",
   "execution_count": 29,
   "id": "86ba3d44",
   "metadata": {},
   "outputs": [
    {
     "data": {
      "text/html": [
       "<div>\n",
       "<style scoped>\n",
       "    .dataframe tbody tr th:only-of-type {\n",
       "        vertical-align: middle;\n",
       "    }\n",
       "\n",
       "    .dataframe tbody tr th {\n",
       "        vertical-align: top;\n",
       "    }\n",
       "\n",
       "    .dataframe thead th {\n",
       "        text-align: right;\n",
       "    }\n",
       "</style>\n",
       "<table border=\"1\" class=\"dataframe\">\n",
       "  <thead>\n",
       "    <tr style=\"text-align: right;\">\n",
       "      <th></th>\n",
       "      <th>Name</th>\n",
       "      <th>Age</th>\n",
       "      <th>Address</th>\n",
       "    </tr>\n",
       "  </thead>\n",
       "  <tbody>\n",
       "    <tr>\n",
       "      <th>0</th>\n",
       "      <td>Ram</td>\n",
       "      <td>34</td>\n",
       "      <td>KTM</td>\n",
       "    </tr>\n",
       "    <tr>\n",
       "      <th>1</th>\n",
       "      <td>Hari</td>\n",
       "      <td>35</td>\n",
       "      <td>ktm</td>\n",
       "    </tr>\n",
       "  </tbody>\n",
       "</table>\n",
       "</div>"
      ],
      "text/plain": [
       "   Name  Age Address\n",
       "0   Ram   34     KTM\n",
       "1  Hari   35     ktm"
      ]
     },
     "execution_count": 29,
     "metadata": {},
     "output_type": "execute_result"
    }
   ],
   "source": []
  },
  {
   "cell_type": "code",
   "execution_count": null,
   "id": "3ebab104",
   "metadata": {},
   "outputs": [],
   "source": []
  }
 ],
 "metadata": {
  "kernelspec": {
   "display_name": "Python 3 (ipykernel)",
   "language": "python",
   "name": "python3"
  },
  "language_info": {
   "codemirror_mode": {
    "name": "ipython",
    "version": 3
   },
   "file_extension": ".py",
   "mimetype": "text/x-python",
   "name": "python",
   "nbconvert_exporter": "python",
   "pygments_lexer": "ipython3",
   "version": "3.9.7"
  }
 },
 "nbformat": 4,
 "nbformat_minor": 5
}
