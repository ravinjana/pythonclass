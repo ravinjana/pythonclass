{
 "cells": [
  {
   "cell_type": "code",
   "execution_count": null,
   "id": "e7458f94",
   "metadata": {},
   "outputs": [],
   "source": [
    "a = \"Hello World\"\n",
    "print(a)\n",
    "print(type(a))"
   ]
  },
  {
   "cell_type": "code",
   "execution_count": null,
   "id": "14b5feb1",
   "metadata": {},
   "outputs": [],
   "source": [
    "a = \"Hello \"\n",
    "b = \"World\"\n",
    "c = a+ b\n",
    "print (c, end= \" \")"
   ]
  },
  {
   "cell_type": "code",
   "execution_count": null,
   "id": "b8216d21",
   "metadata": {},
   "outputs": [],
   "source": [
    "a=\"hello world I am Python\"\n",
    "a[0] # number change garema a ko strin ko number wise ko print garn milxa"
   ]
  },
  {
   "cell_type": "code",
   "execution_count": null,
   "id": "4f0c077d",
   "metadata": {},
   "outputs": [],
   "source": [
    "a=\"hello world I am Python\"\n",
    "a[0:5] # number change garema a ko strin ko kaha dekhi kaha sam print garne vanne.kura print garn milxa..\n"
   ]
  },
  {
   "cell_type": "code",
   "execution_count": null,
   "id": "c3301dbb",
   "metadata": {},
   "outputs": [],
   "source": [
    "a=\"hello world I am Python\"\n",
    "b=a[0:11]\n",
    "c = a[12:]\n",
    "print(b)\n",
    "print(c)"
   ]
  },
  {
   "cell_type": "code",
   "execution_count": null,
   "id": "67ace822",
   "metadata": {},
   "outputs": [],
   "source": [
    "a=\"Hello World\"\n",
    "a[0:11:1] #:1 = yas ko use chahi world lai space garn garinxa."
   ]
  },
  {
   "cell_type": "code",
   "execution_count": null,
   "id": "c38dd7bb",
   "metadata": {},
   "outputs": [],
   "source": [
    "a=\"Hello World\"\n",
    "a[0:11:2] \n"
   ]
  },
  {
   "cell_type": "code",
   "execution_count": null,
   "id": "33aeb1a5",
   "metadata": {},
   "outputs": [],
   "source": [
    "a=\"hello world\"\n",
    "a[11::-1] #revers word print garn use gariya ko "
   ]
  },
  {
   "cell_type": "code",
   "execution_count": null,
   "id": "4b393966",
   "metadata": {},
   "outputs": [],
   "source": [
    "a=\"hello world\"\n",
    "l=len(a)\n",
    "print(a[l::-1])"
   ]
  },
  {
   "cell_type": "code",
   "execution_count": null,
   "id": "15fabb4c",
   "metadata": {},
   "outputs": [],
   "source": [
    "name=input(\"Enter name =\")\n",
    "age =int(input(\"Enter age =\"))\n",
    "add = input(\"Enter address\")\n",
    "\n",
    "\n",
    "info = \"Hello World I am \"+ name +\".\"+ \"I am from \"+ add + \"I am \"+str(age)\n",
    "\n",
    "print(info)"
   ]
  },
  {
   "cell_type": "code",
   "execution_count": null,
   "id": "cc327861",
   "metadata": {},
   "outputs": [],
   "source": [
    "#String formatting"
   ]
  },
  {
   "cell_type": "code",
   "execution_count": null,
   "id": "afbe5c4d",
   "metadata": {},
   "outputs": [],
   "source": [
    "name=input(\"Enter name =\")\n",
    "age =int(input(\"Enter age =\"))\n",
    "add = input(\"Enter add address\")\n",
    "\n",
    "\n",
    "info = f\"Hello World I am {name}. I am from {add}. I am {age}\" #string formatting garn ko lagi f use garne\n",
    "\n",
    "\n",
    "print(info)"
   ]
  },
  {
   "cell_type": "code",
   "execution_count": null,
   "id": "c3c56271",
   "metadata": {},
   "outputs": [],
   "source": [
    "name=input(\"Enter name =\")\n",
    "age =int(input(\"Enter age =\"))\n",
    "add = input(\"Enter add address\")\n",
    "\n",
    "\n",
    "info = \"Hello World I am {name}. I am from {add}. I am {age}\" #string formatting garn ko lagi f use garne\n",
    "\n",
    "print(info)"
   ]
  },
  {
   "cell_type": "code",
   "execution_count": null,
   "id": "bc7338bf",
   "metadata": {},
   "outputs": [],
   "source": [
    "s = \"\"\n",
    "n = int(input(\"enter n =\"))\n",
    "for i in range(n):\n",
    "    name = input(\"Enter name =\")\n",
    "    age = int(input(\"Enter age =\"))\n",
    "    add = input(\"Enter add address\")\n",
    "    info = f\"{name} {age} {add}\\n\"\n",
    "    s = s+info\n",
    "    \n",
    "print(s)\n"
   ]
  },
  {
   "cell_type": "code",
   "execution_count": 3,
   "id": "ab795b9d",
   "metadata": {},
   "outputs": [
    {
     "name": "stdout",
     "output_type": "stream",
     "text": [
      "Enter name =Ram\n",
      "Enter age =34\n",
      "Enter add addressKTM\n",
      "Enter Y for contiuney\n",
      "Enter name =Shyam\n",
      "Enter age =32\n",
      "Enter add addressKTM\n",
      "Enter Y for contiunen\n",
      "Ram 34 KTM\n",
      "Shyam 32 KTM\n",
      "\n"
     ]
    }
   ],
   "source": [
    "s = \"\"\n",
    "def dataEntry():\n",
    "    global s #s lai global bana ko ho\n",
    "    name = input(\"Enter name =\")\n",
    "    age = int(input(\"Enter age =\"))\n",
    "    add = input(\"Enter add address\")\n",
    "    info = f\"{name} {age} {add}\\n\"\n",
    "    s = s+info\n",
    "    x = input(\"Enter Y for contiune\")\n",
    "    if x =='y':\n",
    "        dataEntry()\n",
    "\n",
    "dataEntry()\n",
    "print(s)"
   ]
  },
  {
   "cell_type": "code",
   "execution_count": null,
   "id": "dd7e1805",
   "metadata": {},
   "outputs": [],
   "source": []
  }
 ],
 "metadata": {
  "kernelspec": {
   "display_name": "Python 3 (ipykernel)",
   "language": "python",
   "name": "python3"
  },
  "language_info": {
   "codemirror_mode": {
    "name": "ipython",
    "version": 3
   },
   "file_extension": ".py",
   "mimetype": "text/x-python",
   "name": "python",
   "nbconvert_exporter": "python",
   "pygments_lexer": "ipython3",
   "version": "3.9.7"
  }
 },
 "nbformat": 4,
 "nbformat_minor": 5
}
