{
 "cells": [
  {
   "cell_type": "markdown",
   "id": "4bf17eed",
   "metadata": {},
   "source": [
    "# Function"
   ]
  },
  {
   "cell_type": "code",
   "execution_count": 3,
   "id": "9ceb3843",
   "metadata": {},
   "outputs": [
    {
     "ename": "SyntaxError",
     "evalue": "invalid syntax (Temp/ipykernel_1588/3165853135.py, line 1)",
     "output_type": "error",
     "traceback": [
      "\u001b[1;36m  File \u001b[1;32m\"C:\\Users\\RDAHAL~1.SCI\\AppData\\Local\\Temp/ipykernel_1588/3165853135.py\"\u001b[1;36m, line \u001b[1;32m1\u001b[0m\n\u001b[1;33m    def cal()\u001b[0m\n\u001b[1;37m             ^\u001b[0m\n\u001b[1;31mSyntaxError\u001b[0m\u001b[1;31m:\u001b[0m invalid syntax\n"
     ]
    }
   ],
   "source": [
    "def cal()\n",
    "    l = int(input(\"Enter l = \"))\n",
    "    b = int(input(\"Enter b =\"))\n",
    "    a = l*b\n",
    "    print (a)\n",
    "    \n",
    "    \n",
    "cal()"
   ]
  },
  {
   "cell_type": "code",
   "execution_count": 4,
   "id": "bd925b5b",
   "metadata": {},
   "outputs": [],
   "source": [
    "#def and return"
   ]
  },
  {
   "cell_type": "code",
   "execution_count": null,
   "id": "d7093e89",
   "metadata": {},
   "outputs": [],
   "source": [
    "# Math function in python (defined fund)"
   ]
  }
 ],
 "metadata": {
  "kernelspec": {
   "display_name": "Python 3 (ipykernel)",
   "language": "python",
   "name": "python3"
  },
  "language_info": {
   "codemirror_mode": {
    "name": "ipython",
    "version": 3
   },
   "file_extension": ".py",
   "mimetype": "text/x-python",
   "name": "python",
   "nbconvert_exporter": "python",
   "pygments_lexer": "ipython3",
   "version": "3.9.7"
  }
 },
 "nbformat": 4,
 "nbformat_minor": 5
}
