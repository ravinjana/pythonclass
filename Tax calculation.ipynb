{
 "cells": [
  {
   "cell_type": "code",
   "execution_count": 1,
   "id": "8a78f62a",
   "metadata": {},
   "outputs": [
    {
     "name": "stdout",
     "output_type": "stream",
     "text": [
      "Staff Name =ravi\n",
      "Marital Status =married\n",
      "Enter gender =male\n",
      "Enter Total Income =134787923\n",
      "Enter actual CIT deposit =4324329\n",
      "Cit for deduction = 500000\n",
      "Enter Remote Allowance =0\n",
      "Enter Perimum Paid =3434343\n",
      "Insurance perimum = 25000\n",
      "Total Taxable Amount = 134262923\n"
     ]
    }
   ],
   "source": [
    "limitisu=25000\n",
    "limitcit=500000\n",
    "name=str(input(\"Staff Name =\"))\n",
    "marstatus=str(input(\"Marital Status =\"))\n",
    "gender=str(input(\"Enter gender =\"))\n",
    "income=int(input(\"Enter Total Income =\"))\n",
    "cit=int(input(\"Enter actual CIT deposit =\"))\n",
    "if (limitcit>cit):\n",
    "    print(\"Cit for deduction =\",cit)\n",
    "else:\n",
    "    print(\"Cit for deduction =\",limitcit)\n",
    "remoteAll=int(input(\"Enter Remote Allowance =\"))\n",
    "isu=int(input(\"Enter Perimum Paid =\"))\n",
    "if (limitisu>isu):\n",
    "    print(\"Actual perimum for salary calculation =\",isu)\n",
    "else:\n",
    "    print(\"Insurance perimum =\",limitisu)\n",
    "if (limitcit>cit):\n",
    "    print(\"Total Taxable Amount =\",income-remoteAll-cit-isu)\n",
    "elif(limitisu>isu):\n",
    "    print(\"Total Taxable Amount =\",income-remoteAll-cit-isu)\n",
    "elif (limitcit<cit):\n",
    "    print(\"Total Taxable Amount =\",income-remoteAll-limitcit-limitisu)\n",
    "elif (limitisu<isu):\n",
    "    print(\"Total Taxable Amount =\",income-remoteAll-limitcit-limitisu)\n",
    "if marstatus== \"Married\" and gender == \"Male\":\n",
    "    print(\"1stslab = 450000\")\n",
    "if marstatus==\"Single\" and gender == \"Male\":\n",
    "    print(\"1st Slab = 400000\")"
   ]
  },
  {
   "cell_type": "code",
   "execution_count": null,
   "id": "46b23986",
   "metadata": {},
   "outputs": [],
   "source": []
  },
  {
   "cell_type": "code",
   "execution_count": null,
   "id": "783166b0",
   "metadata": {},
   "outputs": [],
   "source": []
  }
 ],
 "metadata": {
  "kernelspec": {
   "display_name": "Python 3 (ipykernel)",
   "language": "python",
   "name": "python3"
  },
  "language_info": {
   "codemirror_mode": {
    "name": "ipython",
    "version": 3
   },
   "file_extension": ".py",
   "mimetype": "text/x-python",
   "name": "python",
   "nbconvert_exporter": "python",
   "pygments_lexer": "ipython3",
   "version": "3.9.7"
  }
 },
 "nbformat": 4,
 "nbformat_minor": 5
}
