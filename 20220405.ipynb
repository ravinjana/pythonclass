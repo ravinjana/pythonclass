{
 "cells": [
  {
   "cell_type": "markdown",
   "id": "22ebc29b",
   "metadata": {},
   "source": [
    "# While looping"
   ]
  },
  {
   "cell_type": "code",
   "execution_count": null,
   "id": "c5bce533",
   "metadata": {},
   "outputs": [],
   "source": [
    "# #Basic syntax :\n",
    "# While <condition>:\n",
    "#     <Operation>"
   ]
  },
  {
   "cell_type": "code",
   "execution_count": null,
   "id": "08643ba7",
   "metadata": {},
   "outputs": [],
   "source": [
    "while true: #Condition\n",
    "    print(\"Hello world\") # Operation-result"
   ]
  },
  {
   "cell_type": "code",
   "execution_count": null,
   "id": "d9d142a8",
   "metadata": {},
   "outputs": [],
   "source": [
    "a=0\n",
    "while a<5: # a ko value jabsam 5 sam hunxa taba sam\n",
    "    print(a,\"Hello world\")\n",
    "    a = a+1"
   ]
  },
  {
   "cell_type": "code",
   "execution_count": null,
   "id": "2fde80e8",
   "metadata": {},
   "outputs": [],
   "source": [
    "a=5\n",
    "while a>=0: # a ko value jabsam 5 sam hunxa taba sam\n",
    "    print(a,\"Hello world\")\n",
    "    a = a-1"
   ]
  },
  {
   "cell_type": "code",
   "execution_count": null,
   "id": "7553c6d3",
   "metadata": {},
   "outputs": [],
   "source": [
    "a=1 #start from\n",
    "while a<5: # a ko value jabsam 5 sam hunxa taba sam\n",
    "    print(a,\"Hello world\")\n",
    "    a = a+1"
   ]
  },
  {
   "cell_type": "code",
   "execution_count": null,
   "id": "4f7f6cb5",
   "metadata": {},
   "outputs": [],
   "source": [
    "n = int(input(\"Enter the value =\"))\n",
    "a = 1\n",
    "while a<=20:\n",
    "    print(a*n)\n",
    "    a = a+1"
   ]
  },
  {
   "cell_type": "code",
   "execution_count": null,
   "id": "b80f0fd8",
   "metadata": {},
   "outputs": [],
   "source": [
    "n = int(input(\"Enter the value =\"))\n",
    "a = 1\n",
    "while a<=20:\n",
    "    print(n,\"*\",a,\"=\",a*n)\n",
    "    a = a+1"
   ]
  },
  {
   "cell_type": "code",
   "execution_count": null,
   "id": "7e28e490",
   "metadata": {},
   "outputs": [],
   "source": [
    "n = int(input(\"Enter the value =\"))\n",
    "b = int(input(\"Enter you limit for table =\"))\n",
    "a = 1\n",
    "while a<=b:\n",
    "    print(n,\"*\",a,\"=\",a*n)\n",
    "    a = a+1"
   ]
  },
  {
   "cell_type": "code",
   "execution_count": null,
   "id": "1652104b",
   "metadata": {},
   "outputs": [],
   "source": [
    "nn = int(input(\"Enter the value =\"))\n",
    "a = 1\n",
    "while a<=10:\n",
    "    print(n,\"*\",a,\"=\",a*n)\n",
    "    if a ==5:\n",
    "        x=input(\"Enter y for continue or other for break = \")\n",
    "        if x !='y':\n",
    "            break\n",
    "    a = a+1"
   ]
  },
  {
   "cell_type": "code",
   "execution_count": null,
   "id": "be273768",
   "metadata": {},
   "outputs": [],
   "source": [
    "s = 0 #\n",
    "a = 0 #starting\n",
    "n = int(input(\"Enter value =\"))\n",
    "while a<n:\n",
    "    x = int(input(\"Enter Value =\")) #value required from user\n",
    "#         print(s,\"+\",X,\"=\",s+x) = not use in syntex 3\n",
    "    s = s+x\n",
    "    a+=1 # continue \n",
    "    \n",
    "print(s)"
   ]
  },
  {
   "cell_type": "code",
   "execution_count": null,
   "id": "c1c03d88",
   "metadata": {},
   "outputs": [],
   "source": [
    "#Ex; - 5! = 1*2*3*4*5"
   ]
  },
  {
   "cell_type": "code",
   "execution_count": null,
   "id": "59ffbd03",
   "metadata": {},
   "outputs": [],
   "source": [
    "fac = 1 #changable variable\n",
    "a = 1 #starting point\n",
    "n = int(input(\"Enter n =\"))\n",
    "while a<=n: #till continue program \n",
    "    fac = fac*a\n",
    "    a = a+1\n",
    "print(fac)"
   ]
  },
  {
   "cell_type": "code",
   "execution_count": null,
   "id": "6248f1e4",
   "metadata": {},
   "outputs": [],
   "source": [
    "a =\"Python\" #string lai user le diya ko value continue garne\n",
    "l =len(a)\n",
    "i=0 #starting\n",
    "while i<0:\n",
    "    print(a[1])\n",
    "    i= i+1"
   ]
  },
  {
   "cell_type": "code",
   "execution_count": 3,
   "id": "ce26f776",
   "metadata": {},
   "outputs": [
    {
     "name": "stdout",
     "output_type": "stream",
     "text": [
      "Enter a=ravi dahal\n",
      "ravidahal"
     ]
    }
   ],
   "source": [
    "a = input (\"Enter a=\")\n",
    "l = len(a)\n",
    "i = 0\n",
    "while i<l:\n",
    "    if a[i] != \" \":\n",
    "        print(a[i], end = \"\")\n",
    "    i = i+1"
   ]
  },
  {
   "cell_type": "code",
   "execution_count": null,
   "id": "fc96ac9d",
   "metadata": {},
   "outputs": [],
   "source": []
  }
 ],
 "metadata": {
  "kernelspec": {
   "display_name": "Python 3 (ipykernel)",
   "language": "python",
   "name": "python3"
  },
  "language_info": {
   "codemirror_mode": {
    "name": "ipython",
    "version": 3
   },
   "file_extension": ".py",
   "mimetype": "text/x-python",
   "name": "python",
   "nbconvert_exporter": "python",
   "pygments_lexer": "ipython3",
   "version": "3.9.7"
  }
 },
 "nbformat": 4,
 "nbformat_minor": 5
}
