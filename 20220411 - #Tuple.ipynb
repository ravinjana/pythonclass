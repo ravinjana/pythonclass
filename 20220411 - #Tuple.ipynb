{
 "cells": [
  {
   "cell_type": "code",
   "execution_count": null,
   "id": "60d2f05e",
   "metadata": {},
   "outputs": [],
   "source": [
    "# #tuple = same as list ho..list [ ] ma hunxa vane...tuple () ma hunxa\n",
    "    # Indexed\n",
    "    # Ordered\n",
    "    # Multiple and duplicate data\n",
    "    # imutable\n",
    "    "
   ]
  },
  {
   "cell_type": "code",
   "execution_count": null,
   "id": "34d46141",
   "metadata": {},
   "outputs": [],
   "source": [
    "#ordered\n",
    "a=('apple','ball','cat','dog','fish')\n",
    "print(a)\n",
    "print(type(a))"
   ]
  },
  {
   "cell_type": "code",
   "execution_count": null,
   "id": "e78dceb0",
   "metadata": {},
   "outputs": [],
   "source": [
    "#Indexed\n",
    "a=('apple','ball','cat','dog','fish')\n",
    "print (a[0:4:2])"
   ]
  },
  {
   "cell_type": "code",
   "execution_count": null,
   "id": "e45ffcaa",
   "metadata": {},
   "outputs": [],
   "source": [
    "\n",
    "a=('apple','ball','cat','dog','fish')\n",
    "b=(1,2,3,4,5)\n",
    "c=a+b\n",
    "c\n"
   ]
  },
  {
   "cell_type": "code",
   "execution_count": null,
   "id": "4d413119",
   "metadata": {},
   "outputs": [],
   "source": [
    "#imutable"
   ]
  },
  {
   "cell_type": "code",
   "execution_count": null,
   "id": "e2266730",
   "metadata": {},
   "outputs": [],
   "source": [
    "#Note : -Tuple ma append, extend, insert, no update, del, pop, remove\n"
   ]
  },
  {
   "cell_type": "code",
   "execution_count": null,
   "id": "da47ec4d",
   "metadata": {},
   "outputs": [],
   "source": [
    "a=('Apple',\"BalL\")\n",
    "b=('Apple')\n",
    "print(type(a))\n",
    "print(type(b))\n"
   ]
  },
  {
   "cell_type": "code",
   "execution_count": null,
   "id": "f094e92e",
   "metadata": {},
   "outputs": [],
   "source": [
    "t = tuple()\n",
    "n = int(input('enter n ='))\n",
    "for i in range(n):\n",
    "    x=input(\"enter n=\")\n",
    "    t=t+(x,)\n",
    "print(t)"
   ]
  },
  {
   "cell_type": "code",
   "execution_count": null,
   "id": "8892cb42",
   "metadata": {},
   "outputs": [],
   "source": [
    "a=('Apple',\"Ball\",\"Cat\")\n",
    "b=list(a)\n",
    "a=tuple(b)\n",
    "a"
   ]
  },
  {
   "cell_type": "code",
   "execution_count": null,
   "id": "32aad1fd",
   "metadata": {},
   "outputs": [],
   "source": [
    "t=list(\"Hello\")\n",
    "t"
   ]
  },
  {
   "cell_type": "code",
   "execution_count": null,
   "id": "af9ba2c5",
   "metadata": {},
   "outputs": [],
   "source": [
    "#Sum, min, sum, sorted kam garn milxa.\n"
   ]
  },
  {
   "cell_type": "code",
   "execution_count": null,
   "id": "2f0e6ffe",
   "metadata": {},
   "outputs": [],
   "source": [
    "#Function ma pani tuple use garn milxa.."
   ]
  },
  {
   "cell_type": "code",
   "execution_count": null,
   "id": "e5406685",
   "metadata": {},
   "outputs": [],
   "source": [
    "def cal():\n",
    "    a=10\n",
    "    v=15\n",
    "    return v,a\n",
    "\n",
    "print(cal())"
   ]
  },
  {
   "cell_type": "code",
   "execution_count": null,
   "id": "3bc3248b",
   "metadata": {},
   "outputs": [],
   "source": [
    "#\n",
    "info=[]\n",
    "n = int(input('enter n ='))\n",
    "for i in range (n):\n",
    "    name = input('enter name =')\n",
    "    age = int(input('Enter age ='))\n",
    "    add = input(\"Enter add =\")\n",
    "    data = [name, age, add]\n",
    "    info.append(data)\n",
    "    \n",
    "print(info)"
   ]
  },
  {
   "cell_type": "code",
   "execution_count": null,
   "id": "c053ed4f",
   "metadata": {},
   "outputs": [],
   "source": [
    "a=[['ravi', 32, 'KTM'], ['shaym', 43, 'ktm']]\n",
    "a.append(['Nabin',32,'chitwan'])\n",
    "a"
   ]
  },
  {
   "cell_type": "code",
   "execution_count": null,
   "id": "769da2b8",
   "metadata": {},
   "outputs": [],
   "source": [
    "a[0]"
   ]
  },
  {
   "cell_type": "code",
   "execution_count": null,
   "id": "fc6dd054",
   "metadata": {},
   "outputs": [],
   "source": [
    "a=[['ravi', 32, 'KTM'], ['shaym', 43, 'ktm']]\n",
    "print(a[0][0])\n",
    "print(a[0][1])\n",
    "print(a[0][2])\n",
    "print(a[1][0])\n",
    "print(a[1][1])\n",
    "print(a[1][2])"
   ]
  },
  {
   "cell_type": "code",
   "execution_count": null,
   "id": "4555f765",
   "metadata": {},
   "outputs": [],
   "source": [
    "print(a[1][1])"
   ]
  },
  {
   "cell_type": "code",
   "execution_count": null,
   "id": "d6ebc54a",
   "metadata": {},
   "outputs": [],
   "source": []
  },
  {
   "cell_type": "code",
   "execution_count": null,
   "id": "83064a1e",
   "metadata": {},
   "outputs": [],
   "source": [
    "#list vitra ko data change garn\n",
    "a=[['ravi', 32, 'KTM'], ['shaym', 43, 'ktm']]\n",
    "a[0]=['ram',34,'ktm']\n",
    "a"
   ]
  },
  {
   "cell_type": "code",
   "execution_count": null,
   "id": "1bff08b5",
   "metadata": {},
   "outputs": [],
   "source": [
    "#list vitra ko data change garn\n",
    "a=[['ravi', 32, 'KTM'], ['shaym', 43, 'ktm']]\n",
    "a[0][0]='ram'\n",
    "a"
   ]
  },
  {
   "cell_type": "code",
   "execution_count": null,
   "id": "5b4f52d7",
   "metadata": {},
   "outputs": [],
   "source": [
    "#list vitra ko data change garn\n",
    "a=[['ravi', 32, 'KTM'], ['shaym', 43, 'ktm']]\n",
    "del a[0]\n"
   ]
  },
  {
   "cell_type": "code",
   "execution_count": null,
   "id": "e57d4a6d",
   "metadata": {},
   "outputs": [],
   "source": [
    "a=[['ravi', 32, 'KTM'], ['shaym', 43, 'ktm']]\n",
    "search = input(\"enter search value = \")\n",
    "for i in a:\n",
    "    if search in i:\n",
    "        print(i)"
   ]
  },
  {
   "cell_type": "code",
   "execution_count": null,
   "id": "507239f1",
   "metadata": {},
   "outputs": [],
   "source": [
    "a=[['ravi', 32, 'KTM'], ['shaym', 43, 'KTM'],['hari',43,'Btw']]\n",
    "search = input(\"enter search value = \")\n",
    "for i in a:\n",
    "    if search in i:\n",
    "        a.remove(i)\n",
    "print(a)"
   ]
  },
  {
   "cell_type": "code",
   "execution_count": 5,
   "id": "3c94d641",
   "metadata": {},
   "outputs": [
    {
     "name": "stdout",
     "output_type": "stream",
     "text": [
      "enter search value = ravi\n",
      "[['shaym', 43, 'KTM'], ['hari', 43, 'Btw']]\n",
      "[['ravi', 32, 'KTM']]\n"
     ]
    }
   ],
   "source": [
    "l=[]\n",
    "a=[['ravi', 32, 'KTM'], ['shaym', 43, 'KTM'],['hari',43,'Btw']]\n",
    "search = input(\"enter search value = \")\n",
    "for i in a:\n",
    "    if search in i:\n",
    "        l.append(i)\n",
    "        a.remove(i)\n",
    "        \n",
    "print(a)\n",
    "print(l)"
   ]
  },
  {
   "cell_type": "code",
   "execution_count": null,
   "id": "0d5a420c",
   "metadata": {},
   "outputs": [],
   "source": []
  }
 ],
 "metadata": {
  "kernelspec": {
   "display_name": "Python 3 (ipykernel)",
   "language": "python",
   "name": "python3"
  },
  "language_info": {
   "codemirror_mode": {
    "name": "ipython",
    "version": 3
   },
   "file_extension": ".py",
   "mimetype": "text/x-python",
   "name": "python",
   "nbconvert_exporter": "python",
   "pygments_lexer": "ipython3",
   "version": "3.9.7"
  }
 },
 "nbformat": 4,
 "nbformat_minor": 5
}
